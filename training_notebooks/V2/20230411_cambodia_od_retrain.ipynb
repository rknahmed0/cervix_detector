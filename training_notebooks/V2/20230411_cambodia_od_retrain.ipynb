{
 "cells": [
  {
   "cell_type": "code",
   "execution_count": 1,
   "id": "5ffb4d17",
   "metadata": {},
   "outputs": [
    {
     "name": "stdout",
     "output_type": "stream",
     "text": [
      "3.8.8 (default, Feb 24 2021, 21:46:12) \n",
      "[GCC 7.3.0]\n",
      "1.9.0a0+2ecb2c7\n"
     ]
    },
    {
     "name": "stderr",
     "output_type": "stream",
     "text": [
      "/opt/conda/lib/python3.8/site-packages/tqdm/auto.py:22: TqdmWarning: IProgress not found. Please update jupyter and ipywidgets. See https://ipywidgets.readthedocs.io/en/stable/user_install.html\n",
      "  from .autonotebook import tqdm as notebook_tqdm\n"
     ]
    }
   ],
   "source": [
    "import os, csv, json, cv2, random, time, sys, shutil\n",
    "import numpy as np\n",
    "import pandas as pd\n",
    "\n",
    "import multiprocessing\n",
    "from joblib import Parallel, delayed\n",
    "\n",
    "from tqdm import tqdm\n",
    "from matplotlib import pyplot as plt\n",
    "from zipfile import ZipFile\n",
    "from PIL import Image, ImageDraw\n",
    "\n",
    "import torch\n",
    "\n",
    "print(sys.version)\n",
    "print(torch.__version__)"
   ]
  },
  {
   "cell_type": "code",
   "execution_count": 2,
   "id": "9694323c",
   "metadata": {},
   "outputs": [],
   "source": [
    "base_dir = '/mnt/2015P002510/rakin/cervical_cancer/cervix_classification/portability/20230411_liger_cambodia_images_OD_retrain/SRA_cambodia_images_curated/'"
   ]
  },
  {
   "cell_type": "code",
   "execution_count": 3,
   "id": "3f14d87b",
   "metadata": {},
   "outputs": [
    {
     "data": {
      "text/plain": [
       "484"
      ]
     },
     "execution_count": 3,
     "metadata": {},
     "output_type": "execute_result"
    }
   ],
   "source": [
    "len(os.listdir(base_dir))"
   ]
  },
  {
   "cell_type": "code",
   "execution_count": 4,
   "id": "b48d460d",
   "metadata": {},
   "outputs": [
    {
     "name": "stdout",
     "output_type": "stream",
     "text": [
      "jpeg\n",
      "txt\n"
     ]
    }
   ],
   "source": [
    "!find /mnt/2015P002510/rakin/cervical_cancer/cervix_classification/portability/20230411_liger_cambodia_images_OD_retrain/SRA_cambodia_images_curated/ -type f | perl -ne 'print $1 if m/\\.([^.\\/]+)$/' | sort -u"
   ]
  },
  {
   "cell_type": "code",
   "execution_count": 5,
   "id": "eef5003d",
   "metadata": {},
   "outputs": [],
   "source": [
    "all_files = os.listdir(base_dir)"
   ]
  },
  {
   "cell_type": "code",
   "execution_count": 6,
   "id": "291875fc",
   "metadata": {},
   "outputs": [
    {
     "name": "stdout",
     "output_type": "stream",
     "text": [
      "484\n",
      "jpeg: 242\n",
      "txt: 242\n",
      "total: 484\n"
     ]
    }
   ],
   "source": [
    "final_files = all_files\n",
    "\n",
    "print(len(final_files))\n",
    "\n",
    "count_ext = {}\n",
    "extensions = ['jpeg', 'txt']\n",
    "for ext in extensions:\n",
    "    count_ext[ext] = len([item for item in final_files if item[item.find('.')+1:]==ext])\n",
    "    print(f'{ext}: {count_ext[ext]}')\n",
    "    \n",
    "print(f'total: {sum(count_ext.values())}')"
   ]
  },
  {
   "cell_type": "code",
   "execution_count": 7,
   "id": "3f1d7787",
   "metadata": {},
   "outputs": [
    {
     "name": "stdout",
     "output_type": "stream",
     "text": [
      "True\n"
     ]
    }
   ],
   "source": [
    "names = [item[:item.find('.')] for item in final_files if item[item.find('.')+1:]=='txt']\n",
    "\n",
    "all_image_txt_present = [True if ((item + '.jpg' in final_files or item + '.jpeg' in final_files) and item + '.txt' in final_files) else False for item in names]\n",
    "\n",
    "print(all(all_image_txt_present))"
   ]
  },
  {
   "cell_type": "code",
   "execution_count": 8,
   "id": "4361fc34",
   "metadata": {},
   "outputs": [
    {
     "data": {
      "text/plain": [
       "array([2])"
      ]
     },
     "execution_count": 8,
     "metadata": {},
     "output_type": "execute_result"
    }
   ],
   "source": [
    "names = [item[:item.find('.')] for item in final_files]\n",
    "unique_names = list(np.unique(names))\n",
    "\n",
    "two_files = [names.count(item) for item in unique_names]\n",
    "np.unique(two_files)"
   ]
  },
  {
   "cell_type": "markdown",
   "id": "02d6c178",
   "metadata": {},
   "source": [
    "# Final files logistics after removal"
   ]
  },
  {
   "cell_type": "code",
   "execution_count": 9,
   "id": "a760d729",
   "metadata": {},
   "outputs": [
    {
     "name": "stdout",
     "output_type": "stream",
     "text": [
      "484\n",
      "jpeg: 242\n",
      "txt: 242\n",
      "total: 484\n"
     ]
    }
   ],
   "source": [
    "final_files = sorted(final_files)\n",
    "print(len(final_files))\n",
    "\n",
    "count_ext = {}\n",
    "extensions = ['jpeg', 'txt']\n",
    "for ext in extensions:\n",
    "    count_ext[ext] = len([item for item in final_files if item[item.find('.')+1:]==ext])\n",
    "    print(f'{ext}: {count_ext[ext]}')\n",
    "    \n",
    "print(f'total: {sum(count_ext.values())}')"
   ]
  },
  {
   "cell_type": "markdown",
   "id": "da734d33",
   "metadata": {},
   "source": [
    "# Split into train/val/test 80:10:10"
   ]
  },
  {
   "cell_type": "code",
   "execution_count": 10,
   "id": "5984efd0",
   "metadata": {},
   "outputs": [
    {
     "name": "stdout",
     "output_type": "stream",
     "text": [
      "484\n",
      "jpeg: 242\n",
      "txt: 242\n",
      "total: 484\n"
     ]
    }
   ],
   "source": [
    "base_dir = '/mnt/2015P002510/rakin/cervical_cancer/cervix_classification/portability/20230411_liger_cambodia_images_OD_retrain/SRA_cambodia_images_curated/'\n",
    "final_files = os.listdir(base_dir)\n",
    "print(len(final_files))\n",
    "\n",
    "count_ext = {}\n",
    "extensions = ['jpeg', 'txt']\n",
    "for ext in extensions:\n",
    "    count_ext[ext] = len([item for item in final_files if item[item.find('.')+1:]==ext])\n",
    "    print(f'{ext}: {count_ext[ext]}')\n",
    "    \n",
    "print(f'total: {sum(count_ext.values())}')"
   ]
  },
  {
   "cell_type": "code",
   "execution_count": 11,
   "id": "6792c179",
   "metadata": {},
   "outputs": [
    {
     "name": "stdout",
     "output_type": "stream",
     "text": [
      "True\n",
      "242\n",
      "242\n"
     ]
    }
   ],
   "source": [
    "final_images = [item for item in final_files if item[item.find('.')+1:] != 'txt']\n",
    "final_labels = [item for item in final_files if item[item.find('.')+1:] == 'txt']\n",
    "\n",
    "final_images = sorted(final_images)\n",
    "final_labels = sorted(final_labels)\n",
    "\n",
    "final_image_names = [item[:item.find('.')] for item in final_images]\n",
    "final_label_names = [item[:item.find('.')] for item in final_labels]\n",
    "\n",
    "print(final_image_names == final_label_names)\n",
    "\n",
    "print(len(final_images))\n",
    "print(len(final_labels))"
   ]
  },
  {
   "cell_type": "code",
   "execution_count": 12,
   "id": "a8bbef12",
   "metadata": {},
   "outputs": [
    {
     "name": "stdout",
     "output_type": "stream",
     "text": [
      "242\n",
      "242\n",
      "True\n",
      "/mnt/2015P002510/rakin/cervical_cancer/cervix_classification/portability/20230411_liger_cambodia_images_OD_retrain/SRA_cambodia_images_curated/MSK 000034 008.jpeg\n",
      "/mnt/2015P002510/rakin/cervical_cancer/cervix_classification/portability/20230411_liger_cambodia_images_OD_retrain/SRA_cambodia_images_curated/MSK 000034 008.txt\n"
     ]
    }
   ],
   "source": [
    "final_image_paths = [os.path.join(base_dir, item) for item in final_images]\n",
    "final_label_paths = [os.path.join(base_dir, item) for item in final_labels]\n",
    "\n",
    "print(len(final_image_paths))\n",
    "print(len(final_label_paths))\n",
    "\n",
    "print([item[:item.find('.')] for item in final_image_paths] == [item[:item.find('.')] for item in final_label_paths])\n",
    "\n",
    "print(final_image_paths[len(final_image_paths)-1])\n",
    "print(final_label_paths[len(final_image_paths)-1])"
   ]
  },
  {
   "cell_type": "code",
   "execution_count": 13,
   "id": "7d0daeac",
   "metadata": {},
   "outputs": [],
   "source": [
    "# # Ordered selection\n",
    "\n",
    "# all_image_path = final_image_paths\n",
    "# all_label = final_label_paths\n",
    "\n",
    "# pathFileTrain = all_image_path[0:int(.8*len(all_image_path))]\n",
    "# pathFileValid = all_image_path[int(.8*len(all_image_path)):int(.9*len(all_image_path))]\n",
    "# pathFileTest = all_image_path[int(.9*len(all_image_path)):]\n",
    "\n",
    "# labelTrain = all_label[0:int(.8*len(all_image_path))]\n",
    "# labelValid = all_label[int(.8*len(all_image_path)):int(.9*len(all_image_path))]\n",
    "# labelTest = all_label[int(.9*len(all_image_path)):]\n",
    "\n",
    "# print(\n",
    "#     f\"Training count: {len(pathFileTrain)}, Validation count: \"\n",
    "#     f\"{len(pathFileValid)}, Test count: {len(pathFileTest)}\")"
   ]
  },
  {
   "cell_type": "code",
   "execution_count": 14,
   "id": "9d9be02e",
   "metadata": {},
   "outputs": [
    {
     "name": "stdout",
     "output_type": "stream",
     "text": [
      "Training count: 194, Validation count: 24, internal Test count: 24\n"
     ]
    }
   ],
   "source": [
    "# Random selection\n",
    "\n",
    "np.random.seed(0)\n",
    "\n",
    "all_image_path = final_image_paths\n",
    "all_label = final_label_paths\n",
    "\n",
    "val_frac = 0.1\n",
    "test_frac = 0.1\n",
    "length = len(all_image_path)\n",
    "indices = np.arange(length)\n",
    "np.random.shuffle(indices)\n",
    "\n",
    "test_split = int(test_frac * length)\n",
    "val_split = int(val_frac * length) + test_split\n",
    "test_indices = indices[:test_split]\n",
    "val_indices = indices[test_split:val_split]\n",
    "train_indices = indices[val_split:]\n",
    "\n",
    "pathFileTrain = [all_image_path[i] for i in train_indices]\n",
    "labelTrain = [all_label[i] for i in train_indices]\n",
    "pathFileValid = [all_image_path[i] for i in val_indices]\n",
    "labelValid = [all_label[i] for i in val_indices]\n",
    "pathFileiTest = [all_image_path[i] for i in test_indices]\n",
    "labeliTest = [all_label[i] for i in test_indices]\n",
    "\n",
    "print(\n",
    "    f\"Training count: {len(pathFileTrain)}, Validation count: \"\n",
    "    f\"{len(pathFileValid)}, internal Test count: {len(pathFileiTest)}\")"
   ]
  },
  {
   "cell_type": "code",
   "execution_count": 15,
   "id": "fb986c45",
   "metadata": {},
   "outputs": [
    {
     "name": "stdout",
     "output_type": "stream",
     "text": [
      "True\n",
      "True\n",
      "True\n"
     ]
    }
   ],
   "source": [
    "for list_1, list_2 in zip([pathFileTrain, pathFileValid, pathFileiTest],[labelTrain, labelValid, labeliTest]):\n",
    "    new_list_1 = [item[:item.find('.')] for item in list_1]\n",
    "    new_list_2 = [item[:item.find('.')] for item in list_2]\n",
    "    print(new_list_1 == new_list_2)"
   ]
  },
  {
   "cell_type": "code",
   "execution_count": 17,
   "id": "d11079c1",
   "metadata": {},
   "outputs": [
    {
     "data": {
      "text/plain": [
       "[None, None, None]"
      ]
     },
     "execution_count": 17,
     "metadata": {},
     "output_type": "execute_result"
    }
   ],
   "source": [
    "base_dir = '/mnt/2015P002510/rakin/cervical_cancer/cervix_classification/portability/20230411_liger_cambodia_images_OD_retrain/SRA_cambodia_images_curated/'\n",
    "dest_dir = '/mnt/2015P002510/rakin/datasets/20230411_cambodia_80_10_10/'\n",
    "\n",
    "src_paths = [labelTrain, labelValid, labeliTest] # [pathFileTrain, pathFileValid, pathFileiTest], [labelTrain, labelValid, labeliTest]\n",
    "tr_va_te = ['train','val','test']\n",
    "im_la = ['images','labels']\n",
    "\n",
    "def copy_splits(paths_to_copy, t_v_t, dest_dir, i_l):\n",
    "    for item in paths_to_copy:\n",
    "        dest = shutil.copy2(item, os.path.join(dest_dir, i_l, t_v_t))\n",
    "    \n",
    "num_cores = multiprocessing.cpu_count()\n",
    "# for src_paths, t_v_t in zip([pathFileTrain, pathFileValid, pathFileiTest], ['train','val','test']):\n",
    "Parallel(n_jobs=num_cores)(delayed(copy_splits)(paths_to_copy, t_v_t, dest_dir, im_la[1]) for paths_to_copy, t_v_t in zip(src_paths, tr_va_te))"
   ]
  },
  {
   "cell_type": "code",
   "execution_count": 18,
   "id": "6f45726f",
   "metadata": {},
   "outputs": [
    {
     "name": "stdout",
     "output_type": "stream",
     "text": [
      "True\n",
      "True\n",
      "True\n"
     ]
    }
   ],
   "source": [
    "dest_dir = '/mnt/2015P002510/rakin/datasets/20230411_cambodia_80_10_10/'\n",
    "tr_va_te = ['train','val','test']\n",
    "\n",
    "for t_v_t in tr_va_te:\n",
    "    print(sorted([item[:item.find('.')] for item in os.listdir(os.path.join(dest_dir, 'images', t_v_t))]) == sorted([item[:item.find('.')] for item in os.listdir(os.path.join(dest_dir, 'labels', t_v_t))]))"
   ]
  },
  {
   "cell_type": "code",
   "execution_count": 19,
   "id": "87aca94b",
   "metadata": {},
   "outputs": [],
   "source": [
    "# base_dir = '/mnt/2015P002510/rakin/datasets/cervix_full_dataset_detection/images'\n",
    "# zip_extract_dir = '/mnt/2015P002510/rakin/datasets/20221101_full_dataset_LIGER_80_10_10/images'\n",
    "\n",
    "# def extract_image_dir(base_dir, train_val_test, zip_extract_dir):\n",
    "#     with ZipFile(os.path.join(base_dir, train_val_test + '.zip'), 'r') as zipObj:\n",
    "#         zipObj.extractall(os.path.join(zip_extract_dir, train_val_test))\n",
    "        \n",
    "# start = time.time()\n",
    "\n",
    "# for train_val_test in ['train', 'val', 'test', 'test2']:\n",
    "#     extract_image_dir(base_dir, train_val_test, zip_extract_dir)\n",
    "\n",
    "# end = time.time()\n",
    "# print(end - start)"
   ]
  },
  {
   "cell_type": "code",
   "execution_count": 21,
   "id": "be6b126d",
   "metadata": {},
   "outputs": [
    {
     "data": {
      "text/plain": [
       "[None, None, None]"
      ]
     },
     "execution_count": 21,
     "metadata": {},
     "output_type": "execute_result"
    }
   ],
   "source": [
    "dest_dir = '/mnt/2015P002510/rakin/datasets/20221101_full_dataset_LIGER_80_10_10/'\n",
    "\n",
    "src_paths = [labelTrain, labelValid, labeliTest] # [pathFileTrain, pathFileValid, pathFileiTest], [labelTrain, labelValid, labeliTest]\n",
    "tr_va_te = ['train','val','test']\n",
    "im_la = ['images','labels']\n",
    "\n",
    "def copy_splits(paths_to_copy, t_v_t, dest_dir, i_l):\n",
    "    for item in paths_to_copy:\n",
    "        dest = shutil.copy2(item, os.path.join(dest_dir, i_l, t_v_t))\n",
    "    \n",
    "num_cores = multiprocessing.cpu_count()\n",
    "# for src_paths, t_v_t in zip([pathFileTrain, pathFileValid, pathFileiTest], ['train','val','test']):\n",
    "Parallel(n_jobs=num_cores)(delayed(copy_splits)(paths_to_copy, t_v_t, dest_dir, im_la[1]) for paths_to_copy, t_v_t in zip(src_paths, tr_va_te))"
   ]
  },
  {
   "cell_type": "code",
   "execution_count": 23,
   "id": "b0f614b3",
   "metadata": {},
   "outputs": [
    {
     "name": "stdout",
     "output_type": "stream",
     "text": [
      "True\n",
      "True\n",
      "True\n"
     ]
    }
   ],
   "source": [
    "dest_dir = '/mnt/2015P002510/rakin/datasets/20221101_full_dataset_LIGER_80_10_10/'\n",
    "tr_va_te = ['train','val','test']\n",
    "\n",
    "for t_v_t in tr_va_te:\n",
    "    print(sorted([item[:item.find('.')] for item in os.listdir(os.path.join(dest_dir, 'images', t_v_t))]) == sorted([item[:item.find('.')] for item in os.listdir(os.path.join(dest_dir, 'labels', t_v_t))]))"
   ]
  },
  {
   "cell_type": "markdown",
   "id": "10f5441c",
   "metadata": {},
   "source": [
    "## Verify that the bounding box labels are correct on the image and correspond to reasonable labelling"
   ]
  },
  {
   "cell_type": "code",
   "execution_count": 2,
   "id": "8969549e",
   "metadata": {},
   "outputs": [],
   "source": [
    "def get_OD_output_dict(img_store_dir, txt_store_dir):\n",
    "    image_files = [os.path.join(img_store_dir, img_file) for img_file in os.listdir(img_store_dir) if img_file[img_file.find('.')+1:] != 'txt']\n",
    "    annotation_files = [image_file.replace(image_file[(image_file.find(\".\")):], '.txt') for image_file in image_files]\n",
    "    \n",
    "    record_list = []\n",
    "    \n",
    "    for image_file, annotation_file in zip(image_files, annotation_files):\n",
    "        record = {}\n",
    "        with open(annotation_file, \"r\") as file:\n",
    "            annotation_list = file.read().split(\"\\n\")[:-1]\n",
    "        #\n",
    "        annotation_list = [x.split(\" \") for x in annotation_list]\n",
    "        annotation_list = [[float(y) for y in x ] for x in annotation_list]\n",
    "        #\n",
    "        img = Image.open(image_file)\n",
    "        annotations = np.array(annotation_list)\n",
    "        w, h = img.size\n",
    "        #\n",
    "        transformed_annotations = np.copy(annotations)\n",
    "        transformed_annotations[:,[1,3]] = annotations[:,[1,3]] * w\n",
    "        transformed_annotations[:,[2,4]] = annotations[:,[2,4]] * h\n",
    "        #\n",
    "        transformed_annotations[:,1] = transformed_annotations[:,1] - (transformed_annotations[:,3] / 2)\n",
    "        transformed_annotations[:,2] = transformed_annotations[:,2] - (transformed_annotations[:,4] / 2)\n",
    "        transformed_annotations[:,3] = transformed_annotations[:,1] + transformed_annotations[:,3]\n",
    "        transformed_annotations[:,4] = transformed_annotations[:,2] + transformed_annotations[:,4]\n",
    "        #\n",
    "        for ann in transformed_annotations:\n",
    "            obj_cls, x1, y1, x2, y2 = ann\n",
    "        #    \n",
    "        record['image_path'] = image_file\n",
    "        record['image'] = image_file[143:]        \n",
    "        record['x1'] = round(x1)\n",
    "        record['y1'] = round(y1)\n",
    "        record['x2'] = round(x2)\n",
    "        record['y2'] = round(y2)\n",
    "        record['dataset'] = None\n",
    "        #\n",
    "        record_list.append(record)\n",
    "    \n",
    "    return record_list"
   ]
  },
  {
   "cell_type": "code",
   "execution_count": 3,
   "id": "35183b10",
   "metadata": {},
   "outputs": [
    {
     "name": "stdout",
     "output_type": "stream",
     "text": [
      "242\n"
     ]
    }
   ],
   "source": [
    "img_store_dir = '/mnt/2015P002510/rakin/cervical_cancer/cervix_classification/portability/20230411_liger_cambodia_images_OD_retrain/SRA_cambodia_images_curated/'\n",
    "txt_store_dir = '/mnt/2015P002510/rakin/cervical_cancer/cervix_classification/portability/20230411_liger_cambodia_images_OD_retrain/SRA_cambodia_images_curated/'\n",
    "\n",
    "df_list = get_OD_output_dict(img_store_dir, txt_store_dir)\n",
    "\n",
    "print(len(df_list))\n",
    "\n",
    "# df_list"
   ]
  },
  {
   "cell_type": "code",
   "execution_count": 4,
   "id": "5734082d",
   "metadata": {},
   "outputs": [
    {
     "data": {
      "text/html": [
       "<div>\n",
       "<style scoped>\n",
       "    .dataframe tbody tr th:only-of-type {\n",
       "        vertical-align: middle;\n",
       "    }\n",
       "\n",
       "    .dataframe tbody tr th {\n",
       "        vertical-align: top;\n",
       "    }\n",
       "\n",
       "    .dataframe thead th {\n",
       "        text-align: right;\n",
       "    }\n",
       "</style>\n",
       "<table border=\"1\" class=\"dataframe\">\n",
       "  <thead>\n",
       "    <tr style=\"text-align: right;\">\n",
       "      <th></th>\n",
       "      <th>image_path</th>\n",
       "      <th>image</th>\n",
       "      <th>x1</th>\n",
       "      <th>y1</th>\n",
       "      <th>x2</th>\n",
       "      <th>y2</th>\n",
       "      <th>dataset</th>\n",
       "    </tr>\n",
       "  </thead>\n",
       "  <tbody>\n",
       "    <tr>\n",
       "      <th>0</th>\n",
       "      <td>/mnt/2015P002510/rakin/cervical_cancer/cervix_...</td>\n",
       "      <td>MSK 000001 001.jpeg</td>\n",
       "      <td>83</td>\n",
       "      <td>154</td>\n",
       "      <td>1349</td>\n",
       "      <td>1686</td>\n",
       "      <td>NaN</td>\n",
       "    </tr>\n",
       "    <tr>\n",
       "      <th>1</th>\n",
       "      <td>/mnt/2015P002510/rakin/cervical_cancer/cervix_...</td>\n",
       "      <td>MSK 000001 002.jpeg</td>\n",
       "      <td>76</td>\n",
       "      <td>123</td>\n",
       "      <td>1385</td>\n",
       "      <td>1788</td>\n",
       "      <td>NaN</td>\n",
       "    </tr>\n",
       "    <tr>\n",
       "      <th>2</th>\n",
       "      <td>/mnt/2015P002510/rakin/cervical_cancer/cervix_...</td>\n",
       "      <td>MSK 000001 003.jpeg</td>\n",
       "      <td>67</td>\n",
       "      <td>102</td>\n",
       "      <td>1430</td>\n",
       "      <td>1791</td>\n",
       "      <td>NaN</td>\n",
       "    </tr>\n",
       "    <tr>\n",
       "      <th>3</th>\n",
       "      <td>/mnt/2015P002510/rakin/cervical_cancer/cervix_...</td>\n",
       "      <td>MSK 000001 004.jpeg</td>\n",
       "      <td>76</td>\n",
       "      <td>134</td>\n",
       "      <td>1430</td>\n",
       "      <td>1802</td>\n",
       "      <td>NaN</td>\n",
       "    </tr>\n",
       "    <tr>\n",
       "      <th>4</th>\n",
       "      <td>/mnt/2015P002510/rakin/cervical_cancer/cervix_...</td>\n",
       "      <td>MSK 000001 005.jpeg</td>\n",
       "      <td>642</td>\n",
       "      <td>534</td>\n",
       "      <td>1851</td>\n",
       "      <td>1845</td>\n",
       "      <td>NaN</td>\n",
       "    </tr>\n",
       "    <tr>\n",
       "      <th>...</th>\n",
       "      <td>...</td>\n",
       "      <td>...</td>\n",
       "      <td>...</td>\n",
       "      <td>...</td>\n",
       "      <td>...</td>\n",
       "      <td>...</td>\n",
       "      <td>...</td>\n",
       "    </tr>\n",
       "    <tr>\n",
       "      <th>237</th>\n",
       "      <td>/mnt/2015P002510/rakin/cervical_cancer/cervix_...</td>\n",
       "      <td>MSK 000034 004.jpeg</td>\n",
       "      <td>51</td>\n",
       "      <td>761</td>\n",
       "      <td>2016</td>\n",
       "      <td>2359</td>\n",
       "      <td>NaN</td>\n",
       "    </tr>\n",
       "    <tr>\n",
       "      <th>238</th>\n",
       "      <td>/mnt/2015P002510/rakin/cervical_cancer/cervix_...</td>\n",
       "      <td>MSK 000034 005.jpeg</td>\n",
       "      <td>74</td>\n",
       "      <td>438</td>\n",
       "      <td>2016</td>\n",
       "      <td>1691</td>\n",
       "      <td>NaN</td>\n",
       "    </tr>\n",
       "    <tr>\n",
       "      <th>239</th>\n",
       "      <td>/mnt/2015P002510/rakin/cervical_cancer/cervix_...</td>\n",
       "      <td>MSK 000034 006.jpeg</td>\n",
       "      <td>30</td>\n",
       "      <td>482</td>\n",
       "      <td>1946</td>\n",
       "      <td>1677</td>\n",
       "      <td>NaN</td>\n",
       "    </tr>\n",
       "    <tr>\n",
       "      <th>240</th>\n",
       "      <td>/mnt/2015P002510/rakin/cervical_cancer/cervix_...</td>\n",
       "      <td>MSK 000034 007.jpeg</td>\n",
       "      <td>69</td>\n",
       "      <td>248</td>\n",
       "      <td>1974</td>\n",
       "      <td>1554</td>\n",
       "      <td>NaN</td>\n",
       "    </tr>\n",
       "    <tr>\n",
       "      <th>241</th>\n",
       "      <td>/mnt/2015P002510/rakin/cervical_cancer/cervix_...</td>\n",
       "      <td>MSK 000034 008.jpeg</td>\n",
       "      <td>353</td>\n",
       "      <td>261</td>\n",
       "      <td>1964</td>\n",
       "      <td>1638</td>\n",
       "      <td>NaN</td>\n",
       "    </tr>\n",
       "  </tbody>\n",
       "</table>\n",
       "<p>242 rows × 7 columns</p>\n",
       "</div>"
      ],
      "text/plain": [
       "                                            image_path                image  \\\n",
       "0    /mnt/2015P002510/rakin/cervical_cancer/cervix_...  MSK 000001 001.jpeg   \n",
       "1    /mnt/2015P002510/rakin/cervical_cancer/cervix_...  MSK 000001 002.jpeg   \n",
       "2    /mnt/2015P002510/rakin/cervical_cancer/cervix_...  MSK 000001 003.jpeg   \n",
       "3    /mnt/2015P002510/rakin/cervical_cancer/cervix_...  MSK 000001 004.jpeg   \n",
       "4    /mnt/2015P002510/rakin/cervical_cancer/cervix_...  MSK 000001 005.jpeg   \n",
       "..                                                 ...                  ...   \n",
       "237  /mnt/2015P002510/rakin/cervical_cancer/cervix_...  MSK 000034 004.jpeg   \n",
       "238  /mnt/2015P002510/rakin/cervical_cancer/cervix_...  MSK 000034 005.jpeg   \n",
       "239  /mnt/2015P002510/rakin/cervical_cancer/cervix_...  MSK 000034 006.jpeg   \n",
       "240  /mnt/2015P002510/rakin/cervical_cancer/cervix_...  MSK 000034 007.jpeg   \n",
       "241  /mnt/2015P002510/rakin/cervical_cancer/cervix_...  MSK 000034 008.jpeg   \n",
       "\n",
       "      x1   y1    x2    y2  dataset  \n",
       "0     83  154  1349  1686      NaN  \n",
       "1     76  123  1385  1788      NaN  \n",
       "2     67  102  1430  1791      NaN  \n",
       "3     76  134  1430  1802      NaN  \n",
       "4    642  534  1851  1845      NaN  \n",
       "..   ...  ...   ...   ...      ...  \n",
       "237   51  761  2016  2359      NaN  \n",
       "238   74  438  2016  1691      NaN  \n",
       "239   30  482  1946  1677      NaN  \n",
       "240   69  248  1974  1554      NaN  \n",
       "241  353  261  1964  1638      NaN  \n",
       "\n",
       "[242 rows x 7 columns]"
      ]
     },
     "execution_count": 4,
     "metadata": {},
     "output_type": "execute_result"
    }
   ],
   "source": [
    "keys = df_list[0].keys()\n",
    "\n",
    "with open('/mnt/2015P002510/rakin/cervical_cancer/cervix_classification/portability/20230411_liger_cambodia_images_OD_retrain/20230411_cambodia_bb.csv', 'w', newline='') as output_file:\n",
    "    dict_writer = csv.DictWriter(output_file, keys)\n",
    "    dict_writer.writeheader()\n",
    "    dict_writer.writerows(df_list)\n",
    "    \n",
    "saved_df = pd.read_csv('/mnt/2015P002510/rakin/cervical_cancer/cervix_classification/portability/20230411_liger_cambodia_images_OD_retrain/20230411_cambodia_bb.csv')\n",
    "saved_df"
   ]
  },
  {
   "cell_type": "code",
   "execution_count": 5,
   "id": "89d440cf",
   "metadata": {},
   "outputs": [],
   "source": [
    "src_dir = '/mnt/2015P002510/rakin/cervical_cancer/cervix_classification/portability/20230411_liger_cambodia_images_OD_retrain/'\n",
    "\n",
    "train_images = os.listdir('/mnt/2015P002510/rakin/datasets/20230411_cambodia_80_10_10/images/train/')\n",
    "val_images = os.listdir('/mnt/2015P002510/rakin/datasets/20230411_cambodia_80_10_10/images/val/')\n",
    "test_images = os.listdir('/mnt/2015P002510/rakin/datasets/20230411_cambodia_80_10_10/images/test/')"
   ]
  },
  {
   "cell_type": "code",
   "execution_count": 6,
   "id": "eacaf624",
   "metadata": {},
   "outputs": [
    {
     "data": {
      "text/html": [
       "<div>\n",
       "<style scoped>\n",
       "    .dataframe tbody tr th:only-of-type {\n",
       "        vertical-align: middle;\n",
       "    }\n",
       "\n",
       "    .dataframe tbody tr th {\n",
       "        vertical-align: top;\n",
       "    }\n",
       "\n",
       "    .dataframe thead th {\n",
       "        text-align: right;\n",
       "    }\n",
       "</style>\n",
       "<table border=\"1\" class=\"dataframe\">\n",
       "  <thead>\n",
       "    <tr style=\"text-align: right;\">\n",
       "      <th></th>\n",
       "      <th>image_path</th>\n",
       "      <th>image</th>\n",
       "      <th>x1</th>\n",
       "      <th>y1</th>\n",
       "      <th>x2</th>\n",
       "      <th>y2</th>\n",
       "      <th>OD_dataset</th>\n",
       "    </tr>\n",
       "  </thead>\n",
       "  <tbody>\n",
       "    <tr>\n",
       "      <th>0</th>\n",
       "      <td>/mnt/2015P002510/rakin/cervical_cancer/cervix_...</td>\n",
       "      <td>MSK 000001 001.jpeg</td>\n",
       "      <td>83</td>\n",
       "      <td>154</td>\n",
       "      <td>1349</td>\n",
       "      <td>1686</td>\n",
       "      <td>train</td>\n",
       "    </tr>\n",
       "    <tr>\n",
       "      <th>1</th>\n",
       "      <td>/mnt/2015P002510/rakin/cervical_cancer/cervix_...</td>\n",
       "      <td>MSK 000001 002.jpeg</td>\n",
       "      <td>76</td>\n",
       "      <td>123</td>\n",
       "      <td>1385</td>\n",
       "      <td>1788</td>\n",
       "      <td>train</td>\n",
       "    </tr>\n",
       "    <tr>\n",
       "      <th>2</th>\n",
       "      <td>/mnt/2015P002510/rakin/cervical_cancer/cervix_...</td>\n",
       "      <td>MSK 000001 003.jpeg</td>\n",
       "      <td>67</td>\n",
       "      <td>102</td>\n",
       "      <td>1430</td>\n",
       "      <td>1791</td>\n",
       "      <td>train</td>\n",
       "    </tr>\n",
       "    <tr>\n",
       "      <th>3</th>\n",
       "      <td>/mnt/2015P002510/rakin/cervical_cancer/cervix_...</td>\n",
       "      <td>MSK 000001 004.jpeg</td>\n",
       "      <td>76</td>\n",
       "      <td>134</td>\n",
       "      <td>1430</td>\n",
       "      <td>1802</td>\n",
       "      <td>train</td>\n",
       "    </tr>\n",
       "    <tr>\n",
       "      <th>4</th>\n",
       "      <td>/mnt/2015P002510/rakin/cervical_cancer/cervix_...</td>\n",
       "      <td>MSK 000001 005.jpeg</td>\n",
       "      <td>642</td>\n",
       "      <td>534</td>\n",
       "      <td>1851</td>\n",
       "      <td>1845</td>\n",
       "      <td>train</td>\n",
       "    </tr>\n",
       "    <tr>\n",
       "      <th>...</th>\n",
       "      <td>...</td>\n",
       "      <td>...</td>\n",
       "      <td>...</td>\n",
       "      <td>...</td>\n",
       "      <td>...</td>\n",
       "      <td>...</td>\n",
       "      <td>...</td>\n",
       "    </tr>\n",
       "    <tr>\n",
       "      <th>237</th>\n",
       "      <td>/mnt/2015P002510/rakin/cervical_cancer/cervix_...</td>\n",
       "      <td>MSK 000034 004.jpeg</td>\n",
       "      <td>51</td>\n",
       "      <td>761</td>\n",
       "      <td>2016</td>\n",
       "      <td>2359</td>\n",
       "      <td>train</td>\n",
       "    </tr>\n",
       "    <tr>\n",
       "      <th>238</th>\n",
       "      <td>/mnt/2015P002510/rakin/cervical_cancer/cervix_...</td>\n",
       "      <td>MSK 000034 005.jpeg</td>\n",
       "      <td>74</td>\n",
       "      <td>438</td>\n",
       "      <td>2016</td>\n",
       "      <td>1691</td>\n",
       "      <td>train</td>\n",
       "    </tr>\n",
       "    <tr>\n",
       "      <th>239</th>\n",
       "      <td>/mnt/2015P002510/rakin/cervical_cancer/cervix_...</td>\n",
       "      <td>MSK 000034 006.jpeg</td>\n",
       "      <td>30</td>\n",
       "      <td>482</td>\n",
       "      <td>1946</td>\n",
       "      <td>1677</td>\n",
       "      <td>train</td>\n",
       "    </tr>\n",
       "    <tr>\n",
       "      <th>240</th>\n",
       "      <td>/mnt/2015P002510/rakin/cervical_cancer/cervix_...</td>\n",
       "      <td>MSK 000034 007.jpeg</td>\n",
       "      <td>69</td>\n",
       "      <td>248</td>\n",
       "      <td>1974</td>\n",
       "      <td>1554</td>\n",
       "      <td>train</td>\n",
       "    </tr>\n",
       "    <tr>\n",
       "      <th>241</th>\n",
       "      <td>/mnt/2015P002510/rakin/cervical_cancer/cervix_...</td>\n",
       "      <td>MSK 000034 008.jpeg</td>\n",
       "      <td>353</td>\n",
       "      <td>261</td>\n",
       "      <td>1964</td>\n",
       "      <td>1638</td>\n",
       "      <td>val</td>\n",
       "    </tr>\n",
       "  </tbody>\n",
       "</table>\n",
       "<p>242 rows × 7 columns</p>\n",
       "</div>"
      ],
      "text/plain": [
       "                                            image_path                image  \\\n",
       "0    /mnt/2015P002510/rakin/cervical_cancer/cervix_...  MSK 000001 001.jpeg   \n",
       "1    /mnt/2015P002510/rakin/cervical_cancer/cervix_...  MSK 000001 002.jpeg   \n",
       "2    /mnt/2015P002510/rakin/cervical_cancer/cervix_...  MSK 000001 003.jpeg   \n",
       "3    /mnt/2015P002510/rakin/cervical_cancer/cervix_...  MSK 000001 004.jpeg   \n",
       "4    /mnt/2015P002510/rakin/cervical_cancer/cervix_...  MSK 000001 005.jpeg   \n",
       "..                                                 ...                  ...   \n",
       "237  /mnt/2015P002510/rakin/cervical_cancer/cervix_...  MSK 000034 004.jpeg   \n",
       "238  /mnt/2015P002510/rakin/cervical_cancer/cervix_...  MSK 000034 005.jpeg   \n",
       "239  /mnt/2015P002510/rakin/cervical_cancer/cervix_...  MSK 000034 006.jpeg   \n",
       "240  /mnt/2015P002510/rakin/cervical_cancer/cervix_...  MSK 000034 007.jpeg   \n",
       "241  /mnt/2015P002510/rakin/cervical_cancer/cervix_...  MSK 000034 008.jpeg   \n",
       "\n",
       "      x1   y1    x2    y2 OD_dataset  \n",
       "0     83  154  1349  1686      train  \n",
       "1     76  123  1385  1788      train  \n",
       "2     67  102  1430  1791      train  \n",
       "3     76  134  1430  1802      train  \n",
       "4    642  534  1851  1845      train  \n",
       "..   ...  ...   ...   ...        ...  \n",
       "237   51  761  2016  2359      train  \n",
       "238   74  438  2016  1691      train  \n",
       "239   30  482  1946  1677      train  \n",
       "240   69  248  1974  1554      train  \n",
       "241  353  261  1964  1638        val  \n",
       "\n",
       "[242 rows x 7 columns]"
      ]
     },
     "execution_count": 6,
     "metadata": {},
     "output_type": "execute_result"
    }
   ],
   "source": [
    "saved_df.loc[saved_df['image'].isin(train_images), 'dataset'] = 'train'\n",
    "saved_df.loc[saved_df['image'].isin(val_images), 'dataset'] = 'val'\n",
    "saved_df.loc[saved_df['image'].isin(test_images), 'dataset'] = 'test'\n",
    "saved_df = saved_df.rename(columns={\"dataset\": \"OD_dataset\"})\n",
    "saved_df"
   ]
  },
  {
   "cell_type": "code",
   "execution_count": 7,
   "id": "2b060a12",
   "metadata": {},
   "outputs": [
    {
     "name": "stdout",
     "output_type": "stream",
     "text": [
      "test : 24\n",
      "train : 194\n",
      "val : 24\n"
     ]
    }
   ],
   "source": [
    "for item in np.unique(saved_df['OD_dataset'].values):\n",
    "    print(f\"{item} : {list(saved_df['OD_dataset'].values).count(item)}\")"
   ]
  },
  {
   "cell_type": "code",
   "execution_count": 8,
   "id": "1f78c620",
   "metadata": {},
   "outputs": [],
   "source": [
    "saved_df.to_csv('/mnt/2015P002510/rakin/cervical_cancer/cervix_classification/portability/20230411_liger_cambodia_images_OD_retrain/20230411_cambodia_bb.csv', index=True, index_label=None)"
   ]
  },
  {
   "cell_type": "code",
   "execution_count": 3,
   "id": "2e17ad4c",
   "metadata": {},
   "outputs": [
    {
     "data": {
      "text/html": [
       "<div>\n",
       "<style scoped>\n",
       "    .dataframe tbody tr th:only-of-type {\n",
       "        vertical-align: middle;\n",
       "    }\n",
       "\n",
       "    .dataframe tbody tr th {\n",
       "        vertical-align: top;\n",
       "    }\n",
       "\n",
       "    .dataframe thead th {\n",
       "        text-align: right;\n",
       "    }\n",
       "</style>\n",
       "<table border=\"1\" class=\"dataframe\">\n",
       "  <thead>\n",
       "    <tr style=\"text-align: right;\">\n",
       "      <th></th>\n",
       "      <th>Unnamed: 0</th>\n",
       "      <th>image_path</th>\n",
       "      <th>image</th>\n",
       "      <th>x1</th>\n",
       "      <th>y1</th>\n",
       "      <th>x2</th>\n",
       "      <th>y2</th>\n",
       "      <th>OD_dataset</th>\n",
       "    </tr>\n",
       "  </thead>\n",
       "  <tbody>\n",
       "    <tr>\n",
       "      <th>0</th>\n",
       "      <td>0</td>\n",
       "      <td>/mnt/2015P002510/rakin/cervical_cancer/cervix_...</td>\n",
       "      <td>MSK 000001 001.jpeg</td>\n",
       "      <td>83</td>\n",
       "      <td>154</td>\n",
       "      <td>1349</td>\n",
       "      <td>1686</td>\n",
       "      <td>train</td>\n",
       "    </tr>\n",
       "    <tr>\n",
       "      <th>1</th>\n",
       "      <td>1</td>\n",
       "      <td>/mnt/2015P002510/rakin/cervical_cancer/cervix_...</td>\n",
       "      <td>MSK 000001 002.jpeg</td>\n",
       "      <td>76</td>\n",
       "      <td>123</td>\n",
       "      <td>1385</td>\n",
       "      <td>1788</td>\n",
       "      <td>train</td>\n",
       "    </tr>\n",
       "    <tr>\n",
       "      <th>2</th>\n",
       "      <td>2</td>\n",
       "      <td>/mnt/2015P002510/rakin/cervical_cancer/cervix_...</td>\n",
       "      <td>MSK 000001 003.jpeg</td>\n",
       "      <td>67</td>\n",
       "      <td>102</td>\n",
       "      <td>1430</td>\n",
       "      <td>1791</td>\n",
       "      <td>train</td>\n",
       "    </tr>\n",
       "    <tr>\n",
       "      <th>3</th>\n",
       "      <td>3</td>\n",
       "      <td>/mnt/2015P002510/rakin/cervical_cancer/cervix_...</td>\n",
       "      <td>MSK 000001 004.jpeg</td>\n",
       "      <td>76</td>\n",
       "      <td>134</td>\n",
       "      <td>1430</td>\n",
       "      <td>1802</td>\n",
       "      <td>train</td>\n",
       "    </tr>\n",
       "    <tr>\n",
       "      <th>4</th>\n",
       "      <td>4</td>\n",
       "      <td>/mnt/2015P002510/rakin/cervical_cancer/cervix_...</td>\n",
       "      <td>MSK 000001 005.jpeg</td>\n",
       "      <td>642</td>\n",
       "      <td>534</td>\n",
       "      <td>1851</td>\n",
       "      <td>1845</td>\n",
       "      <td>train</td>\n",
       "    </tr>\n",
       "    <tr>\n",
       "      <th>...</th>\n",
       "      <td>...</td>\n",
       "      <td>...</td>\n",
       "      <td>...</td>\n",
       "      <td>...</td>\n",
       "      <td>...</td>\n",
       "      <td>...</td>\n",
       "      <td>...</td>\n",
       "      <td>...</td>\n",
       "    </tr>\n",
       "    <tr>\n",
       "      <th>237</th>\n",
       "      <td>237</td>\n",
       "      <td>/mnt/2015P002510/rakin/cervical_cancer/cervix_...</td>\n",
       "      <td>MSK 000034 004.jpeg</td>\n",
       "      <td>51</td>\n",
       "      <td>761</td>\n",
       "      <td>2016</td>\n",
       "      <td>2359</td>\n",
       "      <td>train</td>\n",
       "    </tr>\n",
       "    <tr>\n",
       "      <th>238</th>\n",
       "      <td>238</td>\n",
       "      <td>/mnt/2015P002510/rakin/cervical_cancer/cervix_...</td>\n",
       "      <td>MSK 000034 005.jpeg</td>\n",
       "      <td>74</td>\n",
       "      <td>438</td>\n",
       "      <td>2016</td>\n",
       "      <td>1691</td>\n",
       "      <td>train</td>\n",
       "    </tr>\n",
       "    <tr>\n",
       "      <th>239</th>\n",
       "      <td>239</td>\n",
       "      <td>/mnt/2015P002510/rakin/cervical_cancer/cervix_...</td>\n",
       "      <td>MSK 000034 006.jpeg</td>\n",
       "      <td>30</td>\n",
       "      <td>482</td>\n",
       "      <td>1946</td>\n",
       "      <td>1677</td>\n",
       "      <td>train</td>\n",
       "    </tr>\n",
       "    <tr>\n",
       "      <th>240</th>\n",
       "      <td>240</td>\n",
       "      <td>/mnt/2015P002510/rakin/cervical_cancer/cervix_...</td>\n",
       "      <td>MSK 000034 007.jpeg</td>\n",
       "      <td>69</td>\n",
       "      <td>248</td>\n",
       "      <td>1974</td>\n",
       "      <td>1554</td>\n",
       "      <td>train</td>\n",
       "    </tr>\n",
       "    <tr>\n",
       "      <th>241</th>\n",
       "      <td>241</td>\n",
       "      <td>/mnt/2015P002510/rakin/cervical_cancer/cervix_...</td>\n",
       "      <td>MSK 000034 008.jpeg</td>\n",
       "      <td>353</td>\n",
       "      <td>261</td>\n",
       "      <td>1964</td>\n",
       "      <td>1638</td>\n",
       "      <td>val</td>\n",
       "    </tr>\n",
       "  </tbody>\n",
       "</table>\n",
       "<p>242 rows × 8 columns</p>\n",
       "</div>"
      ],
      "text/plain": [
       "     Unnamed: 0                                         image_path  \\\n",
       "0             0  /mnt/2015P002510/rakin/cervical_cancer/cervix_...   \n",
       "1             1  /mnt/2015P002510/rakin/cervical_cancer/cervix_...   \n",
       "2             2  /mnt/2015P002510/rakin/cervical_cancer/cervix_...   \n",
       "3             3  /mnt/2015P002510/rakin/cervical_cancer/cervix_...   \n",
       "4             4  /mnt/2015P002510/rakin/cervical_cancer/cervix_...   \n",
       "..          ...                                                ...   \n",
       "237         237  /mnt/2015P002510/rakin/cervical_cancer/cervix_...   \n",
       "238         238  /mnt/2015P002510/rakin/cervical_cancer/cervix_...   \n",
       "239         239  /mnt/2015P002510/rakin/cervical_cancer/cervix_...   \n",
       "240         240  /mnt/2015P002510/rakin/cervical_cancer/cervix_...   \n",
       "241         241  /mnt/2015P002510/rakin/cervical_cancer/cervix_...   \n",
       "\n",
       "                   image   x1   y1    x2    y2 OD_dataset  \n",
       "0    MSK 000001 001.jpeg   83  154  1349  1686      train  \n",
       "1    MSK 000001 002.jpeg   76  123  1385  1788      train  \n",
       "2    MSK 000001 003.jpeg   67  102  1430  1791      train  \n",
       "3    MSK 000001 004.jpeg   76  134  1430  1802      train  \n",
       "4    MSK 000001 005.jpeg  642  534  1851  1845      train  \n",
       "..                   ...  ...  ...   ...   ...        ...  \n",
       "237  MSK 000034 004.jpeg   51  761  2016  2359      train  \n",
       "238  MSK 000034 005.jpeg   74  438  2016  1691      train  \n",
       "239  MSK 000034 006.jpeg   30  482  1946  1677      train  \n",
       "240  MSK 000034 007.jpeg   69  248  1974  1554      train  \n",
       "241  MSK 000034 008.jpeg  353  261  1964  1638        val  \n",
       "\n",
       "[242 rows x 8 columns]"
      ]
     },
     "execution_count": 3,
     "metadata": {},
     "output_type": "execute_result"
    }
   ],
   "source": [
    "df_bb = pd.read_csv('/mnt/2015P002510/rakin/cervical_cancer/cervix_classification/portability/20230411_liger_cambodia_images_OD_retrain/20230411_cambodia_bb.csv')\n",
    "img_dir = '/mnt/2015P002510/rakin/cervical_cancer/cervix_classification/portability/20230411_liger_cambodia_images_OD_retrain/SRA_cambodia_images_curated/'\n",
    "df_bb"
   ]
  },
  {
   "cell_type": "code",
   "execution_count": 4,
   "id": "d5c1437c",
   "metadata": {},
   "outputs": [
    {
     "data": {
      "image/png": "[encoded data removed]",
      "text/plain": [
       "<Figure size 432x288 with 1 Axes>"
      ]
     },
     "metadata": {
      "needs_background": "light"
     },
     "output_type": "display_data"
    }
   ],
   "source": [
    "def plot_bounding_box(img, img_name, df_bb):\n",
    "    #\n",
    "    plotted_image = ImageDraw.Draw(img)\n",
    "    x0 = df_bb.loc[df_bb['image']==img_name, 'x1'].values.item()\n",
    "    y0 = df_bb.loc[df_bb['image']==img_name, 'y1'].values.item()\n",
    "    x1 = df_bb.loc[df_bb['image']==img_name, 'x2'].values.item()\n",
    "    y1 = df_bb.loc[df_bb['image']==img_name, 'y2'].values.item()\n",
    "    plotted_image.rectangle(((x0,y0), (x1,y1)), outline='white', width=25)\n",
    "    plotted_image.text((x0, y0 - 10), 'cervix')\n",
    "    #\n",
    "    plt.imshow(np.array(img))\n",
    "    plt.show()\n",
    "\n",
    "image_files = list(df_bb['image'].values)\n",
    "image_file = random.choice(image_files)\n",
    "image_file = 'MSK 000001 012.jpeg'\n",
    "\n",
    "img = Image.open(os.path.join(img_dir,image_file))\n",
    "\n",
    "#Plot the Bounding Box\n",
    "plot_bounding_box(img, image_file, df_bb)"
   ]
  },
  {
   "cell_type": "code",
   "execution_count": 5,
   "id": "eac48565",
   "metadata": {},
   "outputs": [
    {
     "data": {
      "image/png": "[encoded data removed]",
      "text/plain": [
       "<Figure size 432x288 with 1 Axes>"
      ]
     },
     "metadata": {
      "needs_background": "light"
     },
     "output_type": "display_data"
    }
   ],
   "source": [
    "def crop_img(img, img_name, df_bb):\n",
    "    #\n",
    "    x1 = df_bb.loc[df_bb['image']==img_name, 'x1'].values.item()\n",
    "    y1 = df_bb.loc[df_bb['image']==img_name, 'y1'].values.item()\n",
    "    x2 = df_bb.loc[df_bb['image']==img_name, 'x2'].values.item()\n",
    "    y2 = df_bb.loc[df_bb['image']==img_name, 'y2'].values.item()\n",
    "    img = img[int(y1): int(y2), int(x1): int(x2)]\n",
    "    #\n",
    "    plt.imshow(np.array(img))\n",
    "    plt.show()\n",
    "\n",
    "# image_files = list(df_bb['image'].values)\n",
    "# image_file = random.choice(image_files)\n",
    "image_file = 'MSK 000001 012.jpeg'\n",
    "\n",
    "img = np.array(Image.open(os.path.join(img_dir,image_file)))\n",
    "\n",
    "#Plot the Bounding Box\n",
    "crop_img(img, image_file, df_bb)"
   ]
  },
  {
   "cell_type": "markdown",
   "id": "2da12161",
   "metadata": {},
   "source": [
    "### Visualize correct labels have been imported into the dataset"
   ]
  },
  {
   "cell_type": "code",
   "execution_count": 16,
   "id": "f378a0bc",
   "metadata": {},
   "outputs": [
    {
     "data": {
      "text/plain": [
       "'/mnt/2015P002510/rakin/datasets/20230411_cambodia_80_10_10/labels/val/MSK 000021 006.txt'"
      ]
     },
     "execution_count": 16,
     "metadata": {},
     "output_type": "execute_result"
    }
   ],
   "source": [
    "def plot_bounding_box(img, annotation_list):\n",
    "    annotations = np.array(annotation_list)\n",
    "    w, h = img.size\n",
    "    plotted_image = ImageDraw.Draw(img)\n",
    "    #\n",
    "    transformed_annotations = np.copy(annotations)\n",
    "    transformed_annotations[:,[1,3]] = annotations[:,[1,3]] * w\n",
    "    transformed_annotations[:,[2,4]] = annotations[:,[2,4]] * h\n",
    "    #\n",
    "    transformed_annotations[:,1] = transformed_annotations[:,1] - (transformed_annotations[:,3] / 2)\n",
    "    transformed_annotations[:,2] = transformed_annotations[:,2] - (transformed_annotations[:,4] / 2)\n",
    "    transformed_annotations[:,3] = transformed_annotations[:,1] + transformed_annotations[:,3]\n",
    "    transformed_annotations[:,4] = transformed_annotations[:,2] + transformed_annotations[:,4]\n",
    "    #\n",
    "    for ann in transformed_annotations:\n",
    "        obj_cls, x0, y0, x1, y1 = ann\n",
    "        plotted_image.rectangle(((x0,y0), (x1,y1)), outline='white', width=25)\n",
    "        plotted_image.text((x0, y0 - 10), 'cervix')\n",
    "    #\n",
    "    plt.imshow(np.array(img))\n",
    "    plt.show()\n",
    "    \n",
    "\n",
    "random.seed(0)\n",
    "\n",
    "txt_store_dir = '/mnt/2015P002510/rakin/datasets/20230411_cambodia_80_10_10/labels/'\n",
    "\n",
    "annotations = [os.path.join(txt_store_dir + 'val', txt_file) for txt_file in os.listdir(txt_store_dir + 'val') if txt_file[-3:] == \"txt\"]\n",
    "# Get any random annotation file \n",
    "annotation_file = random.choice(annotations)\n",
    "with open(annotation_file, \"r\") as file:\n",
    "    annotation_list = file.read().split(\"\\n\")[:-1]\n",
    "    annotation_list = [x.split(\" \") for x in annotation_list]\n",
    "    annotation_list = [[float(y) for y in x ] for x in annotation_list]\n",
    "    \n",
    "annotation_file"
   ]
  },
  {
   "cell_type": "code",
   "execution_count": 18,
   "id": "2aa85056",
   "metadata": {},
   "outputs": [
    {
     "data": {
      "image/png": "[encoded data removed]",
      "text/plain": [
       "<Figure size 432x288 with 1 Axes>"
      ]
     },
     "metadata": {
      "needs_background": "light"
     },
     "output_type": "display_data"
    }
   ],
   "source": [
    "#Get the corresponding image file\n",
    "image_file = annotation_file.replace(\"labels\", \"images\").replace(\"txt\", \"jpeg\")\n",
    "assert os.path.exists(image_file)\n",
    "\n",
    "#Load the image\n",
    "img = Image.open(image_file)\n",
    "\n",
    "#Plot the Bounding Box\n",
    "plot_bounding_box(img, annotation_list)"
   ]
  },
  {
   "cell_type": "markdown",
   "id": "3fe10b87",
   "metadata": {},
   "source": [
    "# Get 91 randomly chosen images from 5study test2 dataset for side by side comparison"
   ]
  },
  {
   "cell_type": "code",
   "execution_count": 19,
   "id": "bbd516c1",
   "metadata": {},
   "outputs": [],
   "source": [
    "# base_dir = '/mnt/2015P002510/rakin/datasets/20221101_full_dataset_LIGER_80_10_10/images/test2/'\n",
    "\n",
    "# image_files = [os.path.join(base_dir, img_file) for img_file in os.listdir(base_dir) if img_file[img_file.find('.')+1:] != 'txt']\n",
    "# image_files_91 = random.sample(image_files, 91)\n",
    "\n",
    "# annotation_files = [image_file.replace('images','labels').replace(image_file[(image_file.find(\".\")):], '.txt') for image_file in image_files_91]\n",
    "\n",
    "# dest_dir_img = '/mnt/2015P002510/rakin/cervical_cancer/cervix_detection/yolov5_runs/20221101_retrain_exp3ep100/data/5study_test2_91/images/test2/'\n",
    "# dest_dir_labels = '/mnt/2015P002510/rakin/cervical_cancer/cervix_detection/yolov5_runs/20221101_retrain_exp3ep100/data/5study_test2_91/labels/test2/'\n",
    "\n",
    "# print(all([os.path.exists(item) for item in image_files_91]))\n",
    "# print(all([os.path.exists(item) for item in annotation_files]))\n",
    "\n",
    "# print(len(image_files_91))\n",
    "# print(len(annotation_files))"
   ]
  },
  {
   "cell_type": "code",
   "execution_count": 20,
   "id": "7422e756",
   "metadata": {},
   "outputs": [],
   "source": [
    "# for image_file, label_file in zip(image_files_91, annotation_files):\n",
    "#     shutil.copy2(image_file, dest_dir_img)\n",
    "#     shutil.copy2(label_file, dest_dir_labels)"
   ]
  },
  {
   "cell_type": "markdown",
   "id": "999434f0",
   "metadata": {},
   "source": [
    "# Train yolov5 using similar approach as before"
   ]
  },
  {
   "cell_type": "code",
   "execution_count": 2,
   "id": "ab1d778c",
   "metadata": {},
   "outputs": [],
   "source": [
    "# # EXP 3 - EPOCH 100 configurations (retrain using starting weights + liger only)\n",
    "\n",
    "# !python /mnt/2015P002510/rakin/object_detection_repos/yolov5/train.py \\\n",
    "# --batch 16 --epochs 100 \\\n",
    "# --data /mnt/2015P002510/rakin/object_detection_repos/yolov5/data/20221101_cervix_liger_80_10_10.yaml \\\n",
    "# --weights /mnt/2015P002510/rakin/cervical_cancer/cervix_detection/yolov5_runs/20221101_retrain_exp3ep100/exp3ep100.pt \\\n",
    "# --project /mnt/2015P002510/rakin/cervical_cancer/cervix_detection/yolov5_runs/20221101_retrain_exp3ep100/ \\\n",
    "# --name train_liger_80_10_10"
   ]
  },
  {
   "cell_type": "code",
   "execution_count": 3,
   "id": "f9ace38c",
   "metadata": {},
   "outputs": [],
   "source": [
    "# # EXP 3 - EPOCH 100 configurations (retrain on 5 study + liger)\n",
    "\n",
    "# !python /mnt/2015P002510/rakin/object_detection_repos/yolov5/train.py \\\n",
    "# --batch 16 --epochs 100 \\\n",
    "# --data /mnt/2015P002510/rakin/object_detection_repos/yolov5/data/20221101_cervix_5study_liger_80_10_10.yaml \\\n",
    "# --weights /mnt/2015P002510/rakin/object_detection_repos/yolov5/downloaded_models/yolov5s.pt \\\n",
    "# --project /mnt/2015P002510/rakin/cervical_cancer/cervix_detection/yolov5_runs/20221101_retrain_exp3ep100/ \\\n",
    "# --name train_5study_liger_80_10_10"
   ]
  },
  {
   "cell_type": "markdown",
   "id": "bb3be357",
   "metadata": {},
   "source": [
    "# Validate/Evaluate Performance"
   ]
  },
  {
   "cell_type": "markdown",
   "id": "046633ca",
   "metadata": {},
   "source": [
    "### Liger test 91"
   ]
  },
  {
   "cell_type": "code",
   "execution_count": 2,
   "id": "c5e83f0d",
   "metadata": {},
   "outputs": [
    {
     "name": "stdout",
     "output_type": "stream",
     "text": [
      "\u001b[34m\u001b[1mval: \u001b[0mdata=/mnt/2015P002510/rakin/object_detection_repos/yolov5/data/20220412_test.yaml, weights=['/mnt/2015P002510/rakin/cervical_cancer/cervix_detection/yolov5_runs/20230411_retrain_cambodia/train_100ep_yolov5s_5study_liger_cambodia_80_10_10.pt'], batch_size=32, imgsz=640, conf_thres=0.001, iou_thres=0.6, task=val, device=, single_cls=False, augment=False, verbose=False, save_txt=False, save_hybrid=False, save_conf=False, save_json=False, project=/mnt/2015P002510/rakin/cervical_cancer/cervix_detection/yolov5_runs/20230411_retrain_cambodia/val_liger_test_91/, name=train_100ep_yolov5s_5study_liger_cambodia_80_10_10_weights, exist_ok=False, half=False, dnn=False\n",
      "YOLOv5 🚀 v6.0-95-g562191f torch 1.9.0a0+2ecb2c7 CUDA:0 (NVIDIA A100-PCIE-40GB MIG 3g.20gb, 19968MiB)\n",
      "\n",
      "Fusing layers... \n",
      "Model Summary: 213 layers, 7012822 parameters, 0 gradients, 15.8 GFLOPs\n",
      "\u001b[34m\u001b[1mval: \u001b[0mScanning '/mnt/2015P002510/rakin/cervical_cancer/cervix_detection/yolov5_ru\u001b[0m\n",
      "               Class     Images     Labels          P          R     mAP@.5 mAP@.5:.95: 100% 3/3 [00:09<00:00,  3.14s/it]\n",
      "                 all         91         93      0.978      0.957      0.973       0.73\n",
      "Speed: 0.2ms pre-process, 2.0ms inference, 2.1ms NMS per image at shape (32, 3, 640, 640)\n",
      "Results saved to \u001b[1m/mnt/2015P002510/rakin/cervical_cancer/cervix_detection/yolov5_runs/20230411_retrain_cambodia/val_liger_test_91/train_100ep_yolov5s_5study_liger_cambodia_80_10_10_weights\u001b[0m\n"
     ]
    }
   ],
   "source": [
    "!python /mnt/2015P002510/rakin/object_detection_repos/yolov5/val.py \\\n",
    "--weights /mnt/2015P002510/rakin/cervical_cancer/cervix_detection/yolov5_runs/20230411_retrain_cambodia/train_100ep_yolov5s_5study_liger_cambodia_80_10_10.pt \\\n",
    "--data /mnt/2015P002510/rakin/object_detection_repos/yolov5/data/20220412_test.yaml \\\n",
    "--project /mnt/2015P002510/rakin/cervical_cancer/cervix_detection/yolov5_runs/20230411_retrain_cambodia/val_liger_test_91/ \\\n",
    "--name train_100ep_yolov5s_5study_liger_cambodia_80_10_10_weights"
   ]
  },
  {
   "cell_type": "code",
   "execution_count": 1,
   "id": "f59d85e0",
   "metadata": {},
   "outputs": [
    {
     "name": "stdout",
     "output_type": "stream",
     "text": [
      "\u001b[34m\u001b[1mval: \u001b[0mdata=/mnt/2015P002510/rakin/object_detection_repos/yolov5/data/20220412_test.yaml, weights=['/mnt/2015P002510/rakin/cervical_cancer/cervix_detection/yolov5_runs/20230411_retrain_cambodia/train_60ep_yolov5s_5study_liger_cambodia_80_10_10.pt'], batch_size=32, imgsz=640, conf_thres=0.001, iou_thres=0.6, task=val, device=, single_cls=False, augment=False, verbose=False, save_txt=False, save_hybrid=False, save_conf=False, save_json=False, project=/mnt/2015P002510/rakin/cervical_cancer/cervix_detection/yolov5_runs/20230411_retrain_cambodia/val_liger_test_91/, name=train_60ep_yolov5s_5study_liger_cambodia_80_10_10_weights, exist_ok=False, half=False, dnn=False\n",
      "YOLOv5 🚀 v6.0-95-g562191f torch 1.9.0a0+2ecb2c7 CUDA:0 (NVIDIA A100-PCIE-40GB MIG 3g.20gb, 19968MiB)\n",
      "\n",
      "Fusing layers... \n",
      "Model Summary: 213 layers, 7012822 parameters, 0 gradients, 15.8 GFLOPs\n",
      "\u001b[34m\u001b[1mval: \u001b[0mScanning '/mnt/2015P002510/rakin/cervical_cancer/cervix_detection/yolov5_ru\u001b[0m\n",
      "\u001b[34m\u001b[1mval: \u001b[0mNew cache created: /mnt/2015P002510/rakin/cervical_cancer/cervix_detection/yolov5_runs/20230411_retrain_cambodia/test_data/liger_test_91/labels/test.cache\n",
      "               Class     Images     Labels          P          R     mAP@.5 mAP@.5:.95: 100% 3/3 [01:35<00:00, 31.89s/it]\n",
      "                 all         91         93      0.978      0.978      0.982      0.711\n",
      "Speed: 0.8ms pre-process, 2.7ms inference, 0.8ms NMS per image at shape (32, 3, 640, 640)\n",
      "Results saved to \u001b[1m/mnt/2015P002510/rakin/cervical_cancer/cervix_detection/yolov5_runs/20230411_retrain_cambodia/val_liger_test_91/train_60ep_yolov5s_5study_liger_cambodia_80_10_10_weights\u001b[0m\n"
     ]
    }
   ],
   "source": [
    "!python /mnt/2015P002510/rakin/object_detection_repos/yolov5/val.py \\\n",
    "--weights /mnt/2015P002510/rakin/cervical_cancer/cervix_detection/yolov5_runs/20230411_retrain_cambodia/train_60ep_yolov5s_5study_liger_cambodia_80_10_10.pt \\\n",
    "--data /mnt/2015P002510/rakin/object_detection_repos/yolov5/data/20220412_test.yaml \\\n",
    "--project /mnt/2015P002510/rakin/cervical_cancer/cervix_detection/yolov5_runs/20230411_retrain_cambodia/val_liger_test_91/ \\\n",
    "--name train_60ep_yolov5s_5study_liger_cambodia_80_10_10_weights"
   ]
  },
  {
   "cell_type": "code",
   "execution_count": 2,
   "id": "9b397e2c",
   "metadata": {},
   "outputs": [
    {
     "name": "stdout",
     "output_type": "stream",
     "text": [
      "\u001b[34m\u001b[1mval: \u001b[0mdata=/mnt/2015P002510/rakin/object_detection_repos/yolov5/data/20220412_test.yaml, weights=['/mnt/2015P002510/rakin/cervical_cancer/cervix_detection/yolov5_runs/20230411_retrain_cambodia/train_v1_tf_cambodia_80_10_10.pt'], batch_size=32, imgsz=640, conf_thres=0.001, iou_thres=0.6, task=val, device=, single_cls=False, augment=False, verbose=False, save_txt=False, save_hybrid=False, save_conf=False, save_json=False, project=/mnt/2015P002510/rakin/cervical_cancer/cervix_detection/yolov5_runs/20230411_retrain_cambodia/val_liger_test_91/, name=train_v1_tf_cambodia_80_10_10_weights, exist_ok=False, half=False, dnn=False\n",
      "YOLOv5 🚀 v6.0-95-g562191f torch 1.9.0a0+2ecb2c7 CUDA:0 (NVIDIA A100-PCIE-40GB MIG 3g.20gb, 19968MiB)\n",
      "\n",
      "Fusing layers... \n",
      "Model Summary: 213 layers, 7012822 parameters, 0 gradients, 15.8 GFLOPs\n",
      "\u001b[34m\u001b[1mval: \u001b[0mScanning '/mnt/2015P002510/rakin/cervical_cancer/cervix_detection/yolov5_ru\u001b[0m\n",
      "               Class     Images     Labels          P          R     mAP@.5 mAP@.5:.95: 100% 3/3 [00:14<00:00,  4.82s/it]\n",
      "                 all         91         93      0.943      0.881      0.929      0.592\n",
      "Speed: 0.1ms pre-process, 2.0ms inference, 2.2ms NMS per image at shape (32, 3, 640, 640)\n",
      "Results saved to \u001b[1m/mnt/2015P002510/rakin/cervical_cancer/cervix_detection/yolov5_runs/20230411_retrain_cambodia/val_liger_test_91/train_v1_tf_cambodia_80_10_10_weights\u001b[0m\n"
     ]
    }
   ],
   "source": [
    "!python /mnt/2015P002510/rakin/object_detection_repos/yolov5/val.py \\\n",
    "--weights /mnt/2015P002510/rakin/cervical_cancer/cervix_detection/yolov5_runs/20230411_retrain_cambodia/train_v1_tf_cambodia_80_10_10.pt \\\n",
    "--data /mnt/2015P002510/rakin/object_detection_repos/yolov5/data/20220412_test.yaml \\\n",
    "--project /mnt/2015P002510/rakin/cervical_cancer/cervix_detection/yolov5_runs/20230411_retrain_cambodia/val_liger_test_91/ \\\n",
    "--name train_v1_tf_cambodia_80_10_10_weights"
   ]
  },
  {
   "cell_type": "code",
   "execution_count": 3,
   "id": "c17a30fa",
   "metadata": {},
   "outputs": [
    {
     "name": "stdout",
     "output_type": "stream",
     "text": [
      "\u001b[34m\u001b[1mval: \u001b[0mdata=/mnt/2015P002510/rakin/object_detection_repos/yolov5/data/20220412_test.yaml, weights=['/mnt/2015P002510/rakin/cervical_cancer/cervix_detection/yolov5_runs/20230411_retrain_cambodia/train_yolov5s_cambodia_80_10_10.pt'], batch_size=32, imgsz=640, conf_thres=0.001, iou_thres=0.6, task=val, device=, single_cls=False, augment=False, verbose=False, save_txt=False, save_hybrid=False, save_conf=False, save_json=False, project=/mnt/2015P002510/rakin/cervical_cancer/cervix_detection/yolov5_runs/20230411_retrain_cambodia/val_liger_test_91/, name=train_yolov5s_cambodia_80_10_10_weights, exist_ok=False, half=False, dnn=False\n",
      "YOLOv5 🚀 v6.0-95-g562191f torch 1.9.0a0+2ecb2c7 CUDA:0 (NVIDIA A100-PCIE-40GB MIG 3g.20gb, 19968MiB)\n",
      "\n",
      "Fusing layers... \n",
      "Model Summary: 213 layers, 7012822 parameters, 0 gradients, 15.8 GFLOPs\n",
      "\u001b[34m\u001b[1mval: \u001b[0mScanning '/mnt/2015P002510/rakin/cervical_cancer/cervix_detection/yolov5_ru\u001b[0m\n",
      "               Class     Images     Labels          P          R     mAP@.5 mAP@.5:.95: 100% 3/3 [02:49<00:00, 56.42s/it]\n",
      "                 all         91         93      0.953      0.882      0.921      0.482\n",
      "Speed: 1.0ms pre-process, 23.1ms inference, 1.0ms NMS per image at shape (32, 3, 640, 640)\n",
      "Results saved to \u001b[1m/mnt/2015P002510/rakin/cervical_cancer/cervix_detection/yolov5_runs/20230411_retrain_cambodia/val_liger_test_91/train_yolov5s_cambodia_80_10_10_weights\u001b[0m\n"
     ]
    }
   ],
   "source": [
    "!python /mnt/2015P002510/rakin/object_detection_repos/yolov5/val.py \\\n",
    "--weights /mnt/2015P002510/rakin/cervical_cancer/cervix_detection/yolov5_runs/20230411_retrain_cambodia/train_yolov5s_cambodia_80_10_10.pt \\\n",
    "--data /mnt/2015P002510/rakin/object_detection_repos/yolov5/data/20220412_test.yaml \\\n",
    "--project /mnt/2015P002510/rakin/cervical_cancer/cervix_detection/yolov5_runs/20230411_retrain_cambodia/val_liger_test_91/ \\\n",
    "--name train_yolov5s_cambodia_80_10_10_weights"
   ]
  },
  {
   "cell_type": "markdown",
   "id": "6b232873",
   "metadata": {},
   "source": [
    "### 5study test2 91"
   ]
  },
  {
   "cell_type": "code",
   "execution_count": 3,
   "id": "9681743a",
   "metadata": {},
   "outputs": [
    {
     "name": "stdout",
     "output_type": "stream",
     "text": [
      "\u001b[34m\u001b[1mval: \u001b[0mdata=/mnt/2015P002510/rakin/object_detection_repos/yolov5/data/20220412_test.yaml, weights=['/mnt/2015P002510/rakin/cervical_cancer/cervix_detection/yolov5_runs/20230411_retrain_cambodia/train_100ep_yolov5s_5study_liger_cambodia_80_10_10.pt'], batch_size=32, imgsz=640, conf_thres=0.001, iou_thres=0.6, task=val, device=, single_cls=False, augment=False, verbose=False, save_txt=False, save_hybrid=False, save_conf=False, save_json=False, project=/mnt/2015P002510/rakin/cervical_cancer/cervix_detection/yolov5_runs/20230411_retrain_cambodia/val_5study_test2_91/, name=train_100ep_yolov5s_5study_liger_cambodia_80_10_10_weights, exist_ok=False, half=False, dnn=False\n",
      "YOLOv5 🚀 v6.0-95-g562191f torch 1.9.0a0+2ecb2c7 CUDA:0 (NVIDIA A100-PCIE-40GB MIG 3g.20gb, 19968MiB)\n",
      "\n",
      "Fusing layers... \n",
      "Model Summary: 213 layers, 7012822 parameters, 0 gradients, 15.8 GFLOPs\n",
      "\u001b[34m\u001b[1mval: \u001b[0mScanning '/mnt/2015P002510/rakin/cervical_cancer/cervix_detection/yolov5_ru\u001b[0m\n",
      "\u001b[34m\u001b[1mval: \u001b[0mNew cache created: /mnt/2015P002510/rakin/cervical_cancer/cervix_detection/yolov5_runs/20230411_retrain_cambodia/test_data/5study_test2_91/labels/test2.cache\n",
      "               Class     Images     Labels          P          R     mAP@.5 mAP@.5:.95: 100% 3/3 [00:04<00:00,  1.53s/it]\n",
      "                 all         91         91          1          1      0.995      0.934\n",
      "Speed: 0.2ms pre-process, 2.0ms inference, 0.6ms NMS per image at shape (32, 3, 640, 640)\n",
      "Results saved to \u001b[1m/mnt/2015P002510/rakin/cervical_cancer/cervix_detection/yolov5_runs/20230411_retrain_cambodia/val_5study_test2_91/train_100ep_yolov5s_5study_liger_cambodia_80_10_10_weights\u001b[0m\n"
     ]
    }
   ],
   "source": [
    "!python /mnt/2015P002510/rakin/object_detection_repos/yolov5/val.py \\\n",
    "--weights /mnt/2015P002510/rakin/cervical_cancer/cervix_detection/yolov5_runs/20230411_retrain_cambodia/train_100ep_yolov5s_5study_liger_cambodia_80_10_10.pt \\\n",
    "--data /mnt/2015P002510/rakin/object_detection_repos/yolov5/data/20220412_test.yaml \\\n",
    "--project /mnt/2015P002510/rakin/cervical_cancer/cervix_detection/yolov5_runs/20230411_retrain_cambodia/val_5study_test2_91/ \\\n",
    "--name train_100ep_yolov5s_5study_liger_cambodia_80_10_10_weights"
   ]
  },
  {
   "cell_type": "code",
   "execution_count": 4,
   "id": "9765aa66",
   "metadata": {},
   "outputs": [
    {
     "name": "stdout",
     "output_type": "stream",
     "text": [
      "\u001b[34m\u001b[1mval: \u001b[0mdata=/mnt/2015P002510/rakin/object_detection_repos/yolov5/data/20220412_test.yaml, weights=['/mnt/2015P002510/rakin/cervical_cancer/cervix_detection/yolov5_runs/20230411_retrain_cambodia/train_60ep_yolov5s_5study_liger_cambodia_80_10_10.pt'], batch_size=32, imgsz=640, conf_thres=0.001, iou_thres=0.6, task=val, device=, single_cls=False, augment=False, verbose=False, save_txt=False, save_hybrid=False, save_conf=False, save_json=False, project=/mnt/2015P002510/rakin/cervical_cancer/cervix_detection/yolov5_runs/20230411_retrain_cambodia/val_5study_test2_91/, name=train_60ep_yolov5s_5study_liger_cambodia_80_10_10_weights, exist_ok=False, half=False, dnn=False\n",
      "YOLOv5 🚀 v6.0-95-g562191f torch 1.9.0a0+2ecb2c7 CUDA:0 (NVIDIA A100-PCIE-40GB MIG 3g.20gb, 19968MiB)\n",
      "\n",
      "Fusing layers... \n",
      "Model Summary: 213 layers, 7012822 parameters, 0 gradients, 15.8 GFLOPs\n",
      "\u001b[34m\u001b[1mval: \u001b[0mScanning '/mnt/2015P002510/rakin/cervical_cancer/cervix_detection/yolov5_ru\u001b[0m\n",
      "               Class     Images     Labels          P          R     mAP@.5 mAP@.5:.95: 100% 3/3 [00:04<00:00,  1.55s/it]\n",
      "                 all         91         91          1          1      0.995      0.938\n",
      "Speed: 0.2ms pre-process, 2.2ms inference, 1.7ms NMS per image at shape (32, 3, 640, 640)\n",
      "Results saved to \u001b[1m/mnt/2015P002510/rakin/cervical_cancer/cervix_detection/yolov5_runs/20230411_retrain_cambodia/val_5study_test2_91/train_60ep_yolov5s_5study_liger_cambodia_80_10_10_weights\u001b[0m\n"
     ]
    }
   ],
   "source": [
    "!python /mnt/2015P002510/rakin/object_detection_repos/yolov5/val.py \\\n",
    "--weights /mnt/2015P002510/rakin/cervical_cancer/cervix_detection/yolov5_runs/20230411_retrain_cambodia/train_60ep_yolov5s_5study_liger_cambodia_80_10_10.pt \\\n",
    "--data /mnt/2015P002510/rakin/object_detection_repos/yolov5/data/20220412_test.yaml \\\n",
    "--project /mnt/2015P002510/rakin/cervical_cancer/cervix_detection/yolov5_runs/20230411_retrain_cambodia/val_5study_test2_91/ \\\n",
    "--name train_60ep_yolov5s_5study_liger_cambodia_80_10_10_weights"
   ]
  },
  {
   "cell_type": "code",
   "execution_count": 5,
   "id": "f65e465d",
   "metadata": {},
   "outputs": [
    {
     "name": "stdout",
     "output_type": "stream",
     "text": [
      "\u001b[34m\u001b[1mval: \u001b[0mdata=/mnt/2015P002510/rakin/object_detection_repos/yolov5/data/20220412_test.yaml, weights=['/mnt/2015P002510/rakin/cervical_cancer/cervix_detection/yolov5_runs/20230411_retrain_cambodia/train_v1_tf_cambodia_80_10_10.pt'], batch_size=32, imgsz=640, conf_thres=0.001, iou_thres=0.6, task=val, device=, single_cls=False, augment=False, verbose=False, save_txt=False, save_hybrid=False, save_conf=False, save_json=False, project=/mnt/2015P002510/rakin/cervical_cancer/cervix_detection/yolov5_runs/20230411_retrain_cambodia/val_5study_test2_91/, name=train_v1_tf_cambodia_80_10_10_weights, exist_ok=False, half=False, dnn=False\n",
      "YOLOv5 🚀 v6.0-95-g562191f torch 1.9.0a0+2ecb2c7 CUDA:0 (NVIDIA A100-PCIE-40GB MIG 3g.20gb, 19968MiB)\n",
      "\n",
      "Fusing layers... \n",
      "Model Summary: 213 layers, 7012822 parameters, 0 gradients, 15.8 GFLOPs\n",
      "\u001b[34m\u001b[1mval: \u001b[0mScanning '/mnt/2015P002510/rakin/cervical_cancer/cervix_detection/yolov5_ru\u001b[0m\n",
      "               Class     Images     Labels          P          R     mAP@.5 mAP@.5:.95: 100% 3/3 [00:04<00:00,  1.55s/it]\n",
      "                 all         91         91      0.989      0.989       0.99      0.704\n",
      "Speed: 0.2ms pre-process, 2.0ms inference, 1.6ms NMS per image at shape (32, 3, 640, 640)\n",
      "Results saved to \u001b[1m/mnt/2015P002510/rakin/cervical_cancer/cervix_detection/yolov5_runs/20230411_retrain_cambodia/val_5study_test2_91/train_v1_tf_cambodia_80_10_10_weights\u001b[0m\n"
     ]
    }
   ],
   "source": [
    "!python /mnt/2015P002510/rakin/object_detection_repos/yolov5/val.py \\\n",
    "--weights /mnt/2015P002510/rakin/cervical_cancer/cervix_detection/yolov5_runs/20230411_retrain_cambodia/train_v1_tf_cambodia_80_10_10.pt \\\n",
    "--data /mnt/2015P002510/rakin/object_detection_repos/yolov5/data/20220412_test.yaml \\\n",
    "--project /mnt/2015P002510/rakin/cervical_cancer/cervix_detection/yolov5_runs/20230411_retrain_cambodia/val_5study_test2_91/ \\\n",
    "--name train_v1_tf_cambodia_80_10_10_weights"
   ]
  },
  {
   "cell_type": "code",
   "execution_count": 6,
   "id": "4cef734b",
   "metadata": {},
   "outputs": [
    {
     "name": "stdout",
     "output_type": "stream",
     "text": [
      "\u001b[34m\u001b[1mval: \u001b[0mdata=/mnt/2015P002510/rakin/object_detection_repos/yolov5/data/20220412_test.yaml, weights=['/mnt/2015P002510/rakin/cervical_cancer/cervix_detection/yolov5_runs/20230411_retrain_cambodia/train_yolov5s_cambodia_80_10_10.pt'], batch_size=32, imgsz=640, conf_thres=0.001, iou_thres=0.6, task=val, device=, single_cls=False, augment=False, verbose=False, save_txt=False, save_hybrid=False, save_conf=False, save_json=False, project=/mnt/2015P002510/rakin/cervical_cancer/cervix_detection/yolov5_runs/20230411_retrain_cambodia/val_5study_test2_91/, name=train_yolov5s_cambodia_80_10_10_weights, exist_ok=False, half=False, dnn=False\n",
      "YOLOv5 🚀 v6.0-95-g562191f torch 1.9.0a0+2ecb2c7 CUDA:0 (NVIDIA A100-PCIE-40GB MIG 3g.20gb, 19968MiB)\n",
      "\n",
      "Fusing layers... \n",
      "Model Summary: 213 layers, 7012822 parameters, 0 gradients, 15.8 GFLOPs\n",
      "\u001b[34m\u001b[1mval: \u001b[0mScanning '/mnt/2015P002510/rakin/cervical_cancer/cervix_detection/yolov5_ru\u001b[0m\n",
      "               Class     Images     Labels          P          R     mAP@.5 mAP@.5:.95: 100% 3/3 [00:04<00:00,  1.55s/it]\n",
      "                 all         91         91      0.935      0.956      0.975       0.54\n",
      "Speed: 0.2ms pre-process, 2.0ms inference, 1.6ms NMS per image at shape (32, 3, 640, 640)\n",
      "Results saved to \u001b[1m/mnt/2015P002510/rakin/cervical_cancer/cervix_detection/yolov5_runs/20230411_retrain_cambodia/val_5study_test2_91/train_yolov5s_cambodia_80_10_10_weights\u001b[0m\n"
     ]
    }
   ],
   "source": [
    "!python /mnt/2015P002510/rakin/object_detection_repos/yolov5/val.py \\\n",
    "--weights /mnt/2015P002510/rakin/cervical_cancer/cervix_detection/yolov5_runs/20230411_retrain_cambodia/train_yolov5s_cambodia_80_10_10.pt \\\n",
    "--data /mnt/2015P002510/rakin/object_detection_repos/yolov5/data/20220412_test.yaml \\\n",
    "--project /mnt/2015P002510/rakin/cervical_cancer/cervix_detection/yolov5_runs/20230411_retrain_cambodia/val_5study_test2_91/ \\\n",
    "--name train_yolov5s_cambodia_80_10_10_weights"
   ]
  },
  {
   "cell_type": "markdown",
   "id": "898c954e",
   "metadata": {},
   "source": [
    "### Cambodia test 24"
   ]
  },
  {
   "cell_type": "code",
   "execution_count": 1,
   "id": "c4f1d472",
   "metadata": {},
   "outputs": [
    {
     "name": "stdout",
     "output_type": "stream",
     "text": [
      "\u001b[34m\u001b[1mval: \u001b[0mdata=/mnt/2015P002510/rakin/object_detection_repos/yolov5/data/20220412_test.yaml, weights=['/mnt/2015P002510/rakin/cervical_cancer/cervix_detection/yolov5_runs/20230411_retrain_cambodia/train_100ep_yolov5s_5study_liger_cambodia_80_10_10.pt'], batch_size=32, imgsz=640, conf_thres=0.001, iou_thres=0.6, task=val, device=, single_cls=False, augment=False, verbose=False, save_txt=False, save_hybrid=False, save_conf=False, save_json=False, project=/mnt/2015P002510/rakin/cervical_cancer/cervix_detection/yolov5_runs/20230411_retrain_cambodia/val_cambodia_test_24/, name=train_100ep_yolov5s_5study_liger_cambodia_80_10_10_weights, exist_ok=False, half=False, dnn=False\n",
      "YOLOv5 🚀 v6.0-95-g562191f torch 1.9.0a0+2ecb2c7 CUDA:0 (NVIDIA A100-PCIE-40GB MIG 3g.20gb, 19968MiB)\n",
      "\n",
      "Fusing layers... \n",
      "Model Summary: 213 layers, 7012822 parameters, 0 gradients, 15.8 GFLOPs\n",
      "\u001b[34m\u001b[1mval: \u001b[0mScanning '/mnt/2015P002510/rakin/cervical_cancer/cervix_detection/yolov5_ru\u001b[0m\n",
      "               Class     Images     Labels          P          R     mAP@.5 mAP@.5:.95: 100% 1/1 [00:06<00:00,  6.57s/it]\n",
      "                 all         24         25          1       0.96      0.979      0.803\n",
      "Speed: 0.4ms pre-process, 2.5ms inference, 0.6ms NMS per image at shape (32, 3, 640, 640)\n",
      "Results saved to \u001b[1m/mnt/2015P002510/rakin/cervical_cancer/cervix_detection/yolov5_runs/20230411_retrain_cambodia/val_cambodia_test_24/train_100ep_yolov5s_5study_liger_cambodia_80_10_10_weights\u001b[0m\n"
     ]
    }
   ],
   "source": [
    "!python /mnt/2015P002510/rakin/object_detection_repos/yolov5/val.py \\\n",
    "--weights /mnt/2015P002510/rakin/cervical_cancer/cervix_detection/yolov5_runs/20230411_retrain_cambodia/train_100ep_yolov5s_5study_liger_cambodia_80_10_10.pt \\\n",
    "--data /mnt/2015P002510/rakin/object_detection_repos/yolov5/data/20220412_test.yaml \\\n",
    "--project /mnt/2015P002510/rakin/cervical_cancer/cervix_detection/yolov5_runs/20230411_retrain_cambodia/val_cambodia_test_24/ \\\n",
    "--name train_100ep_yolov5s_5study_liger_cambodia_80_10_10_weights"
   ]
  },
  {
   "cell_type": "code",
   "execution_count": 4,
   "id": "382850d3",
   "metadata": {},
   "outputs": [
    {
     "name": "stdout",
     "output_type": "stream",
     "text": [
      "\u001b[34m\u001b[1mval: \u001b[0mdata=/mnt/2015P002510/rakin/object_detection_repos/yolov5/data/20220412_test.yaml, weights=['/mnt/2015P002510/rakin/cervical_cancer/cervix_detection/yolov5_runs/20230411_retrain_cambodia/train_60ep_yolov5s_5study_liger_cambodia_80_10_10.pt'], batch_size=32, imgsz=640, conf_thres=0.001, iou_thres=0.6, task=val, device=, single_cls=False, augment=False, verbose=False, save_txt=False, save_hybrid=False, save_conf=False, save_json=False, project=/mnt/2015P002510/rakin/cervical_cancer/cervix_detection/yolov5_runs/20230411_retrain_cambodia/val_cambodia_test_24/, name=train_60ep_yolov5s_5study_liger_cambodia_80_10_10_weights, exist_ok=False, half=False, dnn=False\n",
      "YOLOv5 🚀 v6.0-95-g562191f torch 1.9.0a0+2ecb2c7 CUDA:0 (NVIDIA A100-PCIE-40GB MIG 3g.20gb, 19968MiB)\n",
      "\n",
      "Fusing layers... \n",
      "Model Summary: 213 layers, 7012822 parameters, 0 gradients, 15.8 GFLOPs\n",
      "\u001b[34m\u001b[1mval: \u001b[0mScanning '/mnt/2015P002510/rakin/cervical_cancer/cervix_detection/yolov5_ru\u001b[0m\n",
      "\u001b[34m\u001b[1mval: \u001b[0mNew cache created: /mnt/2015P002510/rakin/cervical_cancer/cervix_detection/yolov5_runs/20230411_retrain_cambodia/test_data/cambodia_test_24/labels.cache\n",
      "               Class     Images     Labels          P          R     mAP@.5 mAP@.5:.95: 100% 1/1 [00:17<00:00, 17.13s/it]\n",
      "                 all         24         25          1       0.96      0.978      0.781\n",
      "Speed: 0.5ms pre-process, 2.6ms inference, 0.6ms NMS per image at shape (32, 3, 640, 640)\n",
      "Results saved to \u001b[1m/mnt/2015P002510/rakin/cervical_cancer/cervix_detection/yolov5_runs/20230411_retrain_cambodia/val_cambodia_test_24/train_60ep_yolov5s_5study_liger_cambodia_80_10_10_weights\u001b[0m\n"
     ]
    }
   ],
   "source": [
    "!python /mnt/2015P002510/rakin/object_detection_repos/yolov5/val.py \\\n",
    "--weights /mnt/2015P002510/rakin/cervical_cancer/cervix_detection/yolov5_runs/20230411_retrain_cambodia/train_60ep_yolov5s_5study_liger_cambodia_80_10_10.pt \\\n",
    "--data /mnt/2015P002510/rakin/object_detection_repos/yolov5/data/20220412_test.yaml \\\n",
    "--project /mnt/2015P002510/rakin/cervical_cancer/cervix_detection/yolov5_runs/20230411_retrain_cambodia/val_cambodia_test_24/ \\\n",
    "--name train_60ep_yolov5s_5study_liger_cambodia_80_10_10_weights"
   ]
  },
  {
   "cell_type": "code",
   "execution_count": 5,
   "id": "3acd7cc5",
   "metadata": {},
   "outputs": [
    {
     "name": "stdout",
     "output_type": "stream",
     "text": [
      "\u001b[34m\u001b[1mval: \u001b[0mdata=/mnt/2015P002510/rakin/object_detection_repos/yolov5/data/20220412_test.yaml, weights=['/mnt/2015P002510/rakin/cervical_cancer/cervix_detection/yolov5_runs/20230411_retrain_cambodia/train_v1_tf_cambodia_80_10_10.pt'], batch_size=32, imgsz=640, conf_thres=0.001, iou_thres=0.6, task=val, device=, single_cls=False, augment=False, verbose=False, save_txt=False, save_hybrid=False, save_conf=False, save_json=False, project=/mnt/2015P002510/rakin/cervical_cancer/cervix_detection/yolov5_runs/20230411_retrain_cambodia/val_cambodia_test_24/, name=train_v1_tf_cambodia_80_10_10_weights, exist_ok=False, half=False, dnn=False\n",
      "YOLOv5 🚀 v6.0-95-g562191f torch 1.9.0a0+2ecb2c7 CUDA:0 (NVIDIA A100-PCIE-40GB MIG 3g.20gb, 19968MiB)\n",
      "\n",
      "Fusing layers... \n",
      "Model Summary: 213 layers, 7012822 parameters, 0 gradients, 15.8 GFLOPs\n",
      "\u001b[34m\u001b[1mval: \u001b[0mScanning '/mnt/2015P002510/rakin/cervical_cancer/cervix_detection/yolov5_ru\u001b[0m\n",
      "               Class     Images     Labels          P          R     mAP@.5 mAP@.5:.95: 100% 1/1 [00:38<00:00, 38.90s/it]\n",
      "                 all         24         25          1       0.96      0.965      0.775\n",
      "Speed: 0.1ms pre-process, 2.5ms inference, 0.6ms NMS per image at shape (32, 3, 640, 640)\n",
      "Results saved to \u001b[1m/mnt/2015P002510/rakin/cervical_cancer/cervix_detection/yolov5_runs/20230411_retrain_cambodia/val_cambodia_test_24/train_v1_tf_cambodia_80_10_10_weights\u001b[0m\n"
     ]
    }
   ],
   "source": [
    "!python /mnt/2015P002510/rakin/object_detection_repos/yolov5/val.py \\\n",
    "--weights /mnt/2015P002510/rakin/cervical_cancer/cervix_detection/yolov5_runs/20230411_retrain_cambodia/train_v1_tf_cambodia_80_10_10.pt \\\n",
    "--data /mnt/2015P002510/rakin/object_detection_repos/yolov5/data/20220412_test.yaml \\\n",
    "--project /mnt/2015P002510/rakin/cervical_cancer/cervix_detection/yolov5_runs/20230411_retrain_cambodia/val_cambodia_test_24/ \\\n",
    "--name train_v1_tf_cambodia_80_10_10_weights"
   ]
  },
  {
   "cell_type": "code",
   "execution_count": 6,
   "id": "994ffe2e",
   "metadata": {},
   "outputs": [
    {
     "name": "stdout",
     "output_type": "stream",
     "text": [
      "\u001b[34m\u001b[1mval: \u001b[0mdata=/mnt/2015P002510/rakin/object_detection_repos/yolov5/data/20220412_test.yaml, weights=['/mnt/2015P002510/rakin/cervical_cancer/cervix_detection/yolov5_runs/20230411_retrain_cambodia/train_yolov5s_cambodia_80_10_10.pt'], batch_size=32, imgsz=640, conf_thres=0.001, iou_thres=0.6, task=val, device=, single_cls=False, augment=False, verbose=False, save_txt=False, save_hybrid=False, save_conf=False, save_json=False, project=/mnt/2015P002510/rakin/cervical_cancer/cervix_detection/yolov5_runs/20230411_retrain_cambodia/val_cambodia_test_24/, name=train_yolov5s_cambodia_80_10_10_weights, exist_ok=False, half=False, dnn=False\n",
      "YOLOv5 🚀 v6.0-95-g562191f torch 1.9.0a0+2ecb2c7 CUDA:0 (NVIDIA A100-PCIE-40GB MIG 3g.20gb, 19968MiB)\n",
      "\n",
      "Fusing layers... \n",
      "Model Summary: 213 layers, 7012822 parameters, 0 gradients, 15.8 GFLOPs\n",
      "\u001b[34m\u001b[1mval: \u001b[0mScanning '/mnt/2015P002510/rakin/cervical_cancer/cervix_detection/yolov5_ru\u001b[0m\n",
      "               Class     Images     Labels          P          R     mAP@.5 mAP@.5:.95: 100% 1/1 [00:25<00:00, 25.66s/it]\n",
      "                 all         24         25          1       0.96      0.991      0.724\n",
      "Speed: 0.1ms pre-process, 2.5ms inference, 0.6ms NMS per image at shape (32, 3, 640, 640)\n",
      "Results saved to \u001b[1m/mnt/2015P002510/rakin/cervical_cancer/cervix_detection/yolov5_runs/20230411_retrain_cambodia/val_cambodia_test_24/train_yolov5s_cambodia_80_10_10_weights\u001b[0m\n"
     ]
    }
   ],
   "source": [
    "!python /mnt/2015P002510/rakin/object_detection_repos/yolov5/val.py \\\n",
    "--weights /mnt/2015P002510/rakin/cervical_cancer/cervix_detection/yolov5_runs/20230411_retrain_cambodia/train_yolov5s_cambodia_80_10_10.pt \\\n",
    "--data /mnt/2015P002510/rakin/object_detection_repos/yolov5/data/20220412_test.yaml \\\n",
    "--project /mnt/2015P002510/rakin/cervical_cancer/cervix_detection/yolov5_runs/20230411_retrain_cambodia/val_cambodia_test_24/ \\\n",
    "--name train_yolov5s_cambodia_80_10_10_weights"
   ]
  },
  {
   "cell_type": "markdown",
   "id": "e1eb3eb3",
   "metadata": {},
   "source": [
    "# Export Model"
   ]
  },
  {
   "cell_type": "code",
   "execution_count": 1,
   "id": "50b6a05d",
   "metadata": {},
   "outputs": [
    {
     "name": "stdout",
     "output_type": "stream",
     "text": [
      "\u001b[34m\u001b[1mexport_rakin: \u001b[0mdata=/mnt/2015P002510/rakin/object_detection_repos/yolov5/data/20221101_cervix_5study_liger_80_10_10.yaml, weights=/mnt/2015P002510/rakin/cervical_cancer/cervix_detection/yolov5_runs/20230411_retrain_cambodia/train_100ep_yolov5s_5study_liger_cambodia_80_10_10.pt, imgsz=[320, 320], batch_size=1, device=cpu, half=False, inplace=False, train=False, optimize=False, int8=True, dynamic=False, simplify=False, opset=13, topk_per_class=100, topk_all=100, iou_thres=0.45, conf_thres=0.25, include=['tflite']\n",
      "YOLOv5 🚀 v6.0-95-g562191f torch 1.9.0a0+2ecb2c7 CPU\n",
      "\n",
      "Fusing layers... \n",
      "Model Summary: 213 layers, 7012822 parameters, 0 gradients, 15.8 GFLOPs\n",
      "\n",
      "\u001b[34m\u001b[1mPyTorch:\u001b[0m starting from /mnt/2015P002510/rakin/cervical_cancer/cervix_detection/yolov5_runs/20230411_retrain_cambodia/train_100ep_yolov5s_5study_liger_cambodia_80_10_10.pt (14.4 MB)\n",
      "2023-05-08 17:41:25.500516: I tensorflow/core/platform/cpu_feature_guard.cc:193] This TensorFlow binary is optimized with oneAPI Deep Neural Network Library (oneDNN) to use the following CPU instructions in performance-critical operations:  AVX2 FMA\n",
      "To enable them in other operations, rebuild TensorFlow with the appropriate compiler flags.\n",
      "2023-05-08 17:41:27.415358: E tensorflow/stream_executor/cuda/cuda_blas.cc:2981] Unable to register cuBLAS factory: Attempting to register factory for plugin cuBLAS when one has already been registered\n",
      "\n",
      "\u001b[34m\u001b[1mTensorFlow saved_model:\u001b[0m starting export with tensorflow 2.10.1...\n",
      "\n",
      "                 from  n    params  module                                  arguments                     \n",
      "2023-05-08 17:41:38.016385: E tensorflow/stream_executor/cuda/cuda_driver.cc:265] failed call to cuInit: CUDA_ERROR_NO_DEVICE: no CUDA-capable device is detected\n",
      "2023-05-08 17:41:38.016425: I tensorflow/stream_executor/cuda/cuda_diagnostics.cc:163] no NVIDIA GPU device is present: /dev/nvidia0 does not exist\n",
      "2023-05-08 17:41:38.016698: I tensorflow/core/platform/cpu_feature_guard.cc:193] This TensorFlow binary is optimized with oneAPI Deep Neural Network Library (oneDNN) to use the following CPU instructions in performance-critical operations:  AVX2 FMA\n",
      "To enable them in other operations, rebuild TensorFlow with the appropriate compiler flags.\n",
      "  0                -1  1      3520  models.common.Conv                      [3, 32, 6, 2, 2]              \n",
      "  1                -1  1     18560  models.common.Conv                      [32, 64, 3, 2]                \n",
      "  2                -1  1     18816  models.common.C3                        [64, 64, 1]                   \n",
      "  3                -1  1     73984  models.common.Conv                      [64, 128, 3, 2]               \n",
      "  4                -1  1    115712  models.common.C3                        [128, 128, 2]                 \n",
      "  5                -1  1    295424  models.common.Conv                      [128, 256, 3, 2]              \n",
      "  6                -1  1    625152  models.common.C3                        [256, 256, 3]                 \n",
      "  7                -1  1   1180672  models.common.Conv                      [256, 512, 3, 2]              \n",
      "  8                -1  1   1182720  models.common.C3                        [512, 512, 1]                 \n",
      "  9                -1  1    656896  models.common.SPPF                      [512, 512, 5]                 \n",
      " 10                -1  1    131584  models.common.Conv                      [512, 256, 1, 1]              \n",
      " 11                -1  1         0  torch.nn.modules.upsampling.Upsample    [None, 2, 'nearest']          \n",
      " 12           [-1, 6]  1         0  models.common.Concat                    [1]                           \n",
      " 13                -1  1    361984  models.common.C3                        [512, 256, 1, False]          \n",
      " 14                -1  1     33024  models.common.Conv                      [256, 128, 1, 1]              \n",
      " 15                -1  1         0  torch.nn.modules.upsampling.Upsample    [None, 2, 'nearest']          \n",
      " 16           [-1, 4]  1         0  models.common.Concat                    [1]                           \n",
      " 17                -1  1     90880  models.common.C3                        [256, 128, 1, False]          \n",
      " 18                -1  1    147712  models.common.Conv                      [128, 128, 3, 2]              \n",
      " 19          [-1, 14]  1         0  models.common.Concat                    [1]                           \n",
      " 20                -1  1    296448  models.common.C3                        [256, 256, 1, False]          \n",
      " 21                -1  1    590336  models.common.Conv                      [256, 256, 3, 2]              \n",
      " 22          [-1, 10]  1         0  models.common.Concat                    [1]                           \n",
      " 23                -1  1   1182720  models.common.C3                        [512, 512, 1, False]          \n",
      " 24      [17, 20, 23]  1     16182  models.yolo.Detect                      [1, [[10, 13, 16, 30, 33, 23], [30, 61, 62, 45, 59, 119], [116, 90, 156, 198, 373, 326]], [128, 256, 512], [320, 320]]\n",
      "Model: \"model\"\n",
      "__________________________________________________________________________________________________\n",
      " Layer (type)                   Output Shape         Param #     Connected to                     \n",
      "==================================================================================================\n",
      " input_1 (InputLayer)           [(1, 320, 320, 3)]   0           []                               \n",
      "                                                                                                  \n",
      " tf_conv (TFConv)               (1, 160, 160, 32)    3488        ['input_1[0][0]']                \n",
      "                                                                                                  \n",
      " tf_conv_1 (TFConv)             (1, 80, 80, 64)      18496       ['tf_conv[0][0]']                \n",
      "                                                                                                  \n",
      " tfc3 (TFC3)                    (1, 80, 80, 64)      18624       ['tf_conv_1[0][0]']              \n",
      "                                                                                                  \n",
      " tf_conv_7 (TFConv)             (1, 40, 40, 128)     73856       ['tfc3[0][0]']                   \n",
      "                                                                                                  \n",
      " tfc3_1 (TFC3)                  (1, 40, 40, 128)     115200      ['tf_conv_7[0][0]']              \n",
      "                                                                                                  \n",
      " tf_conv_15 (TFConv)            (1, 20, 20, 256)     295168      ['tfc3_1[0][0]']                 \n",
      "                                                                                                  \n",
      " tfc3_2 (TFC3)                  (1, 20, 20, 256)     623872      ['tf_conv_15[0][0]']             \n",
      "                                                                                                  \n",
      " tf_conv_25 (TFConv)            (1, 10, 10, 512)     1180160     ['tfc3_2[0][0]']                 \n",
      "                                                                                                  \n",
      " tfc3_3 (TFC3)                  (1, 10, 10, 512)     1181184     ['tf_conv_25[0][0]']             \n",
      "                                                                                                  \n",
      " tfsppf (TFSPPF)                (1, 10, 10, 512)     656128      ['tfc3_3[0][0]']                 \n",
      "                                                                                                  \n",
      " tf_conv_33 (TFConv)            (1, 10, 10, 256)     131328      ['tfsppf[0][0]']                 \n",
      "                                                                                                  \n",
      " tf_upsample (TFUpsample)       (1, 20, 20, 256)     0           ['tf_conv_33[0][0]']             \n",
      "                                                                                                  \n",
      " tf_concat (TFConcat)           (1, 20, 20, 512)     0           ['tf_upsample[0][0]',            \n",
      "                                                                  'tfc3_2[0][0]']                 \n",
      "                                                                                                  \n",
      " tfc3_4 (TFC3)                  (1, 20, 20, 256)     361216      ['tf_concat[0][0]']              \n",
      "                                                                                                  \n",
      " tf_conv_39 (TFConv)            (1, 20, 20, 128)     32896       ['tfc3_4[0][0]']                 \n",
      "                                                                                                  \n",
      " tf_upsample_1 (TFUpsample)     (1, 40, 40, 128)     0           ['tf_conv_39[0][0]']             \n",
      "                                                                                                  \n",
      " tf_concat_1 (TFConcat)         (1, 40, 40, 256)     0           ['tf_upsample_1[0][0]',          \n",
      "                                                                  'tfc3_1[0][0]']                 \n",
      "                                                                                                  \n",
      " tfc3_5 (TFC3)                  (1, 40, 40, 128)     90496       ['tf_concat_1[0][0]']            \n",
      "                                                                                                  \n",
      " tf_conv_45 (TFConv)            (1, 20, 20, 128)     147584      ['tfc3_5[0][0]']                 \n",
      "                                                                                                  \n",
      " tf_concat_2 (TFConcat)         (1, 20, 20, 256)     0           ['tf_conv_45[0][0]',             \n",
      "                                                                  'tf_conv_39[0][0]']             \n",
      "                                                                                                  \n",
      " tfc3_6 (TFC3)                  (1, 20, 20, 256)     295680      ['tf_concat_2[0][0]']            \n",
      "                                                                                                  \n",
      " tf_conv_51 (TFConv)            (1, 10, 10, 256)     590080      ['tfc3_6[0][0]']                 \n",
      "                                                                                                  \n",
      " tf_concat_3 (TFConcat)         (1, 10, 10, 512)     0           ['tf_conv_51[0][0]',             \n",
      "                                                                  'tf_conv_33[0][0]']             \n",
      "                                                                                                  \n",
      " tfc3_7 (TFC3)                  (1, 10, 10, 512)     1181184     ['tf_concat_3[0][0]']            \n",
      "                                                                                                  \n",
      " tf_detect (TFDetect)           ((1, 6300, 6),       16182       ['tfc3_5[0][0]',                 \n",
      "                                 [(1, 3, 1600, 6),                'tfc3_6[0][0]',                 \n",
      "                                 (1, 3, 400, 6),                  'tfc3_7[0][0]']                 \n",
      "                                 (1, 3, 100, 6)])                                                 \n",
      "                                                                                                  \n",
      "==================================================================================================\n",
      "Total params: 7,012,822\n",
      "Trainable params: 0\n",
      "Non-trainable params: 7,012,822\n",
      "__________________________________________________________________________________________________\n",
      "Compiled the loaded model, but the compiled metrics have yet to be built. `model.compile_metrics` will be empty until you train or evaluate the model.\n",
      "Found untraced functions such as tf_conv_2_layer_call_fn, tf_conv_2_layer_call_and_return_conditional_losses, tf_conv_3_layer_call_fn, tf_conv_3_layer_call_and_return_conditional_losses, tf_conv_4_layer_call_fn while saving (showing 5 of 268). These functions will not be directly callable after loading.\n",
      "Assets written to: /mnt/2015P002510/rakin/cervical_cancer/cervix_detection/yolov5_runs/20230411_retrain_cambodia/train_100ep_yolov5s_5study_liger_cambodia_80_10_10_saved_model/assets\n",
      "\u001b[34m\u001b[1mTensorFlow saved_model:\u001b[0m export success, saved as /mnt/2015P002510/rakin/cervical_cancer/cervix_detection/yolov5_runs/20230411_retrain_cambodia/train_100ep_yolov5s_5study_liger_cambodia_80_10_10_saved_model (240.1 MB)\n",
      "\n",
      "\u001b[34m\u001b[1mTensorFlow Lite:\u001b[0m starting export with tensorflow 2.10.1...\n",
      "Found untraced functions such as tf_conv_2_layer_call_fn, tf_conv_2_layer_call_and_return_conditional_losses, tf_conv_3_layer_call_fn, tf_conv_3_layer_call_and_return_conditional_losses, tf_conv_4_layer_call_fn while saving (showing 5 of 268). These functions will not be directly callable after loading.\n",
      "Assets written to: /tmp/tmp69ue9f2u/assets\n",
      "/opt/conda/lib/python3.8/site-packages/tensorflow/lite/python/convert.py:766: UserWarning: Statistics for quantized inputs were expected, but not specified; continuing anyway.\n",
      "  warnings.warn(\"Statistics for quantized inputs were expected, but not \"\n",
      "2023-05-08 17:42:52.935423: W tensorflow/compiler/mlir/lite/python/tf_tfl_flatbuffer_helpers.cc:362] Ignored output_format.\n",
      "2023-05-08 17:42:52.935617: W tensorflow/compiler/mlir/lite/python/tf_tfl_flatbuffer_helpers.cc:365] Ignored drop_control_dependency.\n",
      "2023-05-08 17:42:52.936465: I tensorflow/cc/saved_model/reader.cc:45] Reading SavedModel from: /tmp/tmp69ue9f2u\n",
      "2023-05-08 17:42:52.981190: I tensorflow/cc/saved_model/reader.cc:89] Reading meta graph with tags { serve }\n",
      "2023-05-08 17:42:52.981298: I tensorflow/cc/saved_model/reader.cc:130] Reading SavedModel debug info (if present) from: /tmp/tmp69ue9f2u\n",
      "2023-05-08 17:42:53.114898: I tensorflow/compiler/mlir/mlir_graph_optimization_pass.cc:354] MLIR V1 optimization pass is not enabled\n",
      "2023-05-08 17:42:53.159151: I tensorflow/cc/saved_model/loader.cc:229] Restoring SavedModel bundle.\n",
      "2023-05-08 17:42:53.514766: I tensorflow/cc/saved_model/loader.cc:213] Running initialization op on SavedModel bundle at path: /tmp/tmp69ue9f2u\n",
      "2023-05-08 17:42:53.678212: I tensorflow/cc/saved_model/loader.cc:305] SavedModel load for tags { serve }; Status: success: OK. Took 741751 microseconds.\n",
      "2023-05-08 17:42:54.279717: I tensorflow/compiler/mlir/tensorflow/utils/dump_mlir_util.cc:268] disabling MLIR crash reproducer, set env var `MLIR_CRASH_REPRODUCER_DIRECTORY` to enable.\n",
      "2023-05-08 17:42:54.803484: I tensorflow/compiler/mlir/lite/flatbuffer_export.cc:1989] Estimated count of arithmetic ops: 4.334 G  ops, equivalently 2.167 G  MACs\n",
      "\n",
      "Estimated count of arithmetic ops: 4.334 G  ops, equivalently 2.167 G  MACs\n",
      "\u001b[34m\u001b[1mTensorFlow Lite:\u001b[0m export success, saved as /mnt/2015P002510/rakin/cervical_cancer/cervix_detection/yolov5_runs/20230411_retrain_cambodia/train_100ep_yolov5s_5study_liger_cambodia_80_10_10-int8.tflite (7.4 MB)\n",
      "\n",
      "Export complete (142.63s)\n",
      "Results saved to \u001b[1m/mnt/2015P002510/rakin/cervical_cancer/cervix_detection/yolov5_runs/20230411_retrain_cambodia\u001b[0m\n",
      "Visualize with https://netron.app\n"
     ]
    }
   ],
   "source": [
    "# imgsz 320\n",
    "\n",
    "!python /mnt/2015P002510/rakin/object_detection_repos/yolov5/export_rakin.py \\\n",
    "--data /mnt/2015P002510/rakin/object_detection_repos/yolov5/data/20221101_cervix_5study_liger_80_10_10.yaml \\\n",
    "--weights /mnt/2015P002510/rakin/cervical_cancer/cervix_detection/yolov5_runs/20230411_retrain_cambodia/train_100ep_yolov5s_5study_liger_cambodia_80_10_10.pt \\\n",
    "--imgsz 320 320 \\\n",
    "--include tflite --int8"
   ]
  }
 ],
 "metadata": {
  "kernelspec": {
   "display_name": "Python 3",
   "language": "python",
   "name": "python3"
  },
  "language_info": {
   "codemirror_mode": {
    "name": "ipython",
    "version": 3
   },
   "file_extension": ".py",
   "mimetype": "text/x-python",
   "name": "python",
   "nbconvert_exporter": "python",
   "pygments_lexer": "ipython3",
   "version": "3.8.8"
  }
 },
 "nbformat": 4,
 "nbformat_minor": 5
}
