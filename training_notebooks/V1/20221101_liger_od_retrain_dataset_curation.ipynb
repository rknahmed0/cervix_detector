{
 "cells": [
  {
   "cell_type": "code",
   "execution_count": 1,
   "id": "c32a6bf2",
   "metadata": {},
   "outputs": [
    {
     "name": "stdout",
     "output_type": "stream",
     "text": [
      "3.8.8 (default, Feb 24 2021, 21:46:12) \n",
      "[GCC 7.3.0]\n",
      "1.9.0a0+2ecb2c7\n"
     ]
    }
   ],
   "source": [
    "import os, csv, json, cv2, random, time, sys, shutil\n",
    "import numpy as np\n",
    "import pandas as pd\n",
    "\n",
    "import multiprocessing\n",
    "from joblib import Parallel, delayed\n",
    "\n",
    "from tqdm import tqdm\n",
    "from matplotlib import pyplot as plt\n",
    "from zipfile import ZipFile\n",
    "from PIL import Image, ImageDraw\n",
    "\n",
    "import torch\n",
    "\n",
    "print(sys.version)\n",
    "print(torch.__version__)"
   ]
  },
  {
   "cell_type": "code",
   "execution_count": 2,
   "id": "08d52091",
   "metadata": {},
   "outputs": [],
   "source": [
    "base_dir = '/mnt/2015P002510/rakin/cervical_cancer/cervix_classification/portability/20221101_liger_images_OD_retrain/20221101_LIGER_dataset_orig/'"
   ]
  },
  {
   "cell_type": "code",
   "execution_count": 3,
   "id": "90d0f83f",
   "metadata": {},
   "outputs": [
    {
     "data": {
      "text/plain": [
       "1864"
      ]
     },
     "execution_count": 3,
     "metadata": {},
     "output_type": "execute_result"
    }
   ],
   "source": [
    "len(os.listdir(base_dir))"
   ]
  },
  {
   "cell_type": "code",
   "execution_count": 4,
   "id": "23518ab0",
   "metadata": {},
   "outputs": [
    {
     "name": "stdout",
     "output_type": "stream",
     "text": [
      "find: ‘/mnt/2015P002510/rakin/cervical_cancer/cervix_classification/portability/20221101_liger_images_OD_retrain/20221101_LIGER_dataset’: No such file or directory\n"
     ]
    }
   ],
   "source": [
    "!find /mnt/2015P002510/rakin/cervical_cancer/cervix_classification/portability/20221101_liger_images_OD_retrain/20221101_LIGER_dataset -type f | perl -ne 'print $1 if m/\\.([^.\\/]+)$/' | sort -u"
   ]
  },
  {
   "cell_type": "code",
   "execution_count": 5,
   "id": "aa9f59df",
   "metadata": {},
   "outputs": [],
   "source": [
    "all_files = os.listdir(base_dir)"
   ]
  },
  {
   "cell_type": "code",
   "execution_count": 6,
   "id": "532eec52",
   "metadata": {},
   "outputs": [
    {
     "name": "stdout",
     "output_type": "stream",
     "text": [
      "jpeg: 55\n",
      "jpg: 882\n",
      "json: 6\n",
      "txt: 918\n",
      "xcf: 3\n",
      "total: 1864\n"
     ]
    }
   ],
   "source": [
    "count_ext = {}\n",
    "extensions = ['jpeg', 'jpg', 'json', 'txt', 'xcf']\n",
    "for ext in extensions:\n",
    "    count_ext[ext] = len([item for item in all_files if item[item.find('.')+1:]==ext])\n",
    "    print(f'{ext}: {count_ext[ext]}')\n",
    "    \n",
    "print(f'total: {sum(count_ext.values())}')"
   ]
  },
  {
   "cell_type": "code",
   "execution_count": 7,
   "id": "e38aad6c",
   "metadata": {},
   "outputs": [
    {
     "data": {
      "text/plain": [
       "['0000018.jpeg',\n",
       " '0000018.jpg',\n",
       " '0000018.json',\n",
       " '0000019.jpeg',\n",
       " '0000019.jpg',\n",
       " '0000019.json',\n",
       " '0000020.jpeg',\n",
       " '0000020.jpg',\n",
       " '0000020.json',\n",
       " '0000021 (1).jpg',\n",
       " '0000021 (1).json',\n",
       " '0000021 (2).jpg',\n",
       " '0000021 (2).json',\n",
       " '0000021.jpeg',\n",
       " '0000021.jpg',\n",
       " '0000021.json',\n",
       " '0000021.txt']"
      ]
     },
     "execution_count": 7,
     "metadata": {},
     "output_type": "execute_result"
    }
   ],
   "source": [
    "names = [item[:item.find('.')] for item in all_files if item[item.find('.')+1:]=='json']\n",
    "files_with_json = [item for item in all_files if item[:item.find('.')] in names]\n",
    "files_with_json"
   ]
  },
  {
   "cell_type": "code",
   "execution_count": 8,
   "id": "a9e2e948",
   "metadata": {},
   "outputs": [
    {
     "data": {
      "text/plain": [
       "['1646412067400_0000296.jpg',\n",
       " '1646412067400_0000296.txt',\n",
       " '1646412067400_0000296.xcf',\n",
       " '1646412152260_0000298.jpg',\n",
       " '1646412152260_0000298.txt',\n",
       " '1646412152260_0000298.xcf',\n",
       " '1646412223877_0000300.jpg',\n",
       " '1646412223877_0000300.txt',\n",
       " '1646412223877_0000300.xcf']"
      ]
     },
     "execution_count": 8,
     "metadata": {},
     "output_type": "execute_result"
    }
   ],
   "source": [
    "names = [item[:item.find('.')] for item in all_files if item[item.find('.')+1:]=='xcf']\n",
    "files_with_xcf = [item for item in all_files if item[:item.find('.')] in names]\n",
    "files_with_xcf"
   ]
  },
  {
   "cell_type": "code",
   "execution_count": 9,
   "id": "90cd6cb0",
   "metadata": {},
   "outputs": [
    {
     "data": {
      "text/plain": [
       "['1646412067400_0000296.xcf',\n",
       " '1646412152260_0000298.xcf',\n",
       " '1646412223877_0000300.xcf']"
      ]
     },
     "execution_count": 9,
     "metadata": {},
     "output_type": "execute_result"
    }
   ],
   "source": [
    "xcf_files = [item for item in all_files if item[item.find('.')+1:]=='xcf']\n",
    "xcf_files"
   ]
  },
  {
   "cell_type": "code",
   "execution_count": 10,
   "id": "3bde5eac",
   "metadata": {},
   "outputs": [
    {
     "name": "stdout",
     "output_type": "stream",
     "text": [
      "937\n",
      "927\n",
      "['0000014', '0000015', '0000016', '0000017', '0000018', '0000019', '0000020', '0000021', '0000022', '0000023']\n",
      "['0000014.jpeg', '0000014.jpg', '0000015.jpeg', '0000015.jpg', '0000016.jpeg', '0000016.jpg', '0000017.jpeg', '0000017.jpg', '0000018.jpeg', '0000018.jpg', '0000019.jpeg', '0000019.jpg', '0000020.jpeg', '0000020.jpg', '0000021.jpeg', '0000021.jpg', '0000022.jpeg', '0000022.jpg', '0000023.jpeg', '0000023.jpg']\n",
      "['0000014.jpeg', '0000014.jpg', '0000014.txt', '0000015.jpeg', '0000015.jpg', '0000015.txt', '0000016.jpeg', '0000016.jpg', '0000016.txt', '0000017.jpeg', '0000017.jpg', '0000017.txt', '0000018.jpeg', '0000018.jpg', '0000018.json', '0000019.jpeg', '0000019.jpg', '0000019.json', '0000020.jpeg', '0000020.jpg', '0000020.json', '0000021.jpeg', '0000021.jpg', '0000021.json', '0000021.txt', '0000022.jpeg', '0000022.jpg', '0000022.txt', '0000023.jpeg', '0000023.jpg', '0000023.txt']\n"
     ]
    }
   ],
   "source": [
    "img_dir = base_dir\n",
    "img_files = [item for item in os.listdir(img_dir) if item[item.find('.')+1:] not in ('json', 'txt', 'xcf')]\n",
    "print(len(img_files))\n",
    "\n",
    "img_id = [item[:(item.find(\".\"))] for item in img_files]\n",
    "unique_id = np.unique(img_id)\n",
    "print(len(unique_id))\n",
    "\n",
    "duplicates = []\n",
    "for item in unique_id:\n",
    "    if img_id.count(item)>1:\n",
    "        duplicates.append(item)\n",
    "\n",
    "print(duplicates)\n",
    "\n",
    "duplicate_images = [item for item in img_files if item[:(item.find(\".\"))] in duplicates]\n",
    "\n",
    "print(duplicate_images)\n",
    "\n",
    "all_files_with_duplicates = [item for item in all_files if item[:(item.find(\".\"))] in duplicates]\n",
    "\n",
    "print(all_files_with_duplicates)"
   ]
  },
  {
   "cell_type": "code",
   "execution_count": 11,
   "id": "69a55e6b",
   "metadata": {},
   "outputs": [
    {
     "name": "stdout",
     "output_type": "stream",
     "text": [
      "51\n",
      "38\n"
     ]
    }
   ],
   "source": [
    "all_files_to_exclude = all_files_with_duplicates + files_with_json + xcf_files\n",
    "unique_files_to_exclude = list(np.unique(all_files_to_exclude))\n",
    "\n",
    "print(len(all_files_to_exclude))\n",
    "print(len(unique_files_to_exclude))"
   ]
  },
  {
   "cell_type": "code",
   "execution_count": 12,
   "id": "2bcabda5",
   "metadata": {},
   "outputs": [
    {
     "data": {
      "text/plain": [
       "['0000014.jpeg',\n",
       " '0000014.jpg',\n",
       " '0000014.txt',\n",
       " '0000015.jpeg',\n",
       " '0000015.jpg',\n",
       " '0000015.txt',\n",
       " '0000016.jpeg',\n",
       " '0000016.jpg',\n",
       " '0000016.txt',\n",
       " '0000017.jpeg',\n",
       " '0000017.jpg',\n",
       " '0000017.txt',\n",
       " '0000018.jpeg',\n",
       " '0000018.jpg',\n",
       " '0000018.json',\n",
       " '0000019.jpeg',\n",
       " '0000019.jpg',\n",
       " '0000019.json',\n",
       " '0000020.jpeg',\n",
       " '0000020.jpg',\n",
       " '0000020.json',\n",
       " '0000021 (1).jpg',\n",
       " '0000021 (1).json',\n",
       " '0000021 (2).jpg',\n",
       " '0000021 (2).json',\n",
       " '0000021.jpeg',\n",
       " '0000021.jpg',\n",
       " '0000021.json',\n",
       " '0000021.txt',\n",
       " '0000022.jpeg',\n",
       " '0000022.jpg',\n",
       " '0000022.txt',\n",
       " '0000023.jpeg',\n",
       " '0000023.jpg',\n",
       " '0000023.txt',\n",
       " '1646412067400_0000296.xcf',\n",
       " '1646412152260_0000298.xcf',\n",
       " '1646412223877_0000300.xcf']"
      ]
     },
     "execution_count": 12,
     "metadata": {},
     "output_type": "execute_result"
    }
   ],
   "source": [
    "unique_files_to_exclude"
   ]
  },
  {
   "cell_type": "code",
   "execution_count": 13,
   "id": "7f26421d",
   "metadata": {},
   "outputs": [
    {
     "name": "stdout",
     "output_type": "stream",
     "text": [
      "1825\n",
      "jpeg: 45\n",
      "jpg: 870\n",
      "txt: 910\n",
      "total: 1825\n"
     ]
    }
   ],
   "source": [
    "final_files = [item for item in all_files if item not in unique_files_to_exclude]\n",
    "final_files = [item for item in final_files if item not in 'classes.txt']\n",
    "\n",
    "print(len(final_files))\n",
    "\n",
    "count_ext = {}\n",
    "extensions = ['jpeg', 'jpg', 'txt']\n",
    "for ext in extensions:\n",
    "    count_ext[ext] = len([item for item in final_files if item[item.find('.')+1:]==ext])\n",
    "    print(f'{ext}: {count_ext[ext]}')\n",
    "    \n",
    "print(f'total: {sum(count_ext.values())}')"
   ]
  },
  {
   "cell_type": "code",
   "execution_count": 14,
   "id": "23009b55",
   "metadata": {},
   "outputs": [
    {
     "name": "stdout",
     "output_type": "stream",
     "text": [
      "True\n"
     ]
    }
   ],
   "source": [
    "names = [item[:item.find('.')] for item in final_files if item[item.find('.')+1:]=='txt']\n",
    "\n",
    "all_image_txt_present = [True if ((item + '.jpg' in final_files or item + '.jpeg' in final_files) and item + '.txt' in final_files) else False for item in names]\n",
    "\n",
    "print(all(all_image_txt_present))"
   ]
  },
  {
   "cell_type": "code",
   "execution_count": 15,
   "id": "70162059",
   "metadata": {},
   "outputs": [
    {
     "data": {
      "text/plain": [
       "['1638891562059_0000072',\n",
       " '1638893016333_0000078',\n",
       " '1638897214998_0000097',\n",
       " '1639068598750_0000234',\n",
       " '1646424445187_0000348']"
      ]
     },
     "execution_count": 15,
     "metadata": {},
     "output_type": "execute_result"
    }
   ],
   "source": [
    "names = [item[:item.find('.')] for item in final_files]\n",
    "unique_names = list(np.unique(names))\n",
    "\n",
    "singular_image_names = [item for item in unique_names if (names.count(item) != 2)]\n",
    "singular_image_names"
   ]
  },
  {
   "cell_type": "code",
   "execution_count": 16,
   "id": "1a7b1701",
   "metadata": {},
   "outputs": [
    {
     "data": {
      "text/plain": [
       "['1638891562059_0000072.jpg',\n",
       " '1638893016333_0000078.jpg',\n",
       " '1638897214998_0000097.jpg',\n",
       " '1639068598750_0000234.jpg',\n",
       " '1646424445187_0000348.jpg']"
      ]
     },
     "execution_count": 16,
     "metadata": {},
     "output_type": "execute_result"
    }
   ],
   "source": [
    "singular_image_files = [item for item in final_files if item[:item.find('.')] in singular_image_names]\n",
    "singular_image_files"
   ]
  },
  {
   "cell_type": "code",
   "execution_count": 17,
   "id": "861c4dcd",
   "metadata": {},
   "outputs": [
    {
     "name": "stdout",
     "output_type": "stream",
     "text": [
      "1820\n",
      "jpeg: 45\n",
      "jpg: 865\n",
      "txt: 910\n",
      "total: 1820\n"
     ]
    }
   ],
   "source": [
    "final_files = [item for item in final_files if item not in singular_image_files]\n",
    "print(len(final_files))\n",
    "\n",
    "count_ext = {}\n",
    "extensions = ['jpeg', 'jpg', 'txt']\n",
    "for ext in extensions:\n",
    "    count_ext[ext] = len([item for item in final_files if item[item.find('.')+1:]==ext])\n",
    "    print(f'{ext}: {count_ext[ext]}')\n",
    "    \n",
    "print(f'total: {sum(count_ext.values())}')"
   ]
  },
  {
   "cell_type": "code",
   "execution_count": 18,
   "id": "320464df",
   "metadata": {},
   "outputs": [
    {
     "name": "stdout",
     "output_type": "stream",
     "text": [
      "True\n"
     ]
    }
   ],
   "source": [
    "names = [item[:item.find('.')] for item in final_files if item[item.find('.')+1:]=='txt']\n",
    "\n",
    "all_image_txt_present = [True if ((item + '.jpg' in final_files or item + '.jpeg' in final_files) and item + '.txt' in final_files) else False for item in names]\n",
    "\n",
    "print(all(all_image_txt_present))"
   ]
  },
  {
   "cell_type": "code",
   "execution_count": 19,
   "id": "31308dbe",
   "metadata": {},
   "outputs": [
    {
     "data": {
      "text/plain": [
       "array([2])"
      ]
     },
     "execution_count": 19,
     "metadata": {},
     "output_type": "execute_result"
    }
   ],
   "source": [
    "names = [item[:item.find('.')] for item in final_files]\n",
    "unique_names = list(np.unique(names))\n",
    "\n",
    "two_files = [names.count(item) for item in unique_names]\n",
    "np.unique(two_files)"
   ]
  },
  {
   "cell_type": "markdown",
   "id": "1538226f",
   "metadata": {},
   "source": [
    "# Final files logistics after removal"
   ]
  },
  {
   "cell_type": "code",
   "execution_count": 20,
   "id": "b921b4d1",
   "metadata": {},
   "outputs": [
    {
     "name": "stdout",
     "output_type": "stream",
     "text": [
      "1820\n",
      "jpeg: 45\n",
      "jpg: 865\n",
      "txt: 910\n",
      "total: 1820\n"
     ]
    }
   ],
   "source": [
    "final_files = sorted(final_files)\n",
    "print(len(final_files))\n",
    "\n",
    "count_ext = {}\n",
    "extensions = ['jpeg', 'jpg', 'txt']\n",
    "for ext in extensions:\n",
    "    count_ext[ext] = len([item for item in final_files if item[item.find('.')+1:]==ext])\n",
    "    print(f'{ext}: {count_ext[ext]}')\n",
    "    \n",
    "print(f'total: {sum(count_ext.values())}')"
   ]
  },
  {
   "cell_type": "markdown",
   "id": "026707ad",
   "metadata": {},
   "source": [
    "# Copy final list of images and labels to curated directory"
   ]
  },
  {
   "cell_type": "code",
   "execution_count": 22,
   "id": "e239b7e9",
   "metadata": {},
   "outputs": [],
   "source": [
    "# def copy_items(src_path, dest_dir):\n",
    "#     dest = shutil.copy2(src_path, dest_dir)\n",
    "    \n",
    "# base_dir = '/mnt/2015P002510/rakin/cervical_cancer/cervix_classification/portability/20221101_liger_images_OD_retrain/20221101_LIGER_dataset_orig/'\n",
    "# src_paths = [os.path.join(base_dir, item) for item in final_files]\n",
    "# dest_dir = '/mnt/2015P002510/rakin/cervical_cancer/cervix_classification/portability/20221101_liger_images_OD_retrain/20221101_LIGER_dataset_curated/'\n",
    "\n",
    "# num_cores = multiprocessing.cpu_count()\n",
    "# Parallel(n_jobs=num_cores)(delayed(copy_items)(src_path, dest_dir) for src_path in src_paths)"
   ]
  },
  {
   "cell_type": "markdown",
   "id": "4d5643b5",
   "metadata": {},
   "source": [
    "# Split into train/val/test 80:10:10"
   ]
  },
  {
   "cell_type": "code",
   "execution_count": 2,
   "id": "d791a77b",
   "metadata": {},
   "outputs": [
    {
     "name": "stdout",
     "output_type": "stream",
     "text": [
      "1820\n",
      "jpeg: 45\n",
      "jpg: 865\n",
      "txt: 910\n",
      "total: 1820\n"
     ]
    }
   ],
   "source": [
    "base_dir = '/mnt/2015P002510/rakin/cervical_cancer/cervix_classification/portability/20221101_liger_images_OD_retrain/20221101_LIGER_dataset_curated/'\n",
    "final_files = os.listdir(base_dir)\n",
    "print(len(final_files))\n",
    "\n",
    "count_ext = {}\n",
    "extensions = ['jpeg', 'jpg', 'txt']\n",
    "for ext in extensions:\n",
    "    count_ext[ext] = len([item for item in final_files if item[item.find('.')+1:]==ext])\n",
    "    print(f'{ext}: {count_ext[ext]}')\n",
    "    \n",
    "print(f'total: {sum(count_ext.values())}')"
   ]
  },
  {
   "cell_type": "code",
   "execution_count": 3,
   "id": "479b3035",
   "metadata": {},
   "outputs": [
    {
     "name": "stdout",
     "output_type": "stream",
     "text": [
      "True\n",
      "910\n",
      "910\n"
     ]
    }
   ],
   "source": [
    "final_images = [item for item in final_files if item[item.find('.')+1:] != 'txt']\n",
    "final_labels = [item for item in final_files if item[item.find('.')+1:] == 'txt']\n",
    "\n",
    "final_images = sorted(final_images)\n",
    "final_labels = sorted(final_labels)\n",
    "\n",
    "final_image_names = [item[:item.find('.')] for item in final_images]\n",
    "final_label_names = [item[:item.find('.')] for item in final_labels]\n",
    "\n",
    "print(final_image_names == final_label_names)\n",
    "\n",
    "print(len(final_images))\n",
    "print(len(final_labels))"
   ]
  },
  {
   "cell_type": "code",
   "execution_count": 4,
   "id": "c5a231dd",
   "metadata": {},
   "outputs": [
    {
     "name": "stdout",
     "output_type": "stream",
     "text": [
      "910\n",
      "910\n",
      "True\n",
      "/mnt/2015P002510/rakin/cervical_cancer/cervix_classification/portability/20221101_liger_images_OD_retrain/20221101_LIGER_dataset_curated/9.jpeg\n",
      "/mnt/2015P002510/rakin/cervical_cancer/cervix_classification/portability/20221101_liger_images_OD_retrain/20221101_LIGER_dataset_curated/9.txt\n"
     ]
    }
   ],
   "source": [
    "final_image_paths = [os.path.join(base_dir, item) for item in final_images]\n",
    "final_label_paths = [os.path.join(base_dir, item) for item in final_labels]\n",
    "\n",
    "print(len(final_image_paths))\n",
    "print(len(final_label_paths))\n",
    "\n",
    "print([item[:item.find('.')] for item in final_image_paths] == [item[:item.find('.')] for item in final_label_paths])\n",
    "\n",
    "print(final_image_paths[len(final_image_paths)-1])\n",
    "print(final_label_paths[len(final_image_paths)-1])"
   ]
  },
  {
   "cell_type": "code",
   "execution_count": 5,
   "id": "4ccf1c70",
   "metadata": {},
   "outputs": [],
   "source": [
    "# # Ordered selection\n",
    "\n",
    "# all_image_path = final_image_paths\n",
    "# all_label = final_label_paths\n",
    "\n",
    "# pathFileTrain = all_image_path[0:int(.8*len(all_image_path))]\n",
    "# pathFileValid = all_image_path[int(.8*len(all_image_path)):int(.9*len(all_image_path))]\n",
    "# pathFileTest = all_image_path[int(.9*len(all_image_path)):]\n",
    "\n",
    "# labelTrain = all_label[0:int(.8*len(all_image_path))]\n",
    "# labelValid = all_label[int(.8*len(all_image_path)):int(.9*len(all_image_path))]\n",
    "# labelTest = all_label[int(.9*len(all_image_path)):]\n",
    "\n",
    "# print(\n",
    "#     f\"Training count: {len(pathFileTrain)}, Validation count: \"\n",
    "#     f\"{len(pathFileValid)}, Test count: {len(pathFileTest)}\")"
   ]
  },
  {
   "cell_type": "code",
   "execution_count": 6,
   "id": "02001a6e",
   "metadata": {},
   "outputs": [
    {
     "name": "stdout",
     "output_type": "stream",
     "text": [
      "Training count: 728, Validation count: 91, internal Test count: 91\n"
     ]
    }
   ],
   "source": [
    "# Random selection\n",
    "\n",
    "np.random.seed(0)\n",
    "\n",
    "all_image_path = final_image_paths\n",
    "all_label = final_label_paths\n",
    "\n",
    "val_frac = 0.1\n",
    "test_frac = 0.1\n",
    "length = len(all_image_path)\n",
    "indices = np.arange(length)\n",
    "np.random.shuffle(indices)\n",
    "\n",
    "test_split = int(test_frac * length)\n",
    "val_split = int(val_frac * length) + test_split\n",
    "test_indices = indices[:test_split]\n",
    "val_indices = indices[test_split:val_split]\n",
    "train_indices = indices[val_split:]\n",
    "\n",
    "pathFileTrain = [all_image_path[i] for i in train_indices]\n",
    "labelTrain = [all_label[i] for i in train_indices]\n",
    "pathFileValid = [all_image_path[i] for i in val_indices]\n",
    "labelValid = [all_label[i] for i in val_indices]\n",
    "pathFileiTest = [all_image_path[i] for i in test_indices]\n",
    "labeliTest = [all_label[i] for i in test_indices]\n",
    "\n",
    "print(\n",
    "    f\"Training count: {len(pathFileTrain)}, Validation count: \"\n",
    "    f\"{len(pathFileValid)}, internal Test count: {len(pathFileiTest)}\")"
   ]
  },
  {
   "cell_type": "code",
   "execution_count": 7,
   "id": "a8178926",
   "metadata": {},
   "outputs": [
    {
     "name": "stdout",
     "output_type": "stream",
     "text": [
      "True\n",
      "True\n",
      "True\n"
     ]
    }
   ],
   "source": [
    "for list_1, list_2 in zip([pathFileTrain, pathFileValid, pathFileiTest],[labelTrain, labelValid, labeliTest]):\n",
    "    new_list_1 = [item[:item.find('.')] for item in list_1]\n",
    "    new_list_2 = [item[:item.find('.')] for item in list_2]\n",
    "    print(new_list_1 == new_list_2)"
   ]
  },
  {
   "cell_type": "code",
   "execution_count": 8,
   "id": "9fe19277",
   "metadata": {},
   "outputs": [],
   "source": [
    "# base_dir = '/mnt/2015P002510/rakin/cervical_cancer/cervix_classification/portability/20221101_liger_images_OD_retrain/20221101_LIGER_dataset_curated/'\n",
    "# dest_dir = '/mnt/2015P002510/rakin/cervical_cancer/cervix_classification/portability/20221101_liger_images_OD_retrain/20221101_LIGER_80_10_10/'\n",
    "\n",
    "# src_paths = [labelTrain, labelValid, labeliTest] # [pathFileTrain, pathFileValid, pathFileiTest], [labelTrain, labelValid, labeliTest]\n",
    "# tr_va_te = ['train','val','test']\n",
    "# im_la = ['images','labels']\n",
    "\n",
    "# def copy_splits(paths_to_copy, t_v_t, dest_dir, i_l):\n",
    "#     for item in paths_to_copy:\n",
    "#         dest = shutil.copy2(item, os.path.join(dest_dir, i_l, t_v_t))\n",
    "    \n",
    "# num_cores = multiprocessing.cpu_count()\n",
    "# # for src_paths, t_v_t in zip([pathFileTrain, pathFileValid, pathFileiTest], ['train','val','test']):\n",
    "# Parallel(n_jobs=num_cores)(delayed(copy_splits)(paths_to_copy, t_v_t, dest_dir, im_la[1]) for paths_to_copy, t_v_t in zip(src_paths, tr_va_te))"
   ]
  },
  {
   "cell_type": "code",
   "execution_count": 9,
   "id": "2132b121",
   "metadata": {},
   "outputs": [
    {
     "name": "stdout",
     "output_type": "stream",
     "text": [
      "True\n",
      "True\n",
      "True\n"
     ]
    }
   ],
   "source": [
    "dest_dir = '/mnt/2015P002510/rakin/datasets/20221101_LIGER_80_10_10'\n",
    "tr_va_te = ['train','val','test']\n",
    "\n",
    "for t_v_t in tr_va_te:\n",
    "    print(sorted([item[:item.find('.')] for item in os.listdir(os.path.join(dest_dir, 'images', t_v_t))]) == sorted([item[:item.find('.')] for item in os.listdir(os.path.join(dest_dir, 'labels', t_v_t))]))"
   ]
  },
  {
   "cell_type": "code",
   "execution_count": 10,
   "id": "f0e269d3",
   "metadata": {},
   "outputs": [],
   "source": [
    "# base_dir = '/mnt/2015P002510/rakin/datasets/cervix_full_dataset_detection/images'\n",
    "# zip_extract_dir = '/mnt/2015P002510/rakin/datasets/20221101_full_dataset_LIGER_80_10_10/images'\n",
    "\n",
    "# def extract_image_dir(base_dir, train_val_test, zip_extract_dir):\n",
    "#     with ZipFile(os.path.join(base_dir, train_val_test + '.zip'), 'r') as zipObj:\n",
    "#         zipObj.extractall(os.path.join(zip_extract_dir, train_val_test))\n",
    "        \n",
    "# start = time.time()\n",
    "\n",
    "# for train_val_test in ['train', 'val', 'test', 'test2']:\n",
    "#     extract_image_dir(base_dir, train_val_test, zip_extract_dir)\n",
    "\n",
    "# end = time.time()\n",
    "# print(end - start)"
   ]
  },
  {
   "cell_type": "code",
   "execution_count": 11,
   "id": "968621a9",
   "metadata": {},
   "outputs": [
    {
     "data": {
      "text/plain": [
       "[None, None, None]"
      ]
     },
     "execution_count": 11,
     "metadata": {},
     "output_type": "execute_result"
    }
   ],
   "source": [
    "dest_dir = '/mnt/2015P002510/rakin/datasets/20221101_full_dataset_LIGER_80_10_10/'\n",
    "\n",
    "src_paths = [labelTrain, labelValid, labeliTest] # [pathFileTrain, pathFileValid, pathFileiTest], [labelTrain, labelValid, labeliTest]\n",
    "tr_va_te = ['train','val','test']\n",
    "im_la = ['images','labels']\n",
    "\n",
    "def copy_splits(paths_to_copy, t_v_t, dest_dir, i_l):\n",
    "    for item in paths_to_copy:\n",
    "        dest = shutil.copy2(item, os.path.join(dest_dir, i_l, t_v_t))\n",
    "    \n",
    "num_cores = multiprocessing.cpu_count()\n",
    "# for src_paths, t_v_t in zip([pathFileTrain, pathFileValid, pathFileiTest], ['train','val','test']):\n",
    "Parallel(n_jobs=num_cores)(delayed(copy_splits)(paths_to_copy, t_v_t, dest_dir, im_la[1]) for paths_to_copy, t_v_t in zip(src_paths, tr_va_te))"
   ]
  },
  {
   "cell_type": "code",
   "execution_count": 12,
   "id": "5133f144",
   "metadata": {},
   "outputs": [
    {
     "name": "stdout",
     "output_type": "stream",
     "text": [
      "True\n",
      "True\n",
      "True\n"
     ]
    }
   ],
   "source": [
    "dest_dir = '/mnt/2015P002510/rakin/datasets/20221101_full_dataset_LIGER_80_10_10/'\n",
    "tr_va_te = ['train','val','test']\n",
    "\n",
    "for t_v_t in tr_va_te:\n",
    "    print(sorted([item[:item.find('.')] for item in os.listdir(os.path.join(dest_dir, 'images', t_v_t))]) == sorted([item[:item.find('.')] for item in os.listdir(os.path.join(dest_dir, 'labels', t_v_t))]))"
   ]
  },
  {
   "cell_type": "markdown",
   "id": "94d7e0ef",
   "metadata": {},
   "source": [
    "## Verify that the bounding box labels are correct on the image and correspond to reasonable labelling"
   ]
  },
  {
   "cell_type": "code",
   "execution_count": 18,
   "id": "119e8704",
   "metadata": {},
   "outputs": [],
   "source": [
    "def get_OD_output_dict(img_store_dir, txt_store_dir):\n",
    "    image_files = [os.path.join(img_store_dir, img_file) for img_file in os.listdir(img_store_dir) if img_file[img_file.find('.')+1:] != 'txt']\n",
    "    annotation_files = [image_file.replace(image_file[(image_file.find(\".\")):], '.txt') for image_file in image_files]\n",
    "    \n",
    "    record_list = []\n",
    "    \n",
    "    for image_file, annotation_file in zip(image_files, annotation_files):\n",
    "        record = {}\n",
    "        with open(annotation_file, \"r\") as file:\n",
    "            annotation_list = file.read().split(\"\\n\")[:-1]\n",
    "        #\n",
    "        annotation_list = [x.split(\" \") for x in annotation_list]\n",
    "        annotation_list = [[float(y) for y in x ] for x in annotation_list]\n",
    "        #\n",
    "        img = Image.open(image_file)\n",
    "        annotations = np.array(annotation_list)\n",
    "        w, h = img.size\n",
    "        #\n",
    "        transformed_annotations = np.copy(annotations)\n",
    "        transformed_annotations[:,[1,3]] = annotations[:,[1,3]] * w\n",
    "        transformed_annotations[:,[2,4]] = annotations[:,[2,4]] * h\n",
    "        #\n",
    "        transformed_annotations[:,1] = transformed_annotations[:,1] - (transformed_annotations[:,3] / 2)\n",
    "        transformed_annotations[:,2] = transformed_annotations[:,2] - (transformed_annotations[:,4] / 2)\n",
    "        transformed_annotations[:,3] = transformed_annotations[:,1] + transformed_annotations[:,3]\n",
    "        transformed_annotations[:,4] = transformed_annotations[:,2] + transformed_annotations[:,4]\n",
    "        #\n",
    "        for ann in transformed_annotations:\n",
    "            obj_cls, x1, y1, x2, y2 = ann\n",
    "        #    \n",
    "        record['image_path'] = image_file\n",
    "        record['image'] = image_file[137:]        \n",
    "        record['x1'] = round(x1)\n",
    "        record['y1'] = round(y1)\n",
    "        record['x2'] = round(x2)\n",
    "        record['y2'] = round(y2)\n",
    "        record['dataset'] = None\n",
    "        #\n",
    "        record_list.append(record)\n",
    "    \n",
    "    return record_list"
   ]
  },
  {
   "cell_type": "code",
   "execution_count": 20,
   "id": "afba578a",
   "metadata": {},
   "outputs": [
    {
     "name": "stdout",
     "output_type": "stream",
     "text": [
      "910\n"
     ]
    }
   ],
   "source": [
    "img_store_dir = '/mnt/2015P002510/rakin/cervical_cancer/cervix_classification/portability/20221101_liger_images_OD_retrain/20221101_LIGER_dataset_curated/'\n",
    "txt_store_dir = '/mnt/2015P002510/rakin/cervical_cancer/cervix_classification/portability/20221101_liger_images_OD_retrain/20221101_LIGER_dataset_curated/'\n",
    "\n",
    "df_list = get_OD_output_dict(img_store_dir, txt_store_dir)\n",
    "\n",
    "print(len(df_list))\n",
    "\n",
    "# df_list"
   ]
  },
  {
   "cell_type": "code",
   "execution_count": 21,
   "id": "e70701db",
   "metadata": {},
   "outputs": [
    {
     "data": {
      "text/html": [
       "<div>\n",
       "<style scoped>\n",
       "    .dataframe tbody tr th:only-of-type {\n",
       "        vertical-align: middle;\n",
       "    }\n",
       "\n",
       "    .dataframe tbody tr th {\n",
       "        vertical-align: top;\n",
       "    }\n",
       "\n",
       "    .dataframe thead th {\n",
       "        text-align: right;\n",
       "    }\n",
       "</style>\n",
       "<table border=\"1\" class=\"dataframe\">\n",
       "  <thead>\n",
       "    <tr style=\"text-align: right;\">\n",
       "      <th></th>\n",
       "      <th>image_path</th>\n",
       "      <th>image</th>\n",
       "      <th>x1</th>\n",
       "      <th>y1</th>\n",
       "      <th>x2</th>\n",
       "      <th>y2</th>\n",
       "      <th>dataset</th>\n",
       "    </tr>\n",
       "  </thead>\n",
       "  <tbody>\n",
       "    <tr>\n",
       "      <th>0</th>\n",
       "      <td>/mnt/2015P002510/rakin/cervical_cancer/cervix_...</td>\n",
       "      <td>0000005.jpg</td>\n",
       "      <td>544</td>\n",
       "      <td>415</td>\n",
       "      <td>1979</td>\n",
       "      <td>2522</td>\n",
       "      <td>NaN</td>\n",
       "    </tr>\n",
       "    <tr>\n",
       "      <th>1</th>\n",
       "      <td>/mnt/2015P002510/rakin/cervical_cancer/cervix_...</td>\n",
       "      <td>0000006 (1).jpg</td>\n",
       "      <td>19</td>\n",
       "      <td>451</td>\n",
       "      <td>1258</td>\n",
       "      <td>2751</td>\n",
       "      <td>NaN</td>\n",
       "    </tr>\n",
       "    <tr>\n",
       "      <th>2</th>\n",
       "      <td>/mnt/2015P002510/rakin/cervical_cancer/cervix_...</td>\n",
       "      <td>0000006 (2).jpg</td>\n",
       "      <td>412</td>\n",
       "      <td>259</td>\n",
       "      <td>1846</td>\n",
       "      <td>2401</td>\n",
       "      <td>NaN</td>\n",
       "    </tr>\n",
       "    <tr>\n",
       "      <th>3</th>\n",
       "      <td>/mnt/2015P002510/rakin/cervical_cancer/cervix_...</td>\n",
       "      <td>0000007.jpg</td>\n",
       "      <td>28</td>\n",
       "      <td>459</td>\n",
       "      <td>1367</td>\n",
       "      <td>2793</td>\n",
       "      <td>NaN</td>\n",
       "    </tr>\n",
       "    <tr>\n",
       "      <th>4</th>\n",
       "      <td>/mnt/2015P002510/rakin/cervical_cancer/cervix_...</td>\n",
       "      <td>0000006.jpg</td>\n",
       "      <td>25</td>\n",
       "      <td>440</td>\n",
       "      <td>1305</td>\n",
       "      <td>2819</td>\n",
       "      <td>NaN</td>\n",
       "    </tr>\n",
       "    <tr>\n",
       "      <th>...</th>\n",
       "      <td>...</td>\n",
       "      <td>...</td>\n",
       "      <td>...</td>\n",
       "      <td>...</td>\n",
       "      <td>...</td>\n",
       "      <td>...</td>\n",
       "      <td>...</td>\n",
       "    </tr>\n",
       "    <tr>\n",
       "      <th>905</th>\n",
       "      <td>/mnt/2015P002510/rakin/cervical_cancer/cervix_...</td>\n",
       "      <td>49.jpeg</td>\n",
       "      <td>55</td>\n",
       "      <td>179</td>\n",
       "      <td>2198</td>\n",
       "      <td>2940</td>\n",
       "      <td>NaN</td>\n",
       "    </tr>\n",
       "    <tr>\n",
       "      <th>906</th>\n",
       "      <td>/mnt/2015P002510/rakin/cervical_cancer/cervix_...</td>\n",
       "      <td>9.jpeg</td>\n",
       "      <td>253</td>\n",
       "      <td>1061</td>\n",
       "      <td>1757</td>\n",
       "      <td>3069</td>\n",
       "      <td>NaN</td>\n",
       "    </tr>\n",
       "    <tr>\n",
       "      <th>907</th>\n",
       "      <td>/mnt/2015P002510/rakin/cervical_cancer/cervix_...</td>\n",
       "      <td>50.jpeg</td>\n",
       "      <td>42</td>\n",
       "      <td>286</td>\n",
       "      <td>2411</td>\n",
       "      <td>3186</td>\n",
       "      <td>NaN</td>\n",
       "    </tr>\n",
       "    <tr>\n",
       "      <th>908</th>\n",
       "      <td>/mnt/2015P002510/rakin/cervical_cancer/cervix_...</td>\n",
       "      <td>45.jpeg</td>\n",
       "      <td>60</td>\n",
       "      <td>179</td>\n",
       "      <td>2324</td>\n",
       "      <td>3145</td>\n",
       "      <td>NaN</td>\n",
       "    </tr>\n",
       "    <tr>\n",
       "      <th>909</th>\n",
       "      <td>/mnt/2015P002510/rakin/cervical_cancer/cervix_...</td>\n",
       "      <td>6.jpeg</td>\n",
       "      <td>191</td>\n",
       "      <td>492</td>\n",
       "      <td>1829</td>\n",
       "      <td>3210</td>\n",
       "      <td>NaN</td>\n",
       "    </tr>\n",
       "  </tbody>\n",
       "</table>\n",
       "<p>910 rows × 7 columns</p>\n",
       "</div>"
      ],
      "text/plain": [
       "                                            image_path            image   x1  \\\n",
       "0    /mnt/2015P002510/rakin/cervical_cancer/cervix_...      0000005.jpg  544   \n",
       "1    /mnt/2015P002510/rakin/cervical_cancer/cervix_...  0000006 (1).jpg   19   \n",
       "2    /mnt/2015P002510/rakin/cervical_cancer/cervix_...  0000006 (2).jpg  412   \n",
       "3    /mnt/2015P002510/rakin/cervical_cancer/cervix_...      0000007.jpg   28   \n",
       "4    /mnt/2015P002510/rakin/cervical_cancer/cervix_...      0000006.jpg   25   \n",
       "..                                                 ...              ...  ...   \n",
       "905  /mnt/2015P002510/rakin/cervical_cancer/cervix_...          49.jpeg   55   \n",
       "906  /mnt/2015P002510/rakin/cervical_cancer/cervix_...           9.jpeg  253   \n",
       "907  /mnt/2015P002510/rakin/cervical_cancer/cervix_...          50.jpeg   42   \n",
       "908  /mnt/2015P002510/rakin/cervical_cancer/cervix_...          45.jpeg   60   \n",
       "909  /mnt/2015P002510/rakin/cervical_cancer/cervix_...           6.jpeg  191   \n",
       "\n",
       "       y1    x2    y2  dataset  \n",
       "0     415  1979  2522      NaN  \n",
       "1     451  1258  2751      NaN  \n",
       "2     259  1846  2401      NaN  \n",
       "3     459  1367  2793      NaN  \n",
       "4     440  1305  2819      NaN  \n",
       "..    ...   ...   ...      ...  \n",
       "905   179  2198  2940      NaN  \n",
       "906  1061  1757  3069      NaN  \n",
       "907   286  2411  3186      NaN  \n",
       "908   179  2324  3145      NaN  \n",
       "909   492  1829  3210      NaN  \n",
       "\n",
       "[910 rows x 7 columns]"
      ]
     },
     "execution_count": 21,
     "metadata": {},
     "output_type": "execute_result"
    }
   ],
   "source": [
    "keys = df_list[0].keys()\n",
    "\n",
    "with open('/mnt/2015P002510/rakin/cervical_cancer/cervix_classification/portability/20221101_liger_images_OD_retrain/data/20221101_liger_bb.csv', 'w', newline='') as output_file:\n",
    "    dict_writer = csv.DictWriter(output_file, keys)\n",
    "    dict_writer.writeheader()\n",
    "    dict_writer.writerows(df_list)\n",
    "    \n",
    "saved_df = pd.read_csv('/mnt/2015P002510/rakin/cervical_cancer/cervix_classification/portability/20221101_liger_images_OD_retrain/data/20221101_liger_bb.csv')\n",
    "saved_df"
   ]
  },
  {
   "cell_type": "code",
   "execution_count": 24,
   "id": "0c99450a",
   "metadata": {},
   "outputs": [
    {
     "data": {
      "text/html": [
       "<div>\n",
       "<style scoped>\n",
       "    .dataframe tbody tr th:only-of-type {\n",
       "        vertical-align: middle;\n",
       "    }\n",
       "\n",
       "    .dataframe tbody tr th {\n",
       "        vertical-align: top;\n",
       "    }\n",
       "\n",
       "    .dataframe thead th {\n",
       "        text-align: right;\n",
       "    }\n",
       "</style>\n",
       "<table border=\"1\" class=\"dataframe\">\n",
       "  <thead>\n",
       "    <tr style=\"text-align: right;\">\n",
       "      <th></th>\n",
       "      <th>image_path</th>\n",
       "      <th>image</th>\n",
       "      <th>x1</th>\n",
       "      <th>y1</th>\n",
       "      <th>x2</th>\n",
       "      <th>y2</th>\n",
       "      <th>OD_dataset</th>\n",
       "    </tr>\n",
       "  </thead>\n",
       "  <tbody>\n",
       "    <tr>\n",
       "      <th>0</th>\n",
       "      <td>/mnt/2015P002510/rakin/cervical_cancer/cervix_...</td>\n",
       "      <td>0000005.jpg</td>\n",
       "      <td>544</td>\n",
       "      <td>415</td>\n",
       "      <td>1979</td>\n",
       "      <td>2522</td>\n",
       "      <td>train</td>\n",
       "    </tr>\n",
       "    <tr>\n",
       "      <th>1</th>\n",
       "      <td>/mnt/2015P002510/rakin/cervical_cancer/cervix_...</td>\n",
       "      <td>0000006 (1).jpg</td>\n",
       "      <td>19</td>\n",
       "      <td>451</td>\n",
       "      <td>1258</td>\n",
       "      <td>2751</td>\n",
       "      <td>train</td>\n",
       "    </tr>\n",
       "    <tr>\n",
       "      <th>2</th>\n",
       "      <td>/mnt/2015P002510/rakin/cervical_cancer/cervix_...</td>\n",
       "      <td>0000006 (2).jpg</td>\n",
       "      <td>412</td>\n",
       "      <td>259</td>\n",
       "      <td>1846</td>\n",
       "      <td>2401</td>\n",
       "      <td>val</td>\n",
       "    </tr>\n",
       "    <tr>\n",
       "      <th>3</th>\n",
       "      <td>/mnt/2015P002510/rakin/cervical_cancer/cervix_...</td>\n",
       "      <td>0000007.jpg</td>\n",
       "      <td>28</td>\n",
       "      <td>459</td>\n",
       "      <td>1367</td>\n",
       "      <td>2793</td>\n",
       "      <td>train</td>\n",
       "    </tr>\n",
       "    <tr>\n",
       "      <th>4</th>\n",
       "      <td>/mnt/2015P002510/rakin/cervical_cancer/cervix_...</td>\n",
       "      <td>0000006.jpg</td>\n",
       "      <td>25</td>\n",
       "      <td>440</td>\n",
       "      <td>1305</td>\n",
       "      <td>2819</td>\n",
       "      <td>train</td>\n",
       "    </tr>\n",
       "    <tr>\n",
       "      <th>...</th>\n",
       "      <td>...</td>\n",
       "      <td>...</td>\n",
       "      <td>...</td>\n",
       "      <td>...</td>\n",
       "      <td>...</td>\n",
       "      <td>...</td>\n",
       "      <td>...</td>\n",
       "    </tr>\n",
       "    <tr>\n",
       "      <th>905</th>\n",
       "      <td>/mnt/2015P002510/rakin/cervical_cancer/cervix_...</td>\n",
       "      <td>49.jpeg</td>\n",
       "      <td>55</td>\n",
       "      <td>179</td>\n",
       "      <td>2198</td>\n",
       "      <td>2940</td>\n",
       "      <td>val</td>\n",
       "    </tr>\n",
       "    <tr>\n",
       "      <th>906</th>\n",
       "      <td>/mnt/2015P002510/rakin/cervical_cancer/cervix_...</td>\n",
       "      <td>9.jpeg</td>\n",
       "      <td>253</td>\n",
       "      <td>1061</td>\n",
       "      <td>1757</td>\n",
       "      <td>3069</td>\n",
       "      <td>train</td>\n",
       "    </tr>\n",
       "    <tr>\n",
       "      <th>907</th>\n",
       "      <td>/mnt/2015P002510/rakin/cervical_cancer/cervix_...</td>\n",
       "      <td>50.jpeg</td>\n",
       "      <td>42</td>\n",
       "      <td>286</td>\n",
       "      <td>2411</td>\n",
       "      <td>3186</td>\n",
       "      <td>val</td>\n",
       "    </tr>\n",
       "    <tr>\n",
       "      <th>908</th>\n",
       "      <td>/mnt/2015P002510/rakin/cervical_cancer/cervix_...</td>\n",
       "      <td>45.jpeg</td>\n",
       "      <td>60</td>\n",
       "      <td>179</td>\n",
       "      <td>2324</td>\n",
       "      <td>3145</td>\n",
       "      <td>train</td>\n",
       "    </tr>\n",
       "    <tr>\n",
       "      <th>909</th>\n",
       "      <td>/mnt/2015P002510/rakin/cervical_cancer/cervix_...</td>\n",
       "      <td>6.jpeg</td>\n",
       "      <td>191</td>\n",
       "      <td>492</td>\n",
       "      <td>1829</td>\n",
       "      <td>3210</td>\n",
       "      <td>train</td>\n",
       "    </tr>\n",
       "  </tbody>\n",
       "</table>\n",
       "<p>910 rows × 7 columns</p>\n",
       "</div>"
      ],
      "text/plain": [
       "                                            image_path            image   x1  \\\n",
       "0    /mnt/2015P002510/rakin/cervical_cancer/cervix_...      0000005.jpg  544   \n",
       "1    /mnt/2015P002510/rakin/cervical_cancer/cervix_...  0000006 (1).jpg   19   \n",
       "2    /mnt/2015P002510/rakin/cervical_cancer/cervix_...  0000006 (2).jpg  412   \n",
       "3    /mnt/2015P002510/rakin/cervical_cancer/cervix_...      0000007.jpg   28   \n",
       "4    /mnt/2015P002510/rakin/cervical_cancer/cervix_...      0000006.jpg   25   \n",
       "..                                                 ...              ...  ...   \n",
       "905  /mnt/2015P002510/rakin/cervical_cancer/cervix_...          49.jpeg   55   \n",
       "906  /mnt/2015P002510/rakin/cervical_cancer/cervix_...           9.jpeg  253   \n",
       "907  /mnt/2015P002510/rakin/cervical_cancer/cervix_...          50.jpeg   42   \n",
       "908  /mnt/2015P002510/rakin/cervical_cancer/cervix_...          45.jpeg   60   \n",
       "909  /mnt/2015P002510/rakin/cervical_cancer/cervix_...           6.jpeg  191   \n",
       "\n",
       "       y1    x2    y2 OD_dataset  \n",
       "0     415  1979  2522      train  \n",
       "1     451  1258  2751      train  \n",
       "2     259  1846  2401        val  \n",
       "3     459  1367  2793      train  \n",
       "4     440  1305  2819      train  \n",
       "..    ...   ...   ...        ...  \n",
       "905   179  2198  2940        val  \n",
       "906  1061  1757  3069      train  \n",
       "907   286  2411  3186        val  \n",
       "908   179  2324  3145      train  \n",
       "909   492  1829  3210      train  \n",
       "\n",
       "[910 rows x 7 columns]"
      ]
     },
     "execution_count": 24,
     "metadata": {},
     "output_type": "execute_result"
    }
   ],
   "source": [
    "saved_df.loc[saved_df['image_path'].isin(pathFileTrain), 'dataset'] = 'train'\n",
    "saved_df.loc[saved_df['image_path'].isin(pathFileValid), 'dataset'] = 'val'\n",
    "saved_df.loc[saved_df['image_path'].isin(pathFileiTest), 'dataset'] = 'test'\n",
    "saved_df = saved_df.rename(columns={\"dataset\": \"OD_dataset\"})\n",
    "saved_df"
   ]
  },
  {
   "cell_type": "code",
   "execution_count": 30,
   "id": "333117e8",
   "metadata": {},
   "outputs": [
    {
     "name": "stdout",
     "output_type": "stream",
     "text": [
      "test : 91\n",
      "train : 728\n",
      "val : 91\n"
     ]
    }
   ],
   "source": [
    "for item in np.unique(saved_df['OD_dataset'].values):\n",
    "    print(f\"{item} : {list(saved_df['OD_dataset'].values).count(item)}\")"
   ]
  },
  {
   "cell_type": "code",
   "execution_count": 31,
   "id": "4d5663b6",
   "metadata": {},
   "outputs": [],
   "source": [
    "saved_df.to_csv('/mnt/2015P002510/rakin/cervical_cancer/cervix_classification/portability/20221101_liger_images_OD_retrain/data/20221101_liger_bb.csv', index=True, index_label=None)"
   ]
  },
  {
   "cell_type": "code",
   "execution_count": 32,
   "id": "63558db2",
   "metadata": {},
   "outputs": [
    {
     "data": {
      "text/html": [
       "<div>\n",
       "<style scoped>\n",
       "    .dataframe tbody tr th:only-of-type {\n",
       "        vertical-align: middle;\n",
       "    }\n",
       "\n",
       "    .dataframe tbody tr th {\n",
       "        vertical-align: top;\n",
       "    }\n",
       "\n",
       "    .dataframe thead th {\n",
       "        text-align: right;\n",
       "    }\n",
       "</style>\n",
       "<table border=\"1\" class=\"dataframe\">\n",
       "  <thead>\n",
       "    <tr style=\"text-align: right;\">\n",
       "      <th></th>\n",
       "      <th>Unnamed: 0</th>\n",
       "      <th>image_path</th>\n",
       "      <th>image</th>\n",
       "      <th>x1</th>\n",
       "      <th>y1</th>\n",
       "      <th>x2</th>\n",
       "      <th>y2</th>\n",
       "      <th>OD_dataset</th>\n",
       "    </tr>\n",
       "  </thead>\n",
       "  <tbody>\n",
       "    <tr>\n",
       "      <th>0</th>\n",
       "      <td>0</td>\n",
       "      <td>/mnt/2015P002510/rakin/cervical_cancer/cervix_...</td>\n",
       "      <td>0000005.jpg</td>\n",
       "      <td>544</td>\n",
       "      <td>415</td>\n",
       "      <td>1979</td>\n",
       "      <td>2522</td>\n",
       "      <td>train</td>\n",
       "    </tr>\n",
       "    <tr>\n",
       "      <th>1</th>\n",
       "      <td>1</td>\n",
       "      <td>/mnt/2015P002510/rakin/cervical_cancer/cervix_...</td>\n",
       "      <td>0000006 (1).jpg</td>\n",
       "      <td>19</td>\n",
       "      <td>451</td>\n",
       "      <td>1258</td>\n",
       "      <td>2751</td>\n",
       "      <td>train</td>\n",
       "    </tr>\n",
       "    <tr>\n",
       "      <th>2</th>\n",
       "      <td>2</td>\n",
       "      <td>/mnt/2015P002510/rakin/cervical_cancer/cervix_...</td>\n",
       "      <td>0000006 (2).jpg</td>\n",
       "      <td>412</td>\n",
       "      <td>259</td>\n",
       "      <td>1846</td>\n",
       "      <td>2401</td>\n",
       "      <td>val</td>\n",
       "    </tr>\n",
       "    <tr>\n",
       "      <th>3</th>\n",
       "      <td>3</td>\n",
       "      <td>/mnt/2015P002510/rakin/cervical_cancer/cervix_...</td>\n",
       "      <td>0000007.jpg</td>\n",
       "      <td>28</td>\n",
       "      <td>459</td>\n",
       "      <td>1367</td>\n",
       "      <td>2793</td>\n",
       "      <td>train</td>\n",
       "    </tr>\n",
       "    <tr>\n",
       "      <th>4</th>\n",
       "      <td>4</td>\n",
       "      <td>/mnt/2015P002510/rakin/cervical_cancer/cervix_...</td>\n",
       "      <td>0000006.jpg</td>\n",
       "      <td>25</td>\n",
       "      <td>440</td>\n",
       "      <td>1305</td>\n",
       "      <td>2819</td>\n",
       "      <td>train</td>\n",
       "    </tr>\n",
       "    <tr>\n",
       "      <th>...</th>\n",
       "      <td>...</td>\n",
       "      <td>...</td>\n",
       "      <td>...</td>\n",
       "      <td>...</td>\n",
       "      <td>...</td>\n",
       "      <td>...</td>\n",
       "      <td>...</td>\n",
       "      <td>...</td>\n",
       "    </tr>\n",
       "    <tr>\n",
       "      <th>905</th>\n",
       "      <td>905</td>\n",
       "      <td>/mnt/2015P002510/rakin/cervical_cancer/cervix_...</td>\n",
       "      <td>49.jpeg</td>\n",
       "      <td>55</td>\n",
       "      <td>179</td>\n",
       "      <td>2198</td>\n",
       "      <td>2940</td>\n",
       "      <td>val</td>\n",
       "    </tr>\n",
       "    <tr>\n",
       "      <th>906</th>\n",
       "      <td>906</td>\n",
       "      <td>/mnt/2015P002510/rakin/cervical_cancer/cervix_...</td>\n",
       "      <td>9.jpeg</td>\n",
       "      <td>253</td>\n",
       "      <td>1061</td>\n",
       "      <td>1757</td>\n",
       "      <td>3069</td>\n",
       "      <td>train</td>\n",
       "    </tr>\n",
       "    <tr>\n",
       "      <th>907</th>\n",
       "      <td>907</td>\n",
       "      <td>/mnt/2015P002510/rakin/cervical_cancer/cervix_...</td>\n",
       "      <td>50.jpeg</td>\n",
       "      <td>42</td>\n",
       "      <td>286</td>\n",
       "      <td>2411</td>\n",
       "      <td>3186</td>\n",
       "      <td>val</td>\n",
       "    </tr>\n",
       "    <tr>\n",
       "      <th>908</th>\n",
       "      <td>908</td>\n",
       "      <td>/mnt/2015P002510/rakin/cervical_cancer/cervix_...</td>\n",
       "      <td>45.jpeg</td>\n",
       "      <td>60</td>\n",
       "      <td>179</td>\n",
       "      <td>2324</td>\n",
       "      <td>3145</td>\n",
       "      <td>train</td>\n",
       "    </tr>\n",
       "    <tr>\n",
       "      <th>909</th>\n",
       "      <td>909</td>\n",
       "      <td>/mnt/2015P002510/rakin/cervical_cancer/cervix_...</td>\n",
       "      <td>6.jpeg</td>\n",
       "      <td>191</td>\n",
       "      <td>492</td>\n",
       "      <td>1829</td>\n",
       "      <td>3210</td>\n",
       "      <td>train</td>\n",
       "    </tr>\n",
       "  </tbody>\n",
       "</table>\n",
       "<p>910 rows × 8 columns</p>\n",
       "</div>"
      ],
      "text/plain": [
       "     Unnamed: 0                                         image_path  \\\n",
       "0             0  /mnt/2015P002510/rakin/cervical_cancer/cervix_...   \n",
       "1             1  /mnt/2015P002510/rakin/cervical_cancer/cervix_...   \n",
       "2             2  /mnt/2015P002510/rakin/cervical_cancer/cervix_...   \n",
       "3             3  /mnt/2015P002510/rakin/cervical_cancer/cervix_...   \n",
       "4             4  /mnt/2015P002510/rakin/cervical_cancer/cervix_...   \n",
       "..          ...                                                ...   \n",
       "905         905  /mnt/2015P002510/rakin/cervical_cancer/cervix_...   \n",
       "906         906  /mnt/2015P002510/rakin/cervical_cancer/cervix_...   \n",
       "907         907  /mnt/2015P002510/rakin/cervical_cancer/cervix_...   \n",
       "908         908  /mnt/2015P002510/rakin/cervical_cancer/cervix_...   \n",
       "909         909  /mnt/2015P002510/rakin/cervical_cancer/cervix_...   \n",
       "\n",
       "               image   x1    y1    x2    y2 OD_dataset  \n",
       "0        0000005.jpg  544   415  1979  2522      train  \n",
       "1    0000006 (1).jpg   19   451  1258  2751      train  \n",
       "2    0000006 (2).jpg  412   259  1846  2401        val  \n",
       "3        0000007.jpg   28   459  1367  2793      train  \n",
       "4        0000006.jpg   25   440  1305  2819      train  \n",
       "..               ...  ...   ...   ...   ...        ...  \n",
       "905          49.jpeg   55   179  2198  2940        val  \n",
       "906           9.jpeg  253  1061  1757  3069      train  \n",
       "907          50.jpeg   42   286  2411  3186        val  \n",
       "908          45.jpeg   60   179  2324  3145      train  \n",
       "909           6.jpeg  191   492  1829  3210      train  \n",
       "\n",
       "[910 rows x 8 columns]"
      ]
     },
     "execution_count": 32,
     "metadata": {},
     "output_type": "execute_result"
    }
   ],
   "source": [
    "df_bb = pd.read_csv('/mnt/2015P002510/rakin/cervical_cancer/cervix_classification/portability/20221101_liger_images_OD_retrain/data/20221101_liger_bb.csv')\n",
    "img_dir = '/mnt/2015P002510/rakin/cervical_cancer/cervix_classification/portability/20221101_liger_images_OD_retrain/20221101_LIGER_dataset_curated/'\n",
    "df_bb"
   ]
  },
  {
   "cell_type": "code",
   "execution_count": 36,
   "id": "85253cba",
   "metadata": {},
   "outputs": [
    {
     "data": {
      "image/png": "[encoded data removed]",
      "text/plain": [
       "<Figure size 432x288 with 1 Axes>"
      ]
     },
     "metadata": {
      "needs_background": "light"
     },
     "output_type": "display_data"
    }
   ],
   "source": [
    "def plot_bounding_box(img, img_name, df_bb):\n",
    "    #\n",
    "    plotted_image = ImageDraw.Draw(img)\n",
    "    x0 = df_bb.loc[df_bb['image']==img_name, 'x1'].values.item()\n",
    "    y0 = df_bb.loc[df_bb['image']==img_name, 'y1'].values.item()\n",
    "    x1 = df_bb.loc[df_bb['image']==img_name, 'x2'].values.item()\n",
    "    y1 = df_bb.loc[df_bb['image']==img_name, 'y2'].values.item()\n",
    "    plotted_image.rectangle(((x0,y0), (x1,y1)), outline='white', width=25)\n",
    "    plotted_image.text((x0, y0 - 10), 'cervix')\n",
    "    #\n",
    "    plt.imshow(np.array(img))\n",
    "    plt.show()\n",
    "\n",
    "img_dir = '/mnt/2015P002510/rakin/cervical_cancer/cervix_classification/portability/20220816_liger_pre/LIGER_dataset_07_13_2022/imgs/'\n",
    "image_files = next(os.walk(img_dir))[2]\n",
    "# image_file = random.choice(image_files)\n",
    "image_file = '1649789466769_0000052.jpg'\n",
    "\n",
    "img = Image.open(os.path.join(img_dir,image_file))\n",
    "\n",
    "#Plot the Bounding Box\n",
    "plot_bounding_box(img, image_file, df_bb)"
   ]
  },
  {
   "cell_type": "markdown",
   "id": "3e2dff02",
   "metadata": {},
   "source": [
    "### Visualize correct labels have been imported into the dataset"
   ]
  },
  {
   "cell_type": "code",
   "execution_count": 44,
   "id": "da21e430",
   "metadata": {},
   "outputs": [
    {
     "data": {
      "text/plain": [
       "'/mnt/2015P002510/rakin/datasets/20221101_full_dataset_LIGER_80_10_10/labels/val/1639062568731_0000204.txt'"
      ]
     },
     "execution_count": 44,
     "metadata": {},
     "output_type": "execute_result"
    }
   ],
   "source": [
    "def plot_bounding_box(img, annotation_list):\n",
    "    annotations = np.array(annotation_list)\n",
    "    w, h = img.size\n",
    "    plotted_image = ImageDraw.Draw(img)\n",
    "    #\n",
    "    transformed_annotations = np.copy(annotations)\n",
    "    transformed_annotations[:,[1,3]] = annotations[:,[1,3]] * w\n",
    "    transformed_annotations[:,[2,4]] = annotations[:,[2,4]] * h\n",
    "    #\n",
    "    transformed_annotations[:,1] = transformed_annotations[:,1] - (transformed_annotations[:,3] / 2)\n",
    "    transformed_annotations[:,2] = transformed_annotations[:,2] - (transformed_annotations[:,4] / 2)\n",
    "    transformed_annotations[:,3] = transformed_annotations[:,1] + transformed_annotations[:,3]\n",
    "    transformed_annotations[:,4] = transformed_annotations[:,2] + transformed_annotations[:,4]\n",
    "    #\n",
    "    for ann in transformed_annotations:\n",
    "        obj_cls, x0, y0, x1, y1 = ann\n",
    "        plotted_image.rectangle(((x0,y0), (x1,y1)), outline='white', width=25)\n",
    "        plotted_image.text((x0, y0 - 10), 'cervix')\n",
    "    #\n",
    "    plt.imshow(np.array(img))\n",
    "    plt.show()\n",
    "    \n",
    "\n",
    "random.seed(0)\n",
    "\n",
    "txt_store_dir = '/mnt/2015P002510/rakin/datasets/20221101_full_dataset_LIGER_80_10_10/labels/'\n",
    "\n",
    "annotations = [os.path.join(txt_store_dir + 'val', txt_file) for txt_file in os.listdir(txt_store_dir + 'val') if txt_file[-3:] == \"txt\"]\n",
    "# Get any random annotation file \n",
    "annotation_file = random.choice(annotations)\n",
    "with open(annotation_file, \"r\") as file:\n",
    "    annotation_list = file.read().split(\"\\n\")[:-1]\n",
    "    annotation_list = [x.split(\" \") for x in annotation_list]\n",
    "    annotation_list = [[float(y) for y in x ] for x in annotation_list]\n",
    "    \n",
    "annotation_file"
   ]
  },
  {
   "cell_type": "code",
   "execution_count": 45,
   "id": "2ca7c148",
   "metadata": {},
   "outputs": [
    {
     "data": {
      "image/png": "[encoded data removed]",
      "text/plain": [
       "<Figure size 432x288 with 1 Axes>"
      ]
     },
     "metadata": {
      "needs_background": "light"
     },
     "output_type": "display_data"
    }
   ],
   "source": [
    "#Get the corresponding image file\n",
    "image_file = annotation_file.replace(\"labels\", \"images\").replace(\"txt\", \"jpg\")\n",
    "assert os.path.exists(image_file)\n",
    "\n",
    "#Load the image\n",
    "img = Image.open(image_file)\n",
    "\n",
    "#Plot the Bounding Box\n",
    "plot_bounding_box(img, annotation_list)"
   ]
  },
  {
   "cell_type": "markdown",
   "id": "dca98c8d",
   "metadata": {},
   "source": [
    "# Get 91 randomly chosen images from 5study test2 dataset for side by side comparison"
   ]
  },
  {
   "cell_type": "code",
   "execution_count": 2,
   "id": "72738049",
   "metadata": {},
   "outputs": [
    {
     "name": "stdout",
     "output_type": "stream",
     "text": [
      "True\n",
      "True\n",
      "91\n",
      "91\n"
     ]
    }
   ],
   "source": [
    "base_dir = '/mnt/2015P002510/rakin/datasets/20221101_full_dataset_LIGER_80_10_10/images/test2/'\n",
    "\n",
    "image_files = [os.path.join(base_dir, img_file) for img_file in os.listdir(base_dir) if img_file[img_file.find('.')+1:] != 'txt']\n",
    "image_files_91 = random.sample(image_files, 91)\n",
    "\n",
    "annotation_files = [image_file.replace('images','labels').replace(image_file[(image_file.find(\".\")):], '.txt') for image_file in image_files_91]\n",
    "\n",
    "dest_dir_img = '/mnt/2015P002510/rakin/cervical_cancer/cervix_detection/yolov5_runs/20221101_retrain_exp3ep100/data/5study_test2_91/images/test2/'\n",
    "dest_dir_labels = '/mnt/2015P002510/rakin/cervical_cancer/cervix_detection/yolov5_runs/20221101_retrain_exp3ep100/data/5study_test2_91/labels/test2/'\n",
    "\n",
    "print(all([os.path.exists(item) for item in image_files_91]))\n",
    "print(all([os.path.exists(item) for item in annotation_files]))\n",
    "\n",
    "print(len(image_files_91))\n",
    "print(len(annotation_files))"
   ]
  },
  {
   "cell_type": "code",
   "execution_count": 3,
   "id": "46afb625",
   "metadata": {},
   "outputs": [],
   "source": [
    "for image_file, label_file in zip(image_files_91, annotation_files):\n",
    "    shutil.copy2(image_file, dest_dir_img)\n",
    "    shutil.copy2(label_file, dest_dir_labels)"
   ]
  },
  {
   "cell_type": "markdown",
   "id": "5abca100",
   "metadata": {},
   "source": [
    "# Train yolov5 using similar approach as before"
   ]
  },
  {
   "cell_type": "code",
   "execution_count": 2,
   "id": "6d2fe6a9",
   "metadata": {},
   "outputs": [],
   "source": [
    "# # EXP 3 - EPOCH 100 configurations (retrain using starting weights + liger only)\n",
    "\n",
    "# !python /mnt/2015P002510/rakin/object_detection_repos/yolov5/train.py \\\n",
    "# --batch 16 --epochs 100 \\\n",
    "# --data /mnt/2015P002510/rakin/object_detection_repos/yolov5/data/20221101_cervix_liger_80_10_10.yaml \\\n",
    "# --weights /mnt/2015P002510/rakin/cervical_cancer/cervix_detection/yolov5_runs/20221101_retrain_exp3ep100/exp3ep100.pt \\\n",
    "# --project /mnt/2015P002510/rakin/cervical_cancer/cervix_detection/yolov5_runs/20221101_retrain_exp3ep100/ \\\n",
    "# --name train_liger_80_10_10"
   ]
  },
  {
   "cell_type": "code",
   "execution_count": 3,
   "id": "ef5cc10d",
   "metadata": {},
   "outputs": [],
   "source": [
    "# # EXP 3 - EPOCH 100 configurations (retrain on 5 study + liger)\n",
    "\n",
    "# !python /mnt/2015P002510/rakin/object_detection_repos/yolov5/train.py \\\n",
    "# --batch 16 --epochs 100 \\\n",
    "# --data /mnt/2015P002510/rakin/object_detection_repos/yolov5/data/20221101_cervix_5study_liger_80_10_10.yaml \\\n",
    "# --weights /mnt/2015P002510/rakin/object_detection_repos/yolov5/downloaded_models/yolov5s.pt \\\n",
    "# --project /mnt/2015P002510/rakin/cervical_cancer/cervix_detection/yolov5_runs/20221101_retrain_exp3ep100/ \\\n",
    "# --name train_5study_liger_80_10_10"
   ]
  },
  {
   "cell_type": "markdown",
   "id": "0bd84ffb",
   "metadata": {},
   "source": [
    "# Validate/Evaluate Performance"
   ]
  },
  {
   "cell_type": "markdown",
   "id": "c7bde216",
   "metadata": {},
   "source": [
    "### Liger test 91"
   ]
  },
  {
   "cell_type": "code",
   "execution_count": 3,
   "id": "178a24bd",
   "metadata": {},
   "outputs": [
    {
     "name": "stdout",
     "output_type": "stream",
     "text": [
      "\u001b[34m\u001b[1mval: \u001b[0mdata=/mnt/2015P002510/rakin/object_detection_repos/yolov5/data/20221101_test_91.yaml, weights=['/mnt/2015P002510/rakin/cervical_cancer/cervix_detection/yolov5_runs/20221101_retrain_exp3ep100/exp3ep100.pt'], batch_size=32, imgsz=640, conf_thres=0.001, iou_thres=0.6, task=val, device=, single_cls=False, augment=False, verbose=False, save_txt=False, save_hybrid=False, save_conf=False, save_json=False, project=/mnt/2015P002510/rakin/cervical_cancer/cervix_detection/yolov5_runs/20221101_retrain_exp3ep100/val_liger_test_91, name=train_yolov5s_5study_full_dataset_splits_weights, exist_ok=False, half=False, dnn=False\n",
      "YOLOv5 🚀 v6.0-95-g562191f torch 1.9.0a0+2ecb2c7 CUDA:0 (NVIDIA A100-PCIE-40GB MIG 3g.20gb, 19968MiB)\n",
      "\n",
      "Fusing layers... \n",
      "Model Summary: 213 layers, 7012822 parameters, 0 gradients, 15.8 GFLOPs\n",
      "\u001b[34m\u001b[1mval: \u001b[0mScanning '/mnt/2015P002510/rakin/cervical_cancer/cervix_detection/yolov5_ru\u001b[0m\n",
      "\u001b[34m\u001b[1mval: \u001b[0mScanning '/mnt/2015P002510/rakin/cervical_cancer/cervix_detection/yolov5_ru\u001b[0m\n",
      "\u001b[34m\u001b[1mval: \u001b[0mScanning '/mnt/2015P002510/rakin/cervical_cancer/cervix_detection/yolov5_ru\u001b[0m\n",
      "\u001b[34m\u001b[1mval: \u001b[0mScanning '/mnt/2015P002510/rakin/cervical_cancer/cervix_detection/yolov5_ru\u001b[0m[00:00<?, ?it/s]\n",
      "               Class     Images     Labels          P          R     mAP@.5 mAP@.5:.95: 100% 3/3 [00:09<00:00,  3.19s/it]\n",
      "                 all         91         93       0.89      0.903      0.909      0.437\n",
      "Speed: 0.6ms pre-process, 2.3ms inference, 1.2ms NMS per image at shape (32, 3, 640, 640)\n",
      "Results saved to \u001b[1m/mnt/2015P002510/rakin/cervical_cancer/cervix_detection/yolov5_runs/20221101_retrain_exp3ep100/val_liger_test_91/train_yolov5s_5study_full_dataset_splits_weights\u001b[0m\n"
     ]
    }
   ],
   "source": [
    "!python /mnt/2015P002510/rakin/object_detection_repos/yolov5/val.py \\\n",
    "--weights /mnt/2015P002510/rakin/cervical_cancer/cervix_detection/yolov5_runs/20221101_retrain_exp3ep100/exp3ep100.pt \\\n",
    "--data /mnt/2015P002510/rakin/object_detection_repos/yolov5/data/20221101_test_91.yaml \\\n",
    "--project /mnt/2015P002510/rakin/cervical_cancer/cervix_detection/yolov5_runs/20221101_retrain_exp3ep100/val_liger_test_91 \\\n",
    "--name train_yolov5s_5study_full_dataset_splits_weights"
   ]
  },
  {
   "cell_type": "code",
   "execution_count": 4,
   "id": "19d7826b",
   "metadata": {},
   "outputs": [
    {
     "name": "stdout",
     "output_type": "stream",
     "text": [
      "\u001b[34m\u001b[1mval: \u001b[0mdata=/mnt/2015P002510/rakin/object_detection_repos/yolov5/data/20221101_test_91.yaml, weights=['/mnt/2015P002510/rakin/cervical_cancer/cervix_detection/yolov5_runs/20221101_retrain_exp3ep100/train_exp3ep100_liger_80_10_10.pt'], batch_size=32, imgsz=640, conf_thres=0.001, iou_thres=0.6, task=val, device=, single_cls=False, augment=False, verbose=False, save_txt=False, save_hybrid=False, save_conf=False, save_json=False, project=/mnt/2015P002510/rakin/cervical_cancer/cervix_detection/yolov5_runs/20221101_retrain_exp3ep100/val_liger_test_91, name=train_exp3ep100_liger_80_10_10_weights, exist_ok=False, half=False, dnn=False\n",
      "YOLOv5 🚀 v6.0-95-g562191f torch 1.9.0a0+2ecb2c7 CUDA:0 (NVIDIA A100-PCIE-40GB MIG 3g.20gb, 19968MiB)\n",
      "\n",
      "Fusing layers... \n",
      "Model Summary: 213 layers, 7012822 parameters, 0 gradients, 15.8 GFLOPs\n",
      "\u001b[34m\u001b[1mval: \u001b[0mScanning '/mnt/2015P002510/rakin/cervical_cancer/cervix_detection/yolov5_ru\u001b[0m\n",
      "\u001b[34m\u001b[1mval: \u001b[0mScanning '/mnt/2015P002510/rakin/cervical_cancer/cervix_detection/yolov5_ru\u001b[0m\n",
      "\u001b[34m\u001b[1mval: \u001b[0mScanning '/mnt/2015P002510/rakin/cervical_cancer/cervix_detection/yolov5_ru\u001b[0m\n",
      "\u001b[34m\u001b[1mval: \u001b[0mScanning '/mnt/2015P002510/rakin/cervical_cancer/cervix_detection/yolov5_ru\u001b[0m[00:00<?, ?it/s]\n",
      "               Class     Images     Labels          P          R     mAP@.5 mAP@.5:.95: 100% 3/3 [00:07<00:00,  2.66s/it]\n",
      "                 all         91         93      0.989      0.968      0.979       0.74\n",
      "Speed: 0.6ms pre-process, 2.1ms inference, 1.4ms NMS per image at shape (32, 3, 640, 640)\n",
      "Results saved to \u001b[1m/mnt/2015P002510/rakin/cervical_cancer/cervix_detection/yolov5_runs/20221101_retrain_exp3ep100/val_liger_test_91/train_exp3ep100_liger_80_10_10_weights\u001b[0m\n"
     ]
    }
   ],
   "source": [
    "!python /mnt/2015P002510/rakin/object_detection_repos/yolov5/val.py \\\n",
    "--weights /mnt/2015P002510/rakin/cervical_cancer/cervix_detection/yolov5_runs/20221101_retrain_exp3ep100/train_exp3ep100_liger_80_10_10.pt \\\n",
    "--data /mnt/2015P002510/rakin/object_detection_repos/yolov5/data/20221101_test_91.yaml \\\n",
    "--project /mnt/2015P002510/rakin/cervical_cancer/cervix_detection/yolov5_runs/20221101_retrain_exp3ep100/val_liger_test_91 \\\n",
    "--name train_exp3ep100_liger_80_10_10_weights"
   ]
  },
  {
   "cell_type": "code",
   "execution_count": 5,
   "id": "9d68ace5",
   "metadata": {},
   "outputs": [
    {
     "name": "stdout",
     "output_type": "stream",
     "text": [
      "\u001b[34m\u001b[1mval: \u001b[0mdata=/mnt/2015P002510/rakin/object_detection_repos/yolov5/data/20221101_test_91.yaml, weights=['/mnt/2015P002510/rakin/cervical_cancer/cervix_detection/yolov5_runs/20221101_retrain_exp3ep100/train_100ep_yolov5s_5study_liger_80_10_10.pt'], batch_size=32, imgsz=640, conf_thres=0.001, iou_thres=0.6, task=val, device=, single_cls=False, augment=False, verbose=False, save_txt=False, save_hybrid=False, save_conf=False, save_json=False, project=/mnt/2015P002510/rakin/cervical_cancer/cervix_detection/yolov5_runs/20221101_retrain_exp3ep100/val_liger_test_91, name=train_yolov5s_5study_liger_80_10_10_weights, exist_ok=False, half=False, dnn=False\n",
      "YOLOv5 🚀 v6.0-95-g562191f torch 1.9.0a0+2ecb2c7 CUDA:0 (NVIDIA A100-PCIE-40GB MIG 3g.20gb, 19968MiB)\n",
      "\n",
      "Fusing layers... \n",
      "Model Summary: 213 layers, 7012822 parameters, 0 gradients, 15.8 GFLOPs\n",
      "\u001b[34m\u001b[1mval: \u001b[0mScanning '/mnt/2015P002510/rakin/cervical_cancer/cervix_detection/yolov5_ru\u001b[0m\n",
      "\u001b[34m\u001b[1mval: \u001b[0mScanning '/mnt/2015P002510/rakin/cervical_cancer/cervix_detection/yolov5_ru\u001b[0m\n",
      "\u001b[34m\u001b[1mval: \u001b[0mScanning '/mnt/2015P002510/rakin/cervical_cancer/cervix_detection/yolov5_ru\u001b[0m\n",
      "\u001b[34m\u001b[1mval: \u001b[0mScanning '/mnt/2015P002510/rakin/cervical_cancer/cervix_detection/yolov5_ru\u001b[0m[00:00<?, ?it/s]\n",
      "               Class     Images     Labels          P          R     mAP@.5 mAP@.5:.95: 100% 3/3 [00:15<00:00,  5.24s/it]\n",
      "                 all         91         93      0.989      0.978      0.984      0.743\n",
      "Speed: 0.7ms pre-process, 2.5ms inference, 0.5ms NMS per image at shape (32, 3, 640, 640)\n",
      "Results saved to \u001b[1m/mnt/2015P002510/rakin/cervical_cancer/cervix_detection/yolov5_runs/20221101_retrain_exp3ep100/val_liger_test_91/train_yolov5s_5study_liger_80_10_10_weights\u001b[0m\n"
     ]
    }
   ],
   "source": [
    "!python /mnt/2015P002510/rakin/object_detection_repos/yolov5/val.py \\\n",
    "--weights /mnt/2015P002510/rakin/cervical_cancer/cervix_detection/yolov5_runs/20221101_retrain_exp3ep100/train_100ep_yolov5s_5study_liger_80_10_10.pt \\\n",
    "--data /mnt/2015P002510/rakin/object_detection_repos/yolov5/data/20221101_test_91.yaml \\\n",
    "--project /mnt/2015P002510/rakin/cervical_cancer/cervix_detection/yolov5_runs/20221101_retrain_exp3ep100/val_liger_test_91 \\\n",
    "--name train_100ep_yolov5s_5study_liger_80_10_10_weights"
   ]
  },
  {
   "cell_type": "code",
   "execution_count": 7,
   "id": "d96fccf7",
   "metadata": {},
   "outputs": [
    {
     "name": "stdout",
     "output_type": "stream",
     "text": [
      "\u001b[34m\u001b[1mval: \u001b[0mdata=/mnt/2015P002510/rakin/object_detection_repos/yolov5/data/20221101_test_91.yaml, weights=['/mnt/2015P002510/rakin/cervical_cancer/cervix_detection/yolov5_runs/20221101_retrain_exp3ep100/train_yolov5s_liger_80_10_10.pt'], batch_size=32, imgsz=640, conf_thres=0.001, iou_thres=0.6, task=val, device=, single_cls=False, augment=False, verbose=False, save_txt=False, save_hybrid=False, save_conf=False, save_json=False, project=/mnt/2015P002510/rakin/cervical_cancer/cervix_detection/yolov5_runs/20221101_retrain_exp3ep100/val_liger_test_91, name=train_yolov5s_liger_80_10_10_weights, exist_ok=False, half=False, dnn=False\n",
      "YOLOv5 🚀 v6.0-95-g562191f torch 1.9.0a0+2ecb2c7 CUDA:0 (NVIDIA A100-PCIE-40GB MIG 3g.20gb, 19968MiB)\n",
      "\n",
      "Fusing layers... \n",
      "Model Summary: 213 layers, 7012822 parameters, 0 gradients, 15.8 GFLOPs\n",
      "\u001b[34m\u001b[1mval: \u001b[0mScanning '/mnt/2015P002510/rakin/cervical_cancer/cervix_detection/yolov5_ru\u001b[0m\n",
      "\u001b[34m\u001b[1mval: \u001b[0mScanning '/mnt/2015P002510/rakin/cervical_cancer/cervix_detection/yolov5_ru\u001b[0m\n",
      "\u001b[34m\u001b[1mval: \u001b[0mScanning '/mnt/2015P002510/rakin/cervical_cancer/cervix_detection/yolov5_ru\u001b[0m\n",
      "\u001b[34m\u001b[1mval: \u001b[0mScanning '/mnt/2015P002510/rakin/cervical_cancer/cervix_detection/yolov5_ru\u001b[0m[00:00<?, ?it/s]\n",
      "               Class     Images     Labels          P          R     mAP@.5 mAP@.5:.95: 100% 3/3 [00:10<00:00,  3.66s/it]\n",
      "                 all         91         93      0.989      0.957       0.98      0.732\n",
      "Speed: 0.2ms pre-process, 3.4ms inference, 1.4ms NMS per image at shape (32, 3, 640, 640)\n",
      "Results saved to \u001b[1m/mnt/2015P002510/rakin/cervical_cancer/cervix_detection/yolov5_runs/20221101_retrain_exp3ep100/val_liger_test_91/train_yolov5s_liger_80_10_10_weights\u001b[0m\n"
     ]
    }
   ],
   "source": [
    "!python /mnt/2015P002510/rakin/object_detection_repos/yolov5/val.py \\\n",
    "--weights /mnt/2015P002510/rakin/cervical_cancer/cervix_detection/yolov5_runs/20221101_retrain_exp3ep100/train_yolov5s_liger_80_10_10.pt \\\n",
    "--data /mnt/2015P002510/rakin/object_detection_repos/yolov5/data/20221101_test_91.yaml \\\n",
    "--project /mnt/2015P002510/rakin/cervical_cancer/cervix_detection/yolov5_runs/20221101_retrain_exp3ep100/val_liger_test_91 \\\n",
    "--name train_yolov5s_liger_80_10_10_weights"
   ]
  },
  {
   "cell_type": "markdown",
   "id": "b27a797f",
   "metadata": {},
   "source": [
    "### 5study test2 91"
   ]
  },
  {
   "cell_type": "code",
   "execution_count": 7,
   "id": "270e9f9e",
   "metadata": {},
   "outputs": [
    {
     "name": "stdout",
     "output_type": "stream",
     "text": [
      "\u001b[34m\u001b[1mval: \u001b[0mdata=/mnt/2015P002510/rakin/object_detection_repos/yolov5/data/20221101_test_91.yaml, weights=['/mnt/2015P002510/rakin/cervical_cancer/cervix_detection/yolov5_runs/20221101_retrain_exp3ep100/exp3ep100.pt'], batch_size=32, imgsz=640, conf_thres=0.001, iou_thres=0.6, task=val, device=, single_cls=False, augment=False, verbose=False, save_txt=False, save_hybrid=False, save_conf=False, save_json=False, project=/mnt/2015P002510/rakin/cervical_cancer/cervix_detection/yolov5_runs/20221101_retrain_exp3ep100/val_5study_test2_91, name=train_yolov5s_5study_full_dataset_splits_weights, exist_ok=False, half=False, dnn=False\n",
      "YOLOv5 🚀 v6.0-95-g562191f torch 1.9.0a0+2ecb2c7 CUDA:0 (NVIDIA A100-PCIE-40GB MIG 3g.20gb, 19968MiB)\n",
      "\n",
      "Fusing layers... \n",
      "Model Summary: 213 layers, 7012822 parameters, 0 gradients, 15.8 GFLOPs\n",
      "\u001b[34m\u001b[1mval: \u001b[0mScanning '/mnt/2015P002510/rakin/cervical_cancer/cervix_detection/yolov5_ru\u001b[0m\n",
      "\u001b[34m\u001b[1mval: \u001b[0mNew cache created: /mnt/2015P002510/rakin/cervical_cancer/cervix_detection/yolov5_runs/20221101_retrain_exp3ep100/test_data/5study_test2_91/labels/test2.cache\n",
      "               Class     Images     Labels          P          R     mAP@.5 mAP@.5:.95: 100% 3/3 [00:05<00:00,  1.69s/it]\n",
      "                 all         91         91          1          1      0.995      0.938\n",
      "Speed: 0.2ms pre-process, 2.7ms inference, 0.5ms NMS per image at shape (32, 3, 640, 640)\n",
      "Results saved to \u001b[1m/mnt/2015P002510/rakin/cervical_cancer/cervix_detection/yolov5_runs/20221101_retrain_exp3ep100/val_5study_test2_91/train_yolov5s_5study_full_dataset_splits_weights\u001b[0m\n"
     ]
    }
   ],
   "source": [
    "!python /mnt/2015P002510/rakin/object_detection_repos/yolov5/val.py \\\n",
    "--weights /mnt/2015P002510/rakin/cervical_cancer/cervix_detection/yolov5_runs/20221101_retrain_exp3ep100/exp3ep100.pt \\\n",
    "--data /mnt/2015P002510/rakin/object_detection_repos/yolov5/data/20221101_test_91.yaml \\\n",
    "--project /mnt/2015P002510/rakin/cervical_cancer/cervix_detection/yolov5_runs/20221101_retrain_exp3ep100/val_5study_test2_91 \\\n",
    "--name train_yolov5s_5study_full_dataset_splits_weights"
   ]
  },
  {
   "cell_type": "code",
   "execution_count": 8,
   "id": "9a1b45cd",
   "metadata": {},
   "outputs": [
    {
     "name": "stdout",
     "output_type": "stream",
     "text": [
      "\u001b[34m\u001b[1mval: \u001b[0mdata=/mnt/2015P002510/rakin/object_detection_repos/yolov5/data/20221101_test_91.yaml, weights=['/mnt/2015P002510/rakin/cervical_cancer/cervix_detection/yolov5_runs/20221101_retrain_exp3ep100/train_exp3ep100_liger_80_10_10.pt'], batch_size=32, imgsz=640, conf_thres=0.001, iou_thres=0.6, task=val, device=, single_cls=False, augment=False, verbose=False, save_txt=False, save_hybrid=False, save_conf=False, save_json=False, project=/mnt/2015P002510/rakin/cervical_cancer/cervix_detection/yolov5_runs/20221101_retrain_exp3ep100/val_5study_test2_91, name=train_exp3ep100_liger_80_10_10_weights, exist_ok=False, half=False, dnn=False\n",
      "YOLOv5 🚀 v6.0-95-g562191f torch 1.9.0a0+2ecb2c7 CUDA:0 (NVIDIA A100-PCIE-40GB MIG 3g.20gb, 19968MiB)\n",
      "\n",
      "Fusing layers... \n",
      "Model Summary: 213 layers, 7012822 parameters, 0 gradients, 15.8 GFLOPs\n",
      "\u001b[34m\u001b[1mval: \u001b[0mScanning '/mnt/2015P002510/rakin/cervical_cancer/cervix_detection/yolov5_ru\u001b[0m\n",
      "\u001b[34m\u001b[1mval: \u001b[0mScanning '/mnt/2015P002510/rakin/cervical_cancer/cervix_detection/yolov5_ru\u001b[0m\n",
      "\u001b[34m\u001b[1mval: \u001b[0mScanning '/mnt/2015P002510/rakin/cervical_cancer/cervix_detection/yolov5_ru\u001b[0m\n",
      "\u001b[34m\u001b[1mval: \u001b[0mScanning '/mnt/2015P002510/rakin/cervical_cancer/cervix_detection/yolov5_ru\u001b[0m[00:00<?, ?it/s]\n",
      "               Class     Images     Labels          P          R     mAP@.5 mAP@.5:.95: 100% 3/3 [00:05<00:00,  1.89s/it]\n",
      "                 all         91         91      0.978      0.989      0.987      0.513\n",
      "Speed: 0.2ms pre-process, 2.0ms inference, 2.7ms NMS per image at shape (32, 3, 640, 640)\n",
      "Results saved to \u001b[1m/mnt/2015P002510/rakin/cervical_cancer/cervix_detection/yolov5_runs/20221101_retrain_exp3ep100/val_5study_test2_91/train_exp3ep100_liger_80_10_10_weights\u001b[0m\n"
     ]
    }
   ],
   "source": [
    "!python /mnt/2015P002510/rakin/object_detection_repos/yolov5/val.py \\\n",
    "--weights /mnt/2015P002510/rakin/cervical_cancer/cervix_detection/yolov5_runs/20221101_retrain_exp3ep100/train_exp3ep100_liger_80_10_10.pt \\\n",
    "--data /mnt/2015P002510/rakin/object_detection_repos/yolov5/data/20221101_test_91.yaml \\\n",
    "--project /mnt/2015P002510/rakin/cervical_cancer/cervix_detection/yolov5_runs/20221101_retrain_exp3ep100/val_5study_test2_91 \\\n",
    "--name train_exp3ep100_liger_80_10_10_weights"
   ]
  },
  {
   "cell_type": "code",
   "execution_count": 6,
   "id": "cf9868f1",
   "metadata": {},
   "outputs": [
    {
     "name": "stdout",
     "output_type": "stream",
     "text": [
      "\u001b[34m\u001b[1mval: \u001b[0mdata=/mnt/2015P002510/rakin/object_detection_repos/yolov5/data/20221101_test_91.yaml, weights=['/mnt/2015P002510/rakin/cervical_cancer/cervix_detection/yolov5_runs/20221101_retrain_exp3ep100/train_100ep_yolov5s_5study_liger_80_10_10.pt'], batch_size=32, imgsz=640, conf_thres=0.001, iou_thres=0.6, task=val, device=, single_cls=False, augment=False, verbose=False, save_txt=False, save_hybrid=False, save_conf=False, save_json=False, project=/mnt/2015P002510/rakin/cervical_cancer/cervix_detection/yolov5_runs/20221101_retrain_exp3ep100/val_5study_test2_91, name=train_100ep_yolov5s_5study_liger_80_10_10_weights, exist_ok=False, half=False, dnn=False\n",
      "YOLOv5 🚀 v6.0-95-g562191f torch 1.9.0a0+2ecb2c7 CUDA:0 (NVIDIA A100-PCIE-40GB MIG 3g.20gb, 19968MiB)\n",
      "\n",
      "Fusing layers... \n",
      "Model Summary: 213 layers, 7012822 parameters, 0 gradients, 15.8 GFLOPs\n",
      "\u001b[34m\u001b[1mval: \u001b[0mScanning '/mnt/2015P002510/rakin/cervical_cancer/cervix_detection/yolov5_ru\u001b[0m\n",
      "\u001b[34m\u001b[1mval: \u001b[0mScanning '/mnt/2015P002510/rakin/cervical_cancer/cervix_detection/yolov5_ru\u001b[0m\n",
      "\u001b[34m\u001b[1mval: \u001b[0mScanning '/mnt/2015P002510/rakin/cervical_cancer/cervix_detection/yolov5_ru\u001b[0m\n",
      "\u001b[34m\u001b[1mval: \u001b[0mScanning '/mnt/2015P002510/rakin/cervical_cancer/cervix_detection/yolov5_ru\u001b[0m[00:00<?, ?it/s]\n",
      "               Class     Images     Labels          P          R     mAP@.5 mAP@.5:.95: 100% 3/3 [00:08<00:00,  2.92s/it]\n",
      "                 all         91         91          1          1      0.995      0.939\n",
      "Speed: 0.2ms pre-process, 2.2ms inference, 0.5ms NMS per image at shape (32, 3, 640, 640)\n",
      "Results saved to \u001b[1m/mnt/2015P002510/rakin/cervical_cancer/cervix_detection/yolov5_runs/20221101_retrain_exp3ep100/val_5study_test2_91/train_100ep_yolov5s_5study_liger_80_10_10_weights\u001b[0m\n"
     ]
    }
   ],
   "source": [
    "!python /mnt/2015P002510/rakin/object_detection_repos/yolov5/val.py \\\n",
    "--weights /mnt/2015P002510/rakin/cervical_cancer/cervix_detection/yolov5_runs/20221101_retrain_exp3ep100/train_100ep_yolov5s_5study_liger_80_10_10.pt \\\n",
    "--data /mnt/2015P002510/rakin/object_detection_repos/yolov5/data/20221101_test_91.yaml \\\n",
    "--project /mnt/2015P002510/rakin/cervical_cancer/cervix_detection/yolov5_runs/20221101_retrain_exp3ep100/val_5study_test2_91 \\\n",
    "--name train_100ep_yolov5s_5study_liger_80_10_10_weights"
   ]
  },
  {
   "cell_type": "code",
   "execution_count": 10,
   "id": "5c927353",
   "metadata": {},
   "outputs": [
    {
     "name": "stdout",
     "output_type": "stream",
     "text": [
      "\u001b[34m\u001b[1mval: \u001b[0mdata=/mnt/2015P002510/rakin/object_detection_repos/yolov5/data/20221101_test_91.yaml, weights=['/mnt/2015P002510/rakin/cervical_cancer/cervix_detection/yolov5_runs/20221101_retrain_exp3ep100/train_yolov5s_liger_80_10_10.pt'], batch_size=32, imgsz=640, conf_thres=0.001, iou_thres=0.6, task=val, device=, single_cls=False, augment=False, verbose=False, save_txt=False, save_hybrid=False, save_conf=False, save_json=False, project=/mnt/2015P002510/rakin/cervical_cancer/cervix_detection/yolov5_runs/20221101_retrain_exp3ep100/val_5study_test2_91, name=train_yolov5s_liger_80_10_10_weights, exist_ok=False, half=False, dnn=False\n",
      "YOLOv5 🚀 v6.0-95-g562191f torch 1.9.0a0+2ecb2c7 CUDA:0 (NVIDIA A100-PCIE-40GB MIG 3g.20gb, 19968MiB)\n",
      "\n",
      "Fusing layers... \n",
      "Model Summary: 213 layers, 7012822 parameters, 0 gradients, 15.8 GFLOPs\n",
      "\u001b[34m\u001b[1mval: \u001b[0mScanning '/mnt/2015P002510/rakin/cervical_cancer/cervix_detection/yolov5_ru\u001b[0m\n",
      "\u001b[34m\u001b[1mval: \u001b[0mScanning '/mnt/2015P002510/rakin/cervical_cancer/cervix_detection/yolov5_ru\u001b[0m\n",
      "\u001b[34m\u001b[1mval: \u001b[0mScanning '/mnt/2015P002510/rakin/cervical_cancer/cervix_detection/yolov5_ru\u001b[0m\n",
      "\u001b[34m\u001b[1mval: \u001b[0mScanning '/mnt/2015P002510/rakin/cervical_cancer/cervix_detection/yolov5_ru\u001b[0m[00:00<?, ?it/s]\n",
      "               Class     Images     Labels          P          R     mAP@.5 mAP@.5:.95: 100% 3/3 [00:06<00:00,  2.08s/it]\n",
      "                 all         91         91      0.978      0.967       0.97      0.457\n",
      "Speed: 0.1ms pre-process, 4.4ms inference, 2.4ms NMS per image at shape (32, 3, 640, 640)\n",
      "Results saved to \u001b[1m/mnt/2015P002510/rakin/cervical_cancer/cervix_detection/yolov5_runs/20221101_retrain_exp3ep100/val_5study_test2_91/train_yolov5s_liger_80_10_10_weights\u001b[0m\n"
     ]
    }
   ],
   "source": [
    "!python /mnt/2015P002510/rakin/object_detection_repos/yolov5/val.py \\\n",
    "--weights /mnt/2015P002510/rakin/cervical_cancer/cervix_detection/yolov5_runs/20221101_retrain_exp3ep100/train_yolov5s_liger_80_10_10.pt \\\n",
    "--data /mnt/2015P002510/rakin/object_detection_repos/yolov5/data/20221101_test_91.yaml \\\n",
    "--project /mnt/2015P002510/rakin/cervical_cancer/cervix_detection/yolov5_runs/20221101_retrain_exp3ep100/val_5study_test2_91 \\\n",
    "--name train_yolov5s_liger_80_10_10_weights"
   ]
  },
  {
   "cell_type": "markdown",
   "id": "fde11127",
   "metadata": {},
   "source": [
    "# Export Model"
   ]
  },
  {
   "cell_type": "code",
   "execution_count": 1,
   "id": "8bb1ec0c",
   "metadata": {},
   "outputs": [
    {
     "name": "stdout",
     "output_type": "stream",
     "text": [
      "\u001b[34m\u001b[1mexport_rakin: \u001b[0mdata=/mnt/2015P002510/rakin/object_detection_repos/yolov5/data/20221101_cervix_5study_liger_80_10_10.yaml, weights=/mnt/2015P002510/rakin/cervical_cancer/cervix_detection/yolov5_runs/20221101_retrain_exp3ep100/train_100ep_yolov5s_5study_liger_80_10_10.pt, imgsz=[320, 320], batch_size=1, device=cpu, half=False, inplace=False, train=False, optimize=False, int8=True, dynamic=False, simplify=False, opset=13, topk_per_class=100, topk_all=100, iou_thres=0.45, conf_thres=0.25, include=['tflite']\n",
      "YOLOv5 🚀 v6.0-95-g562191f torch 1.9.0a0+2ecb2c7 CPU\n",
      "\n",
      "Fusing layers... \n",
      "Model Summary: 213 layers, 7012822 parameters, 0 gradients, 15.8 GFLOPs\n",
      "\n",
      "\u001b[34m\u001b[1mPyTorch:\u001b[0m starting from /mnt/2015P002510/rakin/cervical_cancer/cervix_detection/yolov5_runs/20221101_retrain_exp3ep100/train_100ep_yolov5s_5study_liger_80_10_10.pt (14.4 MB)\n",
      "2022-11-17 04:32:35.528266: I tensorflow/core/platform/cpu_feature_guard.cc:193] This TensorFlow binary is optimized with oneAPI Deep Neural Network Library (oneDNN) to use the following CPU instructions in performance-critical operations:  AVX2 FMA\n",
      "To enable them in other operations, rebuild TensorFlow with the appropriate compiler flags.\n",
      "2022-11-17 04:32:35.802337: E tensorflow/stream_executor/cuda/cuda_blas.cc:2981] Unable to register cuBLAS factory: Attempting to register factory for plugin cuBLAS when one has already been registered\n",
      "\n",
      "\u001b[34m\u001b[1mTensorFlow saved_model:\u001b[0m starting export with tensorflow 2.10.1...\n",
      "\n",
      "                 from  n    params  module                                  arguments                     \n",
      "2022-11-17 04:32:38.780966: E tensorflow/stream_executor/cuda/cuda_driver.cc:265] failed call to cuInit: CUDA_ERROR_NO_DEVICE: no CUDA-capable device is detected\n",
      "2022-11-17 04:32:38.781015: I tensorflow/stream_executor/cuda/cuda_diagnostics.cc:163] no NVIDIA GPU device is present: /dev/nvidia0 does not exist\n",
      "2022-11-17 04:32:38.781325: I tensorflow/core/platform/cpu_feature_guard.cc:193] This TensorFlow binary is optimized with oneAPI Deep Neural Network Library (oneDNN) to use the following CPU instructions in performance-critical operations:  AVX2 FMA\n",
      "To enable them in other operations, rebuild TensorFlow with the appropriate compiler flags.\n",
      "  0                -1  1      3520  models.common.Conv                      [3, 32, 6, 2, 2]              \n",
      "  1                -1  1     18560  models.common.Conv                      [32, 64, 3, 2]                \n",
      "  2                -1  1     18816  models.common.C3                        [64, 64, 1]                   \n",
      "  3                -1  1     73984  models.common.Conv                      [64, 128, 3, 2]               \n",
      "  4                -1  1    115712  models.common.C3                        [128, 128, 2]                 \n",
      "  5                -1  1    295424  models.common.Conv                      [128, 256, 3, 2]              \n",
      "  6                -1  1    625152  models.common.C3                        [256, 256, 3]                 \n",
      "  7                -1  1   1180672  models.common.Conv                      [256, 512, 3, 2]              \n",
      "  8                -1  1   1182720  models.common.C3                        [512, 512, 1]                 \n",
      "  9                -1  1    656896  models.common.SPPF                      [512, 512, 5]                 \n",
      " 10                -1  1    131584  models.common.Conv                      [512, 256, 1, 1]              \n",
      " 11                -1  1         0  torch.nn.modules.upsampling.Upsample    [None, 2, 'nearest']          \n",
      " 12           [-1, 6]  1         0  models.common.Concat                    [1]                           \n",
      " 13                -1  1    361984  models.common.C3                        [512, 256, 1, False]          \n",
      " 14                -1  1     33024  models.common.Conv                      [256, 128, 1, 1]              \n",
      " 15                -1  1         0  torch.nn.modules.upsampling.Upsample    [None, 2, 'nearest']          \n",
      " 16           [-1, 4]  1         0  models.common.Concat                    [1]                           \n",
      " 17                -1  1     90880  models.common.C3                        [256, 128, 1, False]          \n",
      " 18                -1  1    147712  models.common.Conv                      [128, 128, 3, 2]              \n",
      " 19          [-1, 14]  1         0  models.common.Concat                    [1]                           \n",
      " 20                -1  1    296448  models.common.C3                        [256, 256, 1, False]          \n",
      " 21                -1  1    590336  models.common.Conv                      [256, 256, 3, 2]              \n",
      " 22          [-1, 10]  1         0  models.common.Concat                    [1]                           \n",
      " 23                -1  1   1182720  models.common.C3                        [512, 512, 1, False]          \n",
      " 24      [17, 20, 23]  1     16182  models.yolo.Detect                      [1, [[10, 13, 16, 30, 33, 23], [30, 61, 62, 45, 59, 119], [116, 90, 156, 198, 373, 326]], [128, 256, 512], [320, 320]]\n",
      "Model: \"model\"\n",
      "__________________________________________________________________________________________________\n",
      " Layer (type)                   Output Shape         Param #     Connected to                     \n",
      "==================================================================================================\n",
      " input_1 (InputLayer)           [(1, 320, 320, 3)]   0           []                               \n",
      "                                                                                                  \n",
      " tf_conv (TFConv)               (1, 160, 160, 32)    3488        ['input_1[0][0]']                \n",
      "                                                                                                  \n",
      " tf_conv_1 (TFConv)             (1, 80, 80, 64)      18496       ['tf_conv[0][0]']                \n",
      "                                                                                                  \n",
      " tfc3 (TFC3)                    (1, 80, 80, 64)      18624       ['tf_conv_1[0][0]']              \n",
      "                                                                                                  \n",
      " tf_conv_7 (TFConv)             (1, 40, 40, 128)     73856       ['tfc3[0][0]']                   \n",
      "                                                                                                  \n",
      " tfc3_1 (TFC3)                  (1, 40, 40, 128)     115200      ['tf_conv_7[0][0]']              \n",
      "                                                                                                  \n",
      " tf_conv_15 (TFConv)            (1, 20, 20, 256)     295168      ['tfc3_1[0][0]']                 \n",
      "                                                                                                  \n",
      " tfc3_2 (TFC3)                  (1, 20, 20, 256)     623872      ['tf_conv_15[0][0]']             \n",
      "                                                                                                  \n",
      " tf_conv_25 (TFConv)            (1, 10, 10, 512)     1180160     ['tfc3_2[0][0]']                 \n",
      "                                                                                                  \n",
      " tfc3_3 (TFC3)                  (1, 10, 10, 512)     1181184     ['tf_conv_25[0][0]']             \n",
      "                                                                                                  \n",
      " tfsppf (TFSPPF)                (1, 10, 10, 512)     656128      ['tfc3_3[0][0]']                 \n",
      "                                                                                                  \n",
      " tf_conv_33 (TFConv)            (1, 10, 10, 256)     131328      ['tfsppf[0][0]']                 \n",
      "                                                                                                  \n",
      " tf_upsample (TFUpsample)       (1, 20, 20, 256)     0           ['tf_conv_33[0][0]']             \n",
      "                                                                                                  \n",
      " tf_concat (TFConcat)           (1, 20, 20, 512)     0           ['tf_upsample[0][0]',            \n",
      "                                                                  'tfc3_2[0][0]']                 \n",
      "                                                                                                  \n",
      " tfc3_4 (TFC3)                  (1, 20, 20, 256)     361216      ['tf_concat[0][0]']              \n",
      "                                                                                                  \n",
      " tf_conv_39 (TFConv)            (1, 20, 20, 128)     32896       ['tfc3_4[0][0]']                 \n",
      "                                                                                                  \n",
      " tf_upsample_1 (TFUpsample)     (1, 40, 40, 128)     0           ['tf_conv_39[0][0]']             \n",
      "                                                                                                  \n",
      " tf_concat_1 (TFConcat)         (1, 40, 40, 256)     0           ['tf_upsample_1[0][0]',          \n",
      "                                                                  'tfc3_1[0][0]']                 \n",
      "                                                                                                  \n",
      " tfc3_5 (TFC3)                  (1, 40, 40, 128)     90496       ['tf_concat_1[0][0]']            \n",
      "                                                                                                  \n",
      " tf_conv_45 (TFConv)            (1, 20, 20, 128)     147584      ['tfc3_5[0][0]']                 \n",
      "                                                                                                  \n",
      " tf_concat_2 (TFConcat)         (1, 20, 20, 256)     0           ['tf_conv_45[0][0]',             \n",
      "                                                                  'tf_conv_39[0][0]']             \n",
      "                                                                                                  \n",
      " tfc3_6 (TFC3)                  (1, 20, 20, 256)     295680      ['tf_concat_2[0][0]']            \n",
      "                                                                                                  \n",
      " tf_conv_51 (TFConv)            (1, 10, 10, 256)     590080      ['tfc3_6[0][0]']                 \n",
      "                                                                                                  \n",
      " tf_concat_3 (TFConcat)         (1, 10, 10, 512)     0           ['tf_conv_51[0][0]',             \n",
      "                                                                  'tf_conv_33[0][0]']             \n",
      "                                                                                                  \n",
      " tfc3_7 (TFC3)                  (1, 10, 10, 512)     1181184     ['tf_concat_3[0][0]']            \n",
      "                                                                                                  \n",
      " tf_detect (TFDetect)           ((1, 6300, 6),       16182       ['tfc3_5[0][0]',                 \n",
      "                                 [(1, 3, 1600, 6),                'tfc3_6[0][0]',                 \n",
      "                                 (1, 3, 400, 6),                  'tfc3_7[0][0]']                 \n",
      "                                 (1, 3, 100, 6)])                                                 \n",
      "                                                                                                  \n",
      "==================================================================================================\n",
      "Total params: 7,012,822\n",
      "Trainable params: 0\n",
      "Non-trainable params: 7,012,822\n",
      "__________________________________________________________________________________________________\n",
      "Compiled the loaded model, but the compiled metrics have yet to be built. `model.compile_metrics` will be empty until you train or evaluate the model.\n",
      "Found untraced functions such as tf_conv_2_layer_call_fn, tf_conv_2_layer_call_and_return_conditional_losses, tf_conv_3_layer_call_fn, tf_conv_3_layer_call_and_return_conditional_losses, tf_conv_4_layer_call_fn while saving (showing 5 of 268). These functions will not be directly callable after loading.\n",
      "Assets written to: /mnt/2015P002510/rakin/cervical_cancer/cervix_detection/yolov5_runs/20221101_retrain_exp3ep100/train_100ep_yolov5s_5study_liger_80_10_10_saved_model/assets\n",
      "\u001b[34m\u001b[1mTensorFlow saved_model:\u001b[0m export success, saved as /mnt/2015P002510/rakin/cervical_cancer/cervix_detection/yolov5_runs/20221101_retrain_exp3ep100/train_100ep_yolov5s_5study_liger_80_10_10_saved_model (240.1 MB)\n",
      "\n",
      "\u001b[34m\u001b[1mTensorFlow Lite:\u001b[0m starting export with tensorflow 2.10.1...\n",
      "Found untraced functions such as tf_conv_2_layer_call_fn, tf_conv_2_layer_call_and_return_conditional_losses, tf_conv_3_layer_call_fn, tf_conv_3_layer_call_and_return_conditional_losses, tf_conv_4_layer_call_fn while saving (showing 5 of 268). These functions will not be directly callable after loading.\n",
      "Assets written to: /tmp/tmprbna7yus/assets\n",
      "/opt/conda/lib/python3.8/site-packages/tensorflow/lite/python/convert.py:766: UserWarning: Statistics for quantized inputs were expected, but not specified; continuing anyway.\n",
      "  warnings.warn(\"Statistics for quantized inputs were expected, but not \"\n",
      "2022-11-17 04:33:56.407383: W tensorflow/compiler/mlir/lite/python/tf_tfl_flatbuffer_helpers.cc:362] Ignored output_format.\n",
      "2022-11-17 04:33:56.407488: W tensorflow/compiler/mlir/lite/python/tf_tfl_flatbuffer_helpers.cc:365] Ignored drop_control_dependency.\n",
      "2022-11-17 04:33:56.408419: I tensorflow/cc/saved_model/reader.cc:45] Reading SavedModel from: /tmp/tmprbna7yus\n",
      "2022-11-17 04:33:56.456119: I tensorflow/cc/saved_model/reader.cc:89] Reading meta graph with tags { serve }\n",
      "2022-11-17 04:33:56.456234: I tensorflow/cc/saved_model/reader.cc:130] Reading SavedModel debug info (if present) from: /tmp/tmprbna7yus\n",
      "2022-11-17 04:33:56.590017: I tensorflow/compiler/mlir/mlir_graph_optimization_pass.cc:354] MLIR V1 optimization pass is not enabled\n",
      "2022-11-17 04:33:56.633987: I tensorflow/cc/saved_model/loader.cc:229] Restoring SavedModel bundle.\n",
      "2022-11-17 04:33:56.990698: I tensorflow/cc/saved_model/loader.cc:213] Running initialization op on SavedModel bundle at path: /tmp/tmprbna7yus\n",
      "2022-11-17 04:33:57.158533: I tensorflow/cc/saved_model/loader.cc:305] SavedModel load for tags { serve }; Status: success: OK. Took 750118 microseconds.\n",
      "2022-11-17 04:33:57.739855: I tensorflow/compiler/mlir/tensorflow/utils/dump_mlir_util.cc:268] disabling MLIR crash reproducer, set env var `MLIR_CRASH_REPRODUCER_DIRECTORY` to enable.\n",
      "2022-11-17 04:33:58.238340: I tensorflow/compiler/mlir/lite/flatbuffer_export.cc:1989] Estimated count of arithmetic ops: 4.334 G  ops, equivalently 2.167 G  MACs\n",
      "\n",
      "Estimated count of arithmetic ops: 4.334 G  ops, equivalently 2.167 G  MACs\n",
      "\u001b[34m\u001b[1mTensorFlow Lite:\u001b[0m export success, saved as /mnt/2015P002510/rakin/cervical_cancer/cervix_detection/yolov5_runs/20221101_retrain_exp3ep100/train_100ep_yolov5s_5study_liger_80_10_10-int8.tflite (7.4 MB)\n",
      "\n",
      "Export complete (139.58s)\n",
      "Results saved to \u001b[1m/mnt/2015P002510/rakin/cervical_cancer/cervix_detection/yolov5_runs/20221101_retrain_exp3ep100\u001b[0m\n",
      "Visualize with https://netron.app\n"
     ]
    }
   ],
   "source": [
    "# imgsz 320\n",
    "\n",
    "!python /mnt/2015P002510/rakin/object_detection_repos/yolov5/export_rakin.py \\\n",
    "--data /mnt/2015P002510/rakin/object_detection_repos/yolov5/data/20221101_cervix_5study_liger_80_10_10.yaml \\\n",
    "--weights /mnt/2015P002510/rakin/cervical_cancer/cervix_detection/yolov5_runs/20221101_retrain_exp3ep100/train_100ep_yolov5s_5study_liger_80_10_10.pt \\\n",
    "--imgsz 320 320 \\\n",
    "--include tflite --int8"
   ]
  },
  {
   "cell_type": "code",
   "execution_count": null,
   "id": "408c962c",
   "metadata": {},
   "outputs": [],
   "source": []
  }
 ],
 "metadata": {
  "kernelspec": {
   "display_name": "Python 3",
   "language": "python",
   "name": "python3"
  },
  "language_info": {
   "codemirror_mode": {
    "name": "ipython",
    "version": 3
   },
   "file_extension": ".py",
   "mimetype": "text/x-python",
   "name": "python",
   "nbconvert_exporter": "python",
   "pygments_lexer": "ipython3",
   "version": "3.8.8"
  }
 },
 "nbformat": 4,
 "nbformat_minor": 5
}
